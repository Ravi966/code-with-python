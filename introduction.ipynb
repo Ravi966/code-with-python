{
 "cells": [
  {
   "cell_type": "markdown",
   "id": "ad2db1b1-8189-4bbb-acdd-0b1a1f0cb97a",
   "metadata": {},
   "source": [
    "# INTRODUCTION OF PYTHON \n"
   ]
  },
  {
   "cell_type": "markdown",
   "id": "d63b4d9c-7767-4978-9468-28524d42b5f4",
   "metadata": {},
   "source": [
    "1. WHAT IS PYTHON ?\n",
    "* PYTHON IS A HIGH LEVEL OBJECTED ORIENTED PROGRAMMING LANGUAGE"
   ]
  },
  {
   "cell_type": "markdown",
   "id": "bc027ac9-03f1-4fe6-817f-5618ef422686",
   "metadata": {},
   "source": [
    "## VARIABLE "
   ]
  },
  {
   "cell_type": "markdown",
   "id": "d88b49b1-c9ff-4c8c-84a1-160b5690fc77",
   "metadata": {},
   "source": [
    "* VARIABLE IS A CONTAINER WHERE WE STORE DATA.\n",
    "* VARIABLE IS A SORT NAME OF ANY VALUE."
   ]
  },
  {
   "cell_type": "markdown",
   "id": "3c0b3164-6ea6-4862-b769-d51cf8daeead",
   "metadata": {},
   "source": [
    "### Types of Variable\n",
    "1. Single Variable :- In Single Variable, store the single value.\n",
    "2. Global Variable :- Is Global Variable, store multiple value with multiple variable."
   ]
  },
  {
   "cell_type": "markdown",
   "id": "b70e0b20-1f80-4fb0-8b63-52c7669198f7",
   "metadata": {},
   "source": [
    "### LIMITATION OF VARIABLE\n",
    "1. VARIABLE IS CASE SENSITIVE.\n",
    "2. VARIABLE ALWAYS STARTSWITH ALPHABET.\n",
    "3. WE CANNOT INSERT SPACE OR SPECIAL CHARACTER IN VARIRABLE. (!@#$%^&*-+).\n",
    "4. VARIABLE IS ALPHA NUMERIC.\n",
    "5. IN BETWEEN OR LAST OF THE VARIABLE WE CAN USE UNDER_SCORE (_)."
   ]
  },
  {
   "cell_type": "markdown",
   "id": "c27186ed-9ac6-4d08-a07d-335f862245fe",
   "metadata": {
    "jp-MarkdownHeadingCollapsed": true
   },
   "source": [
    "### COMMENTS :-\n",
    "* IT IS A STATEMENT THAT WE WANT TO SHOW IN CODE BUT DON'T WANT TO EXECUTE WITH CODE.\n",
    "\n",
    "#### TYPES OF COMMENTS \n",
    "* SINGLE COMMENTS :- IT IS DENOTED BY #\n",
    "* MULTIPLE COMMENTS :- IT IS DENOTED BY ''' '''"
   ]
  },
  {
   "cell_type": "markdown",
   "id": "834d1c8b-3856-444e-bf59-79db539c54eb",
   "metadata": {},
   "source": [
    "# Data Type\n",
    "\n",
    "1. Text Data  :-  string  ------   str\n",
    "2. Numerical Data :- 1. Integer int  2. float    3. Complex\n",
    "3. Sequence Data :- 1. List    2. Tuple   3. range\n",
    "4. Mapping Data :- Dictionary\n",
    "5. set :-  set\n",
    "6. Boolen data :- True False\n",
    "7. Binary data :-0101010101\n",
    "8. None :-  None"
   ]
  },
  {
   "cell_type": "markdown",
   "id": "4d0d349c-1557-4b01-b97a-47de4506e15b",
   "metadata": {},
   "source": [
    "# Operators \n",
    "## Types of Operators\n",
    "1. Arithmetic Operators :- Used to perform common Mathematical functions\n",
    "2. Assignment Operators :- Used to assign (give) values to variables (Or) Assignment operators are used to assign values to variables:\n",
    "3. Comparison Operators :- Used to compare two values (Or) Comparison operators are used to compare two or More than two values:\n",
    "4. Logical Operators    :- Used on Conditional statements (either TRUE, FALSE) (Or) Logical operators are used to combine statements:\n",
    "5. Membership Operators :- Used to test if a sequence is presented in an object.\n",
    "6. Identity Operators   :- Used to compare the objects, not if they are equal, but if they are actually the same object, with the same memory location:\n",
    "7. Bitwise Operators    :- Used to compare (binary) numbers (Or) Work only on integer - used to perform bitwise calculations on integers, converted into\n",
    "                           binary and them operation perform on each bit or pair of bits "
   ]
  },
  {
   "cell_type": "markdown",
   "id": "e46a2bfb-239f-4e85-9307-dc863afd3aa0",
   "metadata": {},
   "source": [
    "## Airthmatic Operators\n",
    "1. Addition\n",
    "2. Substraction\n",
    "3. Multiplication\n",
    "4. / Division\n",
    "5. % Modules :- Its show the reminder between two number\n",
    "6. // Floor Division :- Its show the value before the decimal after the division\n",
    "7. ** Exponentation or Exponents :- Its show the power of any number"
   ]
  },
  {
   "cell_type": "code",
   "execution_count": 1,
   "id": "c2c1bed6-4f66-4447-a4b0-6755425c443c",
   "metadata": {},
   "outputs": [],
   "source": [
    "# and :- its return true when both condition are true\n",
    "# or :- its return true when at least one condition is true.\n",
    "# not :- its reverse the output of and ,or"
   ]
  },
  {
   "cell_type": "code",
   "execution_count": 39,
   "id": "bada1a98-9704-425b-9168-2bb773174b0d",
   "metadata": {},
   "outputs": [
    {
     "name": "stdout",
     "output_type": "stream",
     "text": [
      "Addition :  22\n",
      "Multiplication :  120\n",
      "Substraction:  -2\n",
      "Division :  0.8333333333333334\n",
      "Modules :  10\n",
      "Floor Division :  0\n",
      "Exponents:  1000000000000\n"
     ]
    }
   ],
   "source": [
    "print(\"Addition : \",x+y)\n",
    "print(\"Multiplication : \",x*y)\n",
    "print(\"Substraction: \",x-y)\n",
    "print(\"Division : \",x/y)\n",
    "print(\"Modules : \",x%y)\n",
    "print(\"Floor Division : \",x//y)\n",
    "print(\"Exponents: \",x**y)"
   ]
  },
  {
   "cell_type": "markdown",
   "id": "4541aa5a-6c92-4cc8-b808-b156b0fe29a8",
   "metadata": {},
   "source": [
    "1. Write a python program to calculate the sum and show the multiplication of these number\n",
    "x,y,z =10,25,32\n",
    "2. Write a python program to show reminder between these number 45 and 8\n",
    "3. Write a python program to show cube value 9\n",
    "4. Write a python program to show the square value 25\n",
    "5. Solve it \n",
    "x,y,z = 10,12,14\n",
    "1. (x+y)*(x-y)\n",
    "2. (x+y+z)+100\n",
    "3. (x/y)+(y/z)\n",
    "6. Show the area of square which length is 12 cm \n",
    "\n",
    "\n"
   ]
  },
  {
   "cell_type": "code",
   "execution_count": 33,
   "id": "2c2e1fea-8336-4ee5-86f4-8a00373b301d",
   "metadata": {},
   "outputs": [],
   "source": [
    "x,y,z =10,25,32"
   ]
  },
  {
   "cell_type": "code",
   "execution_count": 34,
   "id": "dae6b17c-5cb7-4eee-97d1-4d772e925b38",
   "metadata": {},
   "outputs": [
    {
     "name": "stdout",
     "output_type": "stream",
     "text": [
      "67\n",
      "8000\n"
     ]
    }
   ],
   "source": [
    "print(x+y+z)#1 \n",
    "print(x*y*z)"
   ]
  },
  {
   "cell_type": "code",
   "execution_count": 8,
   "id": "c54fc99d-a7b2-4fa7-a84f-a192836009be",
   "metadata": {},
   "outputs": [
    {
     "name": "stdout",
     "output_type": "stream",
     "text": [
      "5\n"
     ]
    }
   ],
   "source": [
    "print(45%8) #2"
   ]
  },
  {
   "cell_type": "code",
   "execution_count": 9,
   "id": "681091cb-2ca1-4319-a8a3-288e9b6d13b6",
   "metadata": {},
   "outputs": [
    {
     "name": "stdout",
     "output_type": "stream",
     "text": [
      "729\n"
     ]
    }
   ],
   "source": [
    "print(9**3) #3"
   ]
  },
  {
   "cell_type": "code",
   "execution_count": 17,
   "id": "801f582d-00cc-44d4-a758-d738ab2a6f37",
   "metadata": {},
   "outputs": [
    {
     "name": "stdout",
     "output_type": "stream",
     "text": [
      "625\n"
     ]
    }
   ],
   "source": [
    "print(25**2) #4"
   ]
  },
  {
   "cell_type": "code",
   "execution_count": 35,
   "id": "e199e757-5fae-45a6-ad25-c17c0b7fff3b",
   "metadata": {},
   "outputs": [],
   "source": [
    "x=10 #5\n",
    "y=12\n",
    "z = 14"
   ]
  },
  {
   "cell_type": "code",
   "execution_count": 29,
   "id": "26b04f66-3b1a-451b-9784-9183c72aecb9",
   "metadata": {},
   "outputs": [
    {
     "name": "stdout",
     "output_type": "stream",
     "text": [
      "-44\n"
     ]
    }
   ],
   "source": [
    "x, y, z = 10, 12, 14 #6\n",
    "result = (x + y) * (x - y)\n",
    "print(result)\n"
   ]
  },
  {
   "cell_type": "code",
   "execution_count": 37,
   "id": "614a06bb-e42a-42a7-baff-310a37ead3c8",
   "metadata": {},
   "outputs": [
    {
     "name": "stdout",
     "output_type": "stream",
     "text": [
      "136\n"
     ]
    }
   ],
   "source": [
    "x ,y ,z = 10,12,14 #7\n",
    "asdf = (x +y +z)\n",
    "print(asdf+100)"
   ]
  },
  {
   "cell_type": "code",
   "execution_count": 38,
   "id": "bbf7b8d0-7a4f-41ed-a668-458e7175e6c1",
   "metadata": {},
   "outputs": [
    {
     "name": "stdout",
     "output_type": "stream",
     "text": [
      "1.6904761904761905\n"
     ]
    }
   ],
   "source": [
    "x ,y ,z = 10,12,14 #8\n",
    "jkl =(x/y)+(y/z)\n",
    "print(jkl)"
   ]
  },
  {
   "cell_type": "code",
   "execution_count": 39,
   "id": "465697bf-b373-4b01-90b1-68fb9c59bf0f",
   "metadata": {},
   "outputs": [
    {
     "name": "stdout",
     "output_type": "stream",
     "text": [
      "144\n"
     ]
    }
   ],
   "source": [
    "print(12**2)"
   ]
  },
  {
   "cell_type": "code",
   "execution_count": 24,
   "id": "2e376e3e-0771-416b-8b4a-721a2b5868f7",
   "metadata": {},
   "outputs": [
    {
     "name": "stdout",
     "output_type": "stream",
     "text": [
      "<class 'complex'>\n"
     ]
    }
   ],
   "source": [
    "x =45j\n",
    "print(type(x))"
   ]
  },
  {
   "cell_type": "code",
   "execution_count": 25,
   "id": "935d5cec-b4f9-4610-a033-778fa7e21d1a",
   "metadata": {},
   "outputs": [
    {
     "name": "stdout",
     "output_type": "stream",
     "text": [
      "<class 'list'>\n"
     ]
    }
   ],
   "source": [
    "x = [12,45,23]\n",
    "print(type(x))"
   ]
  },
  {
   "cell_type": "code",
   "execution_count": 26,
   "id": "a50f94e9-0af6-451f-9f5a-3c3844b421c7",
   "metadata": {},
   "outputs": [
    {
     "name": "stdout",
     "output_type": "stream",
     "text": [
      "<class 'tuple'>\n"
     ]
    }
   ],
   "source": [
    "x = (12,45,23)\n",
    "print(type(x))"
   ]
  },
  {
   "cell_type": "code",
   "execution_count": 27,
   "id": "2d39f544-b1ef-4964-b8fb-38f9a613c346",
   "metadata": {},
   "outputs": [
    {
     "data": {
      "text/plain": [
       "range(1, 100)"
      ]
     },
     "execution_count": 27,
     "metadata": {},
     "output_type": "execute_result"
    }
   ],
   "source": [
    "range(1,100)"
   ]
  },
  {
   "cell_type": "code",
   "execution_count": 14,
   "id": "d0e37cb1-88b8-4e3c-b51d-4ca4ca13fde3",
   "metadata": {},
   "outputs": [],
   "source": [
    "x =45\n",
    "z =454\n",
    "a=486"
   ]
  },
  {
   "cell_type": "code",
   "execution_count": 15,
   "id": "18c8c1b5-101f-4cd8-b203-ed2f8740d0e6",
   "metadata": {},
   "outputs": [
    {
     "name": "stdout",
     "output_type": "stream",
     "text": [
      "985\n"
     ]
    }
   ],
   "source": [
    "print(x+z+a)"
   ]
  },
  {
   "cell_type": "code",
   "execution_count": 16,
   "id": "cfd61321-d6af-4f6a-b252-f7f3df274d48",
   "metadata": {},
   "outputs": [],
   "source": [
    "d =x+z+a"
   ]
  },
  {
   "cell_type": "code",
   "execution_count": 22,
   "id": "4311bd24-974b-4392-ae1d-559c76762c2b",
   "metadata": {},
   "outputs": [
    {
     "name": "stdout",
     "output_type": "stream",
     "text": [
      "<class 'int'>\n"
     ]
    }
   ],
   "source": [
    "x = 45\n",
    "print(type(x))"
   ]
  },
  {
   "cell_type": "code",
   "execution_count": 23,
   "id": "156b8ac3-ebf6-443b-9be3-274bd2622bb5",
   "metadata": {},
   "outputs": [
    {
     "name": "stdout",
     "output_type": "stream",
     "text": [
      "<class 'float'>\n"
     ]
    }
   ],
   "source": [
    "x =45.44\n",
    "print(type(x))"
   ]
  },
  {
   "cell_type": "markdown",
   "id": "01252b7a-f417-4fcc-a4c8-c7d11df240d9",
   "metadata": {},
   "source": [
    "### Condition formatting\n",
    "#### if else : it is used to print the statement according to user\n",
    "\n",
    "#### Write a python program to print the statment if number is greater than 10 then\n",
    "#### print yes else print no"
   ]
  },
  {
   "cell_type": "code",
   "execution_count": 4,
   "id": "97d776bb-411f-4fda-a584-8fa3d15a722b",
   "metadata": {},
   "outputs": [],
   "source": [
    "# Comperision operators with conditional Formatting\n",
    "# >\n",
    "# <\n",
    "# >=\n",
    "# <=\n",
    "# !=\n",
    "# if x is greater than y than print yes else print no"
   ]
  },
  {
   "cell_type": "code",
   "execution_count": 5,
   "id": "ee6adda8-d94a-4aa2-8c24-3345b060ba61",
   "metadata": {},
   "outputs": [
    {
     "name": "stdout",
     "output_type": "stream",
     "text": [
      "no\n"
     ]
    }
   ],
   "source": [
    "x = 89\n",
    "y = 100\n",
    "if x>y:\n",
    "    print(\"yes\")\n",
    "else:\n",
    "    print(\"no\")"
   ]
  },
  {
   "cell_type": "code",
   "execution_count": 2,
   "id": "ba212b4e-b50d-4f5f-9c80-36c7cb9c50d3",
   "metadata": {},
   "outputs": [
    {
     "name": "stdout",
     "output_type": "stream",
     "text": [
      "Even Number\n"
     ]
    }
   ],
   "source": [
    "x = 468\n",
    "if x%2==0:\n",
    "  print(\"Even Number\")\n",
    "else:\n",
    "  print(\"Odd number\")"
   ]
  },
  {
   "cell_type": "code",
   "execution_count": 19,
   "id": "3591f2a8-a6a9-4a02-8e91-30b8d0a3f3c0",
   "metadata": {},
   "outputs": [
    {
     "name": "stdout",
     "output_type": "stream",
     "text": [
      "Yes\n"
     ]
    }
   ],
   "source": [
    "# write a Python program if 5 is divisible by 25\n",
    "x =25\n",
    "if x%5 == 0:\n",
    "    print(\"Yes\")\n",
    "else:\n",
    "    print(\"No\")"
   ]
  },
  {
   "cell_type": "markdown",
   "id": "f15bd68a-c27d-42db-8dfc-9d117361f0b7",
   "metadata": {},
   "source": [
    "#### Typecasting\n",
    "#### Swapping"
   ]
  },
  {
   "cell_type": "markdown",
   "id": "56730dc7-c493-462f-92d5-6092d169e462",
   "metadata": {},
   "source": [
    "* Typecasting :- it is a technique where we convert the data type values"
   ]
  },
  {
   "cell_type": "code",
   "execution_count": 26,
   "id": "6888d1f6-bcab-4478-b581-ccda74d77212",
   "metadata": {},
   "outputs": [
    {
     "name": "stdout",
     "output_type": "stream",
     "text": [
      "45100\n",
      "<class 'str'>\n"
     ]
    }
   ],
   "source": [
    "x = \"45\"\n",
    "y = \"100\"\n",
    "print(x +y)\n",
    "print(type(x))"
   ]
  },
  {
   "cell_type": "code",
   "execution_count": 24,
   "id": "0a1a6c84-2d3e-42b5-9732-2967a406ed61",
   "metadata": {},
   "outputs": [
    {
     "name": "stdout",
     "output_type": "stream",
     "text": [
      "145\n"
     ]
    }
   ],
   "source": [
    "# typecasting the x\n",
    "x = int(x)\n",
    "y = int(y)\n",
    "print(x +y)"
   ]
  },
  {
   "cell_type": "code",
   "execution_count": 25,
   "id": "7010e784-4b78-4b1c-a1da-2865c015e668",
   "metadata": {},
   "outputs": [
    {
     "name": "stdout",
     "output_type": "stream",
     "text": [
      "145.0\n"
     ]
    }
   ],
   "source": [
    "x = int(x)\n",
    "y = float(y)\n",
    "print(x +y)"
   ]
  },
  {
   "cell_type": "code",
   "execution_count": 27,
   "id": "9fa5a37c-1361-434a-9307-5ec90dcef27b",
   "metadata": {},
   "outputs": [
    {
     "name": "stdout",
     "output_type": "stream",
     "text": [
      "4\n"
     ]
    }
   ],
   "source": [
    "x =\"Ravi\"\n",
    "print(len(x))"
   ]
  },
  {
   "cell_type": "code",
   "execution_count": 29,
   "id": "68207b4e-b5a3-4e14-baf3-767e5dd7140b",
   "metadata": {},
   "outputs": [
    {
     "name": "stdout",
     "output_type": "stream",
     "text": [
      "9\n"
     ]
    }
   ],
   "source": [
    "x =544548941\n",
    "x = str(x)\n",
    "print(len(x))"
   ]
  },
  {
   "cell_type": "code",
   "execution_count": 36,
   "id": "0bbe8298-08db-4eb4-9725-2aec2fa99c06",
   "metadata": {},
   "outputs": [
    {
     "name": "stdout",
     "output_type": "stream",
     "text": [
      "458\n",
      "12\n",
      "<class 'complex'>\n",
      "5\n"
     ]
    }
   ],
   "source": [
    "# 1. Find the sum of these number\n",
    "x =\"250\"\n",
    "y = \"163\"\n",
    "z = 45\n",
    "x = int(x)\n",
    "y = int(y)\n",
    "print(x+y+z)\n",
    "# 2. show the length of \"data science\"\n",
    "print(len(\"data science\"))\n",
    "# 3. Show the data type of 45j\n",
    "q = 45j\n",
    "print(type(q))\n",
    "# 4. show the total number of digit\n",
    "x =45687\n",
    "x= str(x)\n",
    "print(len(x))"
   ]
  },
  {
   "cell_type": "code",
   "execution_count": 37,
   "id": "366fae15-6aa2-4b43-a4d6-0c9bd9aa1d3f",
   "metadata": {},
   "outputs": [],
   "source": [
    "# Swappings :- it is a technique where we exchange the value to another value"
   ]
  },
  {
   "cell_type": "code",
   "execution_count": 48,
   "id": "171931e9-2ef2-4f30-9e77-5127bceb8cf8",
   "metadata": {},
   "outputs": [],
   "source": [
    "x = 12\n",
    "y = 23"
   ]
  },
  {
   "cell_type": "code",
   "execution_count": 49,
   "id": "8d3900e7-e8c6-4909-a7f2-28e52ded0735",
   "metadata": {},
   "outputs": [
    {
     "name": "stdout",
     "output_type": "stream",
     "text": [
      "x : 12\n",
      "y:  23\n"
     ]
    }
   ],
   "source": [
    "print(\"x :\",x)\n",
    "print(\"y: \",y)"
   ]
  },
  {
   "cell_type": "code",
   "execution_count": 46,
   "id": "83f65b62-fd1a-403d-a1d5-c08a4597f3f2",
   "metadata": {},
   "outputs": [],
   "source": [
    "x,y =y,x"
   ]
  },
  {
   "cell_type": "code",
   "execution_count": 47,
   "id": "b5329bd0-42d2-4fde-ab2b-aa9e790ee423",
   "metadata": {},
   "outputs": [
    {
     "name": "stdout",
     "output_type": "stream",
     "text": [
      "x:  23\n",
      "y:  12\n"
     ]
    }
   ],
   "source": [
    "print(\"x: \",x)\n",
    "print(\"y: \",y)"
   ]
  },
  {
   "cell_type": "code",
   "execution_count": 57,
   "id": "0adef459-c653-4bd8-a397-aed4d952eb72",
   "metadata": {},
   "outputs": [
    {
     "name": "stdout",
     "output_type": "stream",
     "text": [
      "78\n",
      "78\n"
     ]
    }
   ],
   "source": [
    "x,y,z = 45,78,89\n",
    "x = y\n",
    "y,z =x,y\n",
    "print(x)\n",
    "print(z)"
   ]
  },
  {
   "cell_type": "code",
   "execution_count": 2,
   "id": "bd66daf1-ad2a-4cec-a643-8ecf4ed98ad9",
   "metadata": {},
   "outputs": [],
   "source": [
    "# You can take two variables in one time\n",
    "x = 10\n",
    "y= 20\n",
    "z =30\n",
    "# output \n",
    "# x =20 y =30 z =10"
   ]
  },
  {
   "cell_type": "code",
   "execution_count": 3,
   "id": "659446ad-761e-443d-976b-727ab0122ef9",
   "metadata": {},
   "outputs": [
    {
     "name": "stdout",
     "output_type": "stream",
     "text": [
      "20 30 10\n"
     ]
    }
   ],
   "source": [
    "x, y = y, x \n",
    "y ,z = z ,y\n",
    "print(x ,y ,z)"
   ]
  },
  {
   "cell_type": "code",
   "execution_count": 8,
   "id": "a6791a24-5d87-40e1-b4fb-7b908ffe74ad",
   "metadata": {},
   "outputs": [],
   "source": [
    "# wirte a python a program to check the number is between 20 to 30\n",
    "x = 25\n",
    "\n"
   ]
  },
  {
   "cell_type": "code",
   "execution_count": 10,
   "id": "3bf3528f-971c-4fbe-a310-f2ecce65fd60",
   "metadata": {},
   "outputs": [
    {
     "name": "stdout",
     "output_type": "stream",
     "text": [
      "Yes\n"
     ]
    }
   ],
   "source": [
    "x =25\n",
    "if 20<x<30:\n",
    "    print(\"Yes\")\n",
    "else:\n",
    "    print(\"No\")"
   ]
  },
  {
   "cell_type": "code",
   "execution_count": null,
   "id": "c1c47579-26cc-4132-8ba8-09c10418d05a",
   "metadata": {},
   "outputs": [],
   "source": [
    "# Logical Operators :-\n",
    "#    and :- its return true when both condition is true\n",
    "#    Or  :- its return ture when at least one condition is true.\n",
    "#    Not :- its reverse the output of and , or"
   ]
  },
  {
   "cell_type": "code",
   "execution_count": 24,
   "id": "afd64bcb-7ff7-48c9-8611-fba3ffee6956",
   "metadata": {},
   "outputs": [],
   "source": [
    "# Write a python program to show yes is number is greater than 50 and less than 70\n",
    "x = 65"
   ]
  },
  {
   "cell_type": "code",
   "execution_count": 25,
   "id": "d41b8b26-cf7c-42a1-a69c-b26ab8430c60",
   "metadata": {},
   "outputs": [
    {
     "name": "stdout",
     "output_type": "stream",
     "text": [
      "Yes\n"
     ]
    }
   ],
   "source": [
    " \n",
    "if  x>50 and x<70:\n",
    "    print(\"Yes\")\n",
    "else:\n",
    "    print(\"No\")"
   ]
  },
  {
   "cell_type": "code",
   "execution_count": 21,
   "id": "867de5fd-af28-4b1d-91c7-37fcc6169398",
   "metadata": {},
   "outputs": [],
   "source": [
    "# Write a python program to check if number if even and less than 50 than print \"good\" else print \"Bad\"\n",
    "x = 45"
   ]
  },
  {
   "cell_type": "code",
   "execution_count": 26,
   "id": "7e470b31-86a6-49f9-826f-2a7c59f01621",
   "metadata": {},
   "outputs": [
    {
     "name": "stdout",
     "output_type": "stream",
     "text": [
      "Bad\n"
     ]
    }
   ],
   "source": [
    " \n",
    "if x%2 ==0 and x<50:\n",
    "   print(\"Good\")\n",
    "else:\n",
    "    print(\"Bad\")"
   ]
  },
  {
   "cell_type": "code",
   "execution_count": null,
   "id": "b67a7109-3732-46f3-bad5-1b1f067fafed",
   "metadata": {},
   "outputs": [],
   "source": [
    "# Write a python program to check the number is divisible of 7 or 5 if Condition is true than print \"Divisible\" else print \"NOt \n",
    "x =77\n",
    "y =45"
   ]
  },
  {
   "cell_type": "code",
   "execution_count": 28,
   "id": "b0837c09-e9db-4488-b0ed-76efe00f51c7",
   "metadata": {},
   "outputs": [
    {
     "name": "stdout",
     "output_type": "stream",
     "text": [
      "Divisible\n"
     ]
    }
   ],
   "source": [
    "if 77%7 ==0 or 45%5 ==0:\n",
    "    print(\"Divisible\")\n",
    "else :\n",
    "    print(\"Not divisible\")"
   ]
  },
  {
   "cell_type": "code",
   "execution_count": 37,
   "id": "7d0502d9-e151-4b84-b636-ce8125ee801d",
   "metadata": {},
   "outputs": [],
   "source": [
    "# write python program to show the 30% of amount if amount is greater than 5000 else show 10% amount\n",
    "# x =78000\n",
    "x = 4500"
   ]
  },
  {
   "cell_type": "code",
   "execution_count": 38,
   "id": "f1f4a305-b4ea-40f6-9951-a42fb75f66b5",
   "metadata": {},
   "outputs": [
    {
     "name": "stdout",
     "output_type": "stream",
     "text": [
      "450.0\n"
     ]
    }
   ],
   "source": [
    "if x>5000:\n",
    "    print(x*0.3)\n",
    "else:\n",
    "    print(x*0.1)"
   ]
  },
  {
   "cell_type": "code",
   "execution_count": null,
   "id": "83a77a7c-2696-4527-8861-b981aa78fac7",
   "metadata": {},
   "outputs": [],
   "source": [
    "# User input\n",
    "\n",
    "# write a python program to check the number is divisible by 3 or not"
   ]
  },
  {
   "cell_type": "code",
   "execution_count": null,
   "id": "722332a8-75d0-4362-bb5c-f07c655e2b78",
   "metadata": {},
   "outputs": [],
   "source": []
  },
  {
   "cell_type": "code",
   "execution_count": 43,
   "id": "1989cfeb-8151-4ead-9e4b-0d276ba72a82",
   "metadata": {},
   "outputs": [
    {
     "name": "stdin",
     "output_type": "stream",
     "text": [
      "Enter the number :- 5\n"
     ]
    },
    {
     "name": "stdout",
     "output_type": "stream",
     "text": [
      "Not divisible\n"
     ]
    }
   ],
   "source": [
    "x = int(input(\"Enter the number :-\"))\n",
    "if x%3 ==0:\n",
    "    print(\"Divisible\")\n",
    "else:\n",
    "    print(\"Not divisible\")"
   ]
  },
  {
   "cell_type": "code",
   "execution_count": null,
   "id": "5d169a88-5ec7-4954-b4c8-2f3eed76b004",
   "metadata": {},
   "outputs": [],
   "source": [
    "# 1. Write a python program wiht the help of user input to show the number is odd or even\n",
    "# 2. Write a python program with the hlep of user input to show if text of length is greater than 7 then print high else print low\n",
    "# 3. Write a program with the help of user input to check year is leap year or not "
   ]
  },
  {
   "cell_type": "code",
   "execution_count": 45,
   "id": "f7d27d84-442e-43dc-9605-1d7c5f2f2877",
   "metadata": {},
   "outputs": [
    {
     "name": "stdin",
     "output_type": "stream",
     "text": [
      "Enter the number :- 99\n"
     ]
    },
    {
     "name": "stdout",
     "output_type": "stream",
     "text": [
      "Odd Number\n"
     ]
    }
   ],
   "source": [
    "x = int(input(\"Enter the number :-\"))\n",
    "if x%2 ==0:\n",
    "    print(\"Even Number\")\n",
    "else:\n",
    "    print(\"Odd Number\")"
   ]
  },
  {
   "cell_type": "code",
   "execution_count": 3,
   "id": "fd8fff28-aa11-41ee-be56-7192ee88607f",
   "metadata": {},
   "outputs": [
    {
     "name": "stdin",
     "output_type": "stream",
     "text": [
      "Enter the Text Only :- ravi\n"
     ]
    },
    {
     "name": "stdout",
     "output_type": "stream",
     "text": [
      "Low\n"
     ]
    }
   ],
   "source": [
    "x = str(input(\"Enter the Text Only :-\"))\n",
    "if len(x)>7:\n",
    "    print(\"High\")\n",
    "else:\n",
    "    print(\"Low\")"
   ]
  },
  {
   "cell_type": "code",
   "execution_count": 4,
   "id": "5b212bb9-6020-49e7-adea-4603639ed4db",
   "metadata": {},
   "outputs": [
    {
     "name": "stdin",
     "output_type": "stream",
     "text": [
      "Enter the Year Number :-  2024\n"
     ]
    },
    {
     "name": "stdout",
     "output_type": "stream",
     "text": [
      "Leap Year\n"
     ]
    }
   ],
   "source": [
    "year = int(input(\"Enter the Year Number :- \"))\n",
    "if year%4 ==0:\n",
    "    print(\"Leap Year\")\n",
    "else:\n",
    "    print(\"Not Leap Year\")"
   ]
  },
  {
   "cell_type": "code",
   "execution_count": 5,
   "id": "0581de92-8194-4982-a6fb-cc29de09d7ec",
   "metadata": {},
   "outputs": [],
   "source": [
    "# Membership Operator\n",
    "# in \n",
    "# not in "
   ]
  },
  {
   "cell_type": "code",
   "execution_count": 7,
   "id": "c89e4f31-dd63-47b2-a416-354e1e61da54",
   "metadata": {},
   "outputs": [
    {
     "name": "stdout",
     "output_type": "stream",
     "text": [
      "No\n"
     ]
    }
   ],
   "source": [
    "# Write a python to check the alphabet \"t\" exist in text or not\n",
    "x = \"delhi\"\n",
    "if \"t\" in x:\n",
    "    print(\"Yes\")\n",
    "else:\n",
    "    print(\"No\")"
   ]
  },
  {
   "cell_type": "code",
   "execution_count": 13,
   "id": "99b4467c-5268-4e6a-b357-fcccd21e3c62",
   "metadata": {},
   "outputs": [
    {
     "name": "stdin",
     "output_type": "stream",
     "text": [
      "Enter the text :- prince\n"
     ]
    },
    {
     "name": "stdout",
     "output_type": "stream",
     "text": [
      "No\n"
     ]
    }
   ],
   "source": [
    "# write a python program to check the text if a and r preset in text then print yes else print no\n",
    "x = str(input(\"Enter the text :-\"))\n",
    "if \"a\" in x and \"r\" in x:\n",
    "    print(\"Yes\")\n",
    "else:\n",
    "    print(\"No\")"
   ]
  },
  {
   "cell_type": "code",
   "execution_count": 15,
   "id": "f6ea3572-e2cb-4505-ad20-b6ad2e9796c7",
   "metadata": {},
   "outputs": [
    {
     "name": "stdin",
     "output_type": "stream",
     "text": [
      "Enter the text :- ksdj\n"
     ]
    },
    {
     "name": "stdout",
     "output_type": "stream",
     "text": [
      "No\n"
     ]
    }
   ],
   "source": [
    "# Write a python program to print yes if text in \"a\" or \"e\" or \"i\"\n",
    "x = str(input(\"Enter the text :-\"))\n",
    "if (\"a\" in x) or (\"e\" in x )or( \"i\" in x) :\n",
    "    print(\"Yes\")\n",
    "else:\n",
    "    print(\"No\")"
   ]
  },
  {
   "cell_type": "code",
   "execution_count": null,
   "id": "a34e5648-bf5c-4151-893e-4fbfc39e2ab2",
   "metadata": {},
   "outputs": [],
   "source": [
    "# Mark = 400\n",
    "#  if marks is greater than 380 grade = A+\n",
    "#  if marks is greater than 350 grade = A\n",
    "#  if marks is greater than 330 grade = B+\n",
    "#  if marks is greater than 300 grade = B\n",
    "#  else C"
   ]
  },
  {
   "cell_type": "code",
   "execution_count": 16,
   "id": "0019cda9-59fa-431e-b271-70b583614b94",
   "metadata": {},
   "outputs": [
    {
     "name": "stdin",
     "output_type": "stream",
     "text": [
      "Enter the Total Number :- 350\n"
     ]
    },
    {
     "name": "stdout",
     "output_type": "stream",
     "text": [
      "Grade : A\n"
     ]
    }
   ],
   "source": [
    "x = int(input(\"Enter the Total Number :-\"))\n",
    "if x>=380:\n",
    "    print(\"Grade : A+\")\n",
    "elif x>=350:\n",
    "    print(\"Grade : A\")\n",
    "elif x>=330:\n",
    "    print(\"Grade : B+\")\n",
    "elif x>300:\n",
    "    print(\"Grade : B\")\n",
    "else:\n",
    "    print(\"Grade : C\")"
   ]
  },
  {
   "cell_type": "code",
   "execution_count": 1,
   "id": "cb074cc7-dcce-42fc-9596-9c4ed25c94fa",
   "metadata": {},
   "outputs": [
    {
     "name": "stdin",
     "output_type": "stream",
     "text": [
      "Enter the Salary :- 550000\n"
     ]
    },
    {
     "name": "stdout",
     "output_type": "stream",
     "text": [
      "27500.0\n"
     ]
    }
   ],
   "source": [
    "x = int(input(\"Enter the Salary :-\"))\n",
    "if x<300000:\n",
    "        print(\"No Tax\")\n",
    "elif x<700000:\n",
    "        print(x*0.05)\n",
    "elif x<100000:\n",
    "        print(x*0.1)\n",
    "elif x<150000:\n",
    "        print(x*0.15)\n",
    "elif x>150000:\n",
    "    print(x*0.3)"
   ]
  },
  {
   "cell_type": "code",
   "execution_count": 29,
   "id": "ae107294-9370-4b91-bff6-286a847415b1",
   "metadata": {},
   "outputs": [],
   "source": [
    "# show the unit of digit "
   ]
  },
  {
   "cell_type": "code",
   "execution_count": 8,
   "id": "ebc24312-d895-4fe9-ab34-e94f8be98d89",
   "metadata": {},
   "outputs": [
    {
     "name": "stdin",
     "output_type": "stream",
     "text": [
      "Enter the Number :- 500\n"
     ]
    },
    {
     "name": "stdout",
     "output_type": "stream",
     "text": [
      "Hundred\n"
     ]
    }
   ],
   "source": [
    "x = int(input(\"Enter the Number :-\"))\n",
    "if x<10:\n",
    "    print(\"Ones\")\n",
    "elif x<100:\n",
    "    print(\"Tens\")\n",
    "elif x<1000:\n",
    "    print(\"Hundred\")\n",
    "elif x<100000:\n",
    "    print(\"Thousand\")\n",
    "elif x>100000:\n",
    "    print(\"Lakhs\")"
   ]
  },
  {
   "cell_type": "code",
   "execution_count": 41,
   "id": "921c8ab1-a71a-4f38-a96f-9d6de2b74b36",
   "metadata": {},
   "outputs": [],
   "source": [
    "# Calculate \n",
    "# Write a python program to print output\n"
   ]
  },
  {
   "cell_type": "code",
   "execution_count": 14,
   "id": "c947a859-fc9d-42da-9218-d537e30c0e3c",
   "metadata": {},
   "outputs": [
    {
     "name": "stdin",
     "output_type": "stream",
     "text": [
      "Enter the first :- 545148432415845\n",
      "Enter + - * :- *\n",
      "Enter the Second :- 15415484484654645164\n"
     ]
    },
    {
     "name": "stdout",
     "output_type": "stream",
     "text": [
      "Mult :-  8.40372720174026e+33\n"
     ]
    }
   ],
   "source": [
    "x = float(input(\"Enter the first :-\"))\n",
    "y = str(input(\"Enter + - * :-\"))\n",
    "z = float(input(\"Enter the Second :-\"))\n",
    "\n",
    "if y ==\"+\":\n",
    "    print(\"Add :- \",x+z)\n",
    "elif y ==\"-\" : \n",
    "   print(\"Sub :-\",x-y)\n",
    "elif y ==\"*\" :\n",
    "    print(\"Mult :- \",x*z)\n",
    "    \n",
    "\n",
    "    "
   ]
  },
  {
   "cell_type": "code",
   "execution_count": 69,
   "id": "a347daef-1a8f-464f-97a9-690373bf9bef",
   "metadata": {},
   "outputs": [],
   "source": [
    "# Identity operators\n",
    "# is\n",
    "# is not"
   ]
  },
  {
   "cell_type": "code",
   "execution_count": 70,
   "id": "cfdad275-3632-4873-b724-397810832e7d",
   "metadata": {},
   "outputs": [],
   "source": [
    "x = 10\n",
    "y = 10"
   ]
  },
  {
   "cell_type": "code",
   "execution_count": 71,
   "id": "3648fdc4-8017-4ba5-bdd0-1ebc668b5e83",
   "metadata": {},
   "outputs": [
    {
     "name": "stdout",
     "output_type": "stream",
     "text": [
      "False\n"
     ]
    }
   ],
   "source": [
    "print(x is not y)"
   ]
  },
  {
   "cell_type": "code",
   "execution_count": 72,
   "id": "53b347b7-f3b5-45e9-b42c-46be99db7087",
   "metadata": {},
   "outputs": [
    {
     "name": "stdout",
     "output_type": "stream",
     "text": [
      "True\n"
     ]
    }
   ],
   "source": [
    "print(x is y)"
   ]
  },
  {
   "cell_type": "code",
   "execution_count": 2,
   "id": "ffcaf3e4-2031-4c88-bdbf-16ada3a1704b",
   "metadata": {},
   "outputs": [],
   "source": [
    "# Nested if :- We use if inside another if "
   ]
  },
  {
   "cell_type": "code",
   "execution_count": 5,
   "id": "37fbb9f8-fffa-491a-b9a9-c869d3bd2214",
   "metadata": {},
   "outputs": [
    {
     "name": "stdout",
     "output_type": "stream",
     "text": [
      "number is greater than 20\n"
     ]
    }
   ],
   "source": [
    "x = 25\n",
    "if x>20:\n",
    "    print(\"number is greater than 20\")\n",
    "elif x>10:\n",
    "    print(\"number is greater than 10\")"
   ]
  },
  {
   "cell_type": "code",
   "execution_count": 13,
   "id": "06e7fb06-d78a-4dcf-8569-0d806093539c",
   "metadata": {},
   "outputs": [],
   "source": [
    "x = 25\n",
    "if x>25:\n",
    "    print(\"Greater than 20\")\n",
    "    if x>30:\n",
    "        print(\"Greater than 30\")"
   ]
  },
  {
   "cell_type": "code",
   "execution_count": 12,
   "id": "07240e63-4fa4-4746-b4e5-720f3eb69189",
   "metadata": {},
   "outputs": [
    {
     "name": "stdin",
     "output_type": "stream",
     "text": [
      "Enter the user Name :- ravi301\n"
     ]
    },
    {
     "name": "stdout",
     "output_type": "stream",
     "text": [
      "Correct User id :-\n"
     ]
    },
    {
     "name": "stdin",
     "output_type": "stream",
     "text": [
      "Enter the Password :- 12345\n"
     ]
    },
    {
     "name": "stdout",
     "output_type": "stream",
     "text": [
      "Open\n"
     ]
    }
   ],
   "source": [
    "user = \"ravi301\"\n",
    "pas = 12345\n",
    "x = str(input(\"Enter the user Name :-\"))\n",
    "if x == user:\n",
    "    print(\"Correct User id :-\")\n",
    "    y = int(input(\"Enter the Password :-\"))\n",
    "    if y == pas:\n",
    "      print(\"Open\")\n",
    "else:\n",
    "    print(\"Incorrect User id\")\n",
    "    print(\"Try Again\")"
   ]
  },
  {
   "cell_type": "code",
   "execution_count": 14,
   "id": "beaa3517-3c9f-4d4d-9ef7-cfff67db667c",
   "metadata": {},
   "outputs": [],
   "source": [
    "# wirte a python program to if number is greater than 5 than go with nxt if \n",
    "# if number is greater than 20 then show \"Greater than 20\" \n",
    "# else show \"less than twenty\"\n",
    "# else show \"less than Five\""
   ]
  },
  {
   "cell_type": "code",
   "execution_count": 20,
   "id": "23831366-c5fa-45f6-8f99-a321d1ce13a1",
   "metadata": {},
   "outputs": [
    {
     "name": "stdin",
     "output_type": "stream",
     "text": [
      "Enter the Number :- 8\n"
     ]
    },
    {
     "name": "stdout",
     "output_type": "stream",
     "text": [
      "Less than 20\n"
     ]
    }
   ],
   "source": [
    "x = int(input(\"Enter the Number :-\"))\n",
    "if x>5:\n",
    "    if x>20:\n",
    "        print(\"Greater than 20\")\n",
    "    else:\n",
    "        print(\"Less than 20\")\n",
    "else:\n",
    "    print(\"Less than Five\")\n"
   ]
  },
  {
   "cell_type": "code",
   "execution_count": 21,
   "id": "c8b38e6d-d874-4dbb-9647-7aa18ded1f81",
   "metadata": {},
   "outputs": [],
   "source": [
    "# if number is greater tahn 10 then print \"Above 10\"\n",
    "# if number is greater than 20 then print \"Above 20\"\n",
    "# else show less than 10\n",
    "# else show less than 20"
   ]
  },
  {
   "cell_type": "code",
   "execution_count": 25,
   "id": "0877b32c-ca02-41e2-8f74-91764221899a",
   "metadata": {},
   "outputs": [
    {
     "name": "stdin",
     "output_type": "stream",
     "text": [
      "Enter the Number :- 40\n"
     ]
    },
    {
     "name": "stdout",
     "output_type": "stream",
     "text": [
      "Above 10\n",
      "Above 20\n"
     ]
    }
   ],
   "source": [
    "x = int(input(\"Enter the Number :-\"))\n",
    "if x>10:\n",
    "    print(\"Above 10\")\n",
    "    if x>20:\n",
    "        print(\"Above 20\")\n",
    "    else:\n",
    "        print(\"Less than 20\")\n",
    "else:\n",
    "\n",
    "    print(\"less than 10\")"
   ]
  },
  {
   "cell_type": "code",
   "execution_count": 38,
   "id": "25ef3154-f113-428d-874c-9235b2af63b7",
   "metadata": {},
   "outputs": [
    {
     "name": "stdout",
     "output_type": "stream",
     "text": [
      "78 is greatest No\n"
     ]
    }
   ],
   "source": [
    "# wirte a python program to show the greater number\n",
    "\n",
    "x = 45\n",
    "y = 78\n",
    "z = 50\n",
    "if x>y and x>z:\n",
    "    print(x,\"is greatest No\")\n",
    "elif y>x and y>z:\n",
    "    print(y,\"is greatest No\")\n",
    "elif z>x and z>y:\n",
    "    print(z,\"is greatest No\")"
   ]
  },
  {
   "cell_type": "code",
   "execution_count": 40,
   "id": "3a6eb4b5-2bd9-45e2-9389-45de332b4ead",
   "metadata": {},
   "outputs": [
    {
     "name": "stdout",
     "output_type": "stream",
     "text": [
      "45 is lowest No\n"
     ]
    }
   ],
   "source": [
    "# write a python program to show the lowest number\n",
    "x = 45\n",
    "y = 78\n",
    "z = 50\n",
    "if x<y and x<z:\n",
    "    print(x,\"is lowest No\")\n",
    "elif y<x and y<z:\n",
    "    print(y,\"is lowest No\")\n",
    "elif z<x and z<y:\n",
    "    print(z,\"is lowest No\")"
   ]
  },
  {
   "cell_type": "code",
   "execution_count": 1,
   "id": "7ace3fa8-d7a6-428a-82e3-e13853390226",
   "metadata": {},
   "outputs": [],
   "source": [
    "# Write a Python program with the help of user input and show the state and capital according to the user.\n",
    "# bihar ---------- patna\n",
    "# Delhi ---------- New delhi\n",
    "# assam ---------- dispur\n",
    "# punjab --------- Chandigarh\n",
    "# haryana -------- chandigarh"
   ]
  },
  {
   "cell_type": "code",
   "execution_count": 2,
   "id": "c86cda60-51c6-4c5d-9325-d5fe534f3cb1",
   "metadata": {},
   "outputs": [
    {
     "name": "stdin",
     "output_type": "stream",
     "text": [
      "enter the name :- delhi\n"
     ]
    },
    {
     "name": "stdout",
     "output_type": "stream",
     "text": [
      "the capital of  delhi new delhi\n"
     ]
    }
   ],
   "source": [
    "x = str(input(\"enter the name :-\"))\n",
    "if x == \"bihar\":\n",
    "    print(\"THe Capital of\",x,\"Patna\")\n",
    "elif x==\"delhi\":\n",
    "    print(\"the capital of \",x,\"new delhi\")\n",
    "elif x ==\"assam\":\n",
    "    print(\"the capital of\",x,\"dispur\")\n",
    "elif x==\"punjab\":\n",
    "    print(\"the capital of\",x,\"chandigarh\")\n",
    "elif x==\"haryana\":\n",
    "    print(\"the capital of\",x,\"chandigarh\")"
   ]
  },
  {
   "cell_type": "code",
   "execution_count": null,
   "id": "bb06cd7b-505f-46a7-84aa-caf06ae05846",
   "metadata": {},
   "outputs": [],
   "source": []
  },
  {
   "cell_type": "code",
   "execution_count": null,
   "id": "26aa95af-878c-48e2-b71d-2890378fed55",
   "metadata": {},
   "outputs": [],
   "source": []
  },
  {
   "cell_type": "code",
   "execution_count": null,
   "id": "e02ba6a7-8cb8-430e-8e50-013e79cf5b7e",
   "metadata": {},
   "outputs": [],
   "source": []
  },
  {
   "cell_type": "code",
   "execution_count": null,
   "id": "4ed9a92e-0910-45ef-8e56-420c1cae3a49",
   "metadata": {},
   "outputs": [],
   "source": []
  },
  {
   "cell_type": "code",
   "execution_count": null,
   "id": "a66ab537-735e-4be8-a59a-00ff6a8eda1a",
   "metadata": {},
   "outputs": [],
   "source": []
  },
  {
   "cell_type": "code",
   "execution_count": null,
   "id": "193b9fc0-aed4-4955-a015-70a72ae622e3",
   "metadata": {},
   "outputs": [],
   "source": []
  },
  {
   "cell_type": "code",
   "execution_count": null,
   "id": "1cfa1fec-a30f-472b-8b3f-1007d5529e31",
   "metadata": {},
   "outputs": [],
   "source": []
  }
 ],
 "metadata": {
  "kernelspec": {
   "display_name": "Python 3 (ipykernel)",
   "language": "python",
   "name": "python3"
  },
  "language_info": {
   "codemirror_mode": {
    "name": "ipython",
    "version": 3
   },
   "file_extension": ".py",
   "mimetype": "text/x-python",
   "name": "python",
   "nbconvert_exporter": "python",
   "pygments_lexer": "ipython3",
   "version": "3.12.4"
  }
 },
 "nbformat": 4,
 "nbformat_minor": 5
}
