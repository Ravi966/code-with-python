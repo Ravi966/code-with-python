{
 "cells": [
  {
   "cell_type": "code",
   "execution_count": 26,
   "id": "b5eb6d07-9e5c-41d6-a9c9-dd27839fe209",
   "metadata": {},
   "outputs": [],
   "source": [
    "x = [1,2,3,4,3,2,7,6,5,1,3,4,7,8,6,4,3,2,4,6,3,2,1,3,5]"
   ]
  },
  {
   "cell_type": "code",
   "execution_count": 21,
   "id": "0f96f909-4eaf-45c1-95f5-a745bb801653",
   "metadata": {},
   "outputs": [],
   "source": [
    "d = {}\n",
    "for i in x:\n",
    "    if i not in d:\n",
    "        d[i] = 1\n",
    "    else:\n",
    "        d[i]+=1"
   ]
  },
  {
   "cell_type": "code",
   "execution_count": 22,
   "id": "3c30db7e-a797-4b1a-9c30-148cc792edce",
   "metadata": {},
   "outputs": [
    {
     "data": {
      "text/plain": [
       "{1: 3, 2: 4, 3: 6, 4: 4, 7: 2, 6: 3, 5: 2, 8: 1}"
      ]
     },
     "execution_count": 22,
     "metadata": {},
     "output_type": "execute_result"
    }
   ],
   "source": [
    "d"
   ]
  },
  {
   "cell_type": "code",
   "execution_count": 31,
   "id": "2e74a884-166f-44ce-9166-6555561f6ba9",
   "metadata": {},
   "outputs": [],
   "source": [
    "# Function :- Function is a back of code its run when it is called."
   ]
  },
  {
   "cell_type": "code",
   "execution_count": 32,
   "id": "d8f92155-fd31-4113-ba0f-b7d1e101fc47",
   "metadata": {},
   "outputs": [],
   "source": [
    "# Function types\n",
    "#     1. Built in Function :- The function is pre denied in python\n",
    "#     2. User Defined Function :- The function that created by user"
   ]
  },
  {
   "cell_type": "code",
   "execution_count": 33,
   "id": "a4047aa2-b4e8-47d9-8690-4749d989d0d7",
   "metadata": {},
   "outputs": [],
   "source": [
    "# We are using to def keyword to define the function"
   ]
  },
  {
   "cell_type": "code",
   "execution_count": 34,
   "id": "fd48bc4f-d722-48bd-9435-a74c59822238",
   "metadata": {},
   "outputs": [],
   "source": [
    "def mukesh(x):\n",
    "    return x**3"
   ]
  },
  {
   "cell_type": "code",
   "execution_count": 36,
   "id": "4ca0b97a-4db1-4b46-9e63-8f953d32a27a",
   "metadata": {},
   "outputs": [
    {
     "data": {
      "text/plain": [
       "1000000"
      ]
     },
     "execution_count": 36,
     "metadata": {},
     "output_type": "execute_result"
    }
   ],
   "source": [
    "mukesh(100)"
   ]
  },
  {
   "cell_type": "code",
   "execution_count": 37,
   "id": "0fbfca24-c2ed-49c3-9a7f-b1d702e88c1c",
   "metadata": {},
   "outputs": [],
   "source": [
    "# Create a function to show the personal info of user "
   ]
  },
  {
   "cell_type": "code",
   "execution_count": 38,
   "id": "90effe1e-6b4a-47a6-939c-6ef49d986351",
   "metadata": {},
   "outputs": [],
   "source": [
    "def user():\n",
    "    print('Name :- Ravi')\n",
    "    print('Tools :- Python sql Excel')\n",
    "    print('City :- Delhi')"
   ]
  },
  {
   "cell_type": "code",
   "execution_count": 40,
   "id": "b9aa8f5c-3298-4f68-9ec5-dffbb0f7ea8c",
   "metadata": {},
   "outputs": [
    {
     "name": "stdout",
     "output_type": "stream",
     "text": [
      "Name :- Ravi\n",
      "Tools :- Python sql Excel\n",
      "City :- Delhi\n"
     ]
    }
   ],
   "source": [
    "user()"
   ]
  },
  {
   "cell_type": "code",
   "execution_count": 41,
   "id": "29fdd29a-2264-433c-a687-aaa960506670",
   "metadata": {},
   "outputs": [],
   "source": [
    "# Create a function to add two number in function"
   ]
  },
  {
   "cell_type": "code",
   "execution_count": 42,
   "id": "a1e69c27-efc3-43b8-b021-dde70f97fc51",
   "metadata": {},
   "outputs": [],
   "source": [
    "def add(x,y):\n",
    "    print(x+y)"
   ]
  },
  {
   "cell_type": "code",
   "execution_count": 44,
   "id": "d2af31da-7e30-4637-8408-238f8c02a90e",
   "metadata": {},
   "outputs": [
    {
     "name": "stdout",
     "output_type": "stream",
     "text": [
      "80\n"
     ]
    }
   ],
   "source": [
    "add(40,40)"
   ]
  },
  {
   "cell_type": "code",
   "execution_count": 46,
   "id": "6a5f00fa-062a-438a-92a6-69bd50814631",
   "metadata": {},
   "outputs": [],
   "source": [
    "# Create a function to show the highest by peramter.\n",
    "# Function should be simillar to large function in excel"
   ]
  },
  {
   "cell_type": "code",
   "execution_count": 63,
   "id": "616d836f-5ab4-4ffa-94c5-5d4194a971ea",
   "metadata": {},
   "outputs": [],
   "source": [
    "x = [1,2,3,4,5]"
   ]
  },
  {
   "cell_type": "code",
   "execution_count": 67,
   "id": "83c97fab-77a5-4295-9ef6-cf194257a99e",
   "metadata": {},
   "outputs": [],
   "source": [
    "def large(text,k):\n",
    "    text.sort(reverse=True)\n",
    "    return text[k-1]"
   ]
  },
  {
   "cell_type": "code",
   "execution_count": 69,
   "id": "c7f02497-86e0-4b6c-909a-c06345693259",
   "metadata": {},
   "outputs": [
    {
     "data": {
      "text/plain": [
       "5"
      ]
     },
     "execution_count": 69,
     "metadata": {},
     "output_type": "execute_result"
    }
   ],
   "source": [
    "large(x,1)"
   ]
  },
  {
   "cell_type": "code",
   "execution_count": 70,
   "id": "427cb19e-dff5-413d-a449-21361b5afb62",
   "metadata": {},
   "outputs": [],
   "source": [
    "# Small"
   ]
  },
  {
   "cell_type": "code",
   "execution_count": 79,
   "id": "7948c27b-feab-4f25-afbf-d3e95464c520",
   "metadata": {},
   "outputs": [],
   "source": [
    "def small(text,k):\n",
    "    text.sort()\n",
    "    return text[k]"
   ]
  },
  {
   "cell_type": "code",
   "execution_count": 80,
   "id": "ad0a9476-9f42-478e-afb3-30317117bb7b",
   "metadata": {},
   "outputs": [],
   "source": [
    "x = [2,3,5,6,82,89,8,2,58,25,]"
   ]
  },
  {
   "cell_type": "code",
   "execution_count": 81,
   "id": "c04b782c-7912-447c-929b-e6e26a1f0fe2",
   "metadata": {},
   "outputs": [
    {
     "data": {
      "text/plain": [
       "3"
      ]
     },
     "execution_count": 81,
     "metadata": {},
     "output_type": "execute_result"
    }
   ],
   "source": [
    "small(x,2)"
   ]
  },
  {
   "cell_type": "code",
   "execution_count": 82,
   "id": "76721e56-67a0-4360-bca6-d1f354c3ac08",
   "metadata": {},
   "outputs": [],
   "source": [
    "# By default perameter"
   ]
  },
  {
   "cell_type": "code",
   "execution_count": 83,
   "id": "5db3f695-05a2-4296-80e4-ffbf9af93df5",
   "metadata": {},
   "outputs": [],
   "source": [
    "def large(text,k=1):\n",
    "    text.sort(reverse=True)\n",
    "    return text[k-1]"
   ]
  },
  {
   "cell_type": "code",
   "execution_count": 87,
   "id": "62231eb0-c05e-49ee-a714-9eab520f8634",
   "metadata": {},
   "outputs": [
    {
     "data": {
      "text/plain": [
       "2"
      ]
     },
     "execution_count": 87,
     "metadata": {},
     "output_type": "execute_result"
    }
   ],
   "source": [
    "large(x,-1)"
   ]
  },
  {
   "cell_type": "code",
   "execution_count": 85,
   "id": "5a783d0f-c177-4960-9bf0-c0830f63e545",
   "metadata": {},
   "outputs": [],
   "source": [
    "def small(text,k=1):\n",
    "    text.sort()\n",
    "    return text[k]"
   ]
  },
  {
   "cell_type": "code",
   "execution_count": 86,
   "id": "b35ab0d1-9782-42e9-93c4-5677564fca30",
   "metadata": {},
   "outputs": [
    {
     "data": {
      "text/plain": [
       "2"
      ]
     },
     "execution_count": 86,
     "metadata": {},
     "output_type": "execute_result"
    }
   ],
   "source": [
    "small(x)"
   ]
  },
  {
   "cell_type": "code",
   "execution_count": 88,
   "id": "84a96f80-73f2-498d-964d-ae8c210404c1",
   "metadata": {},
   "outputs": [],
   "source": [
    "# Create a function of show the simple intrest by user input where by default in 5 % and time is 10"
   ]
  },
  {
   "cell_type": "code",
   "execution_count": 90,
   "id": "1fbc4a12-3e85-4163-9859-3c7ee6fb0f63",
   "metadata": {},
   "outputs": [],
   "source": [
    "def si(p,r=10,t=10):\n",
    "    return (p*r*t)/100"
   ]
  },
  {
   "cell_type": "code",
   "execution_count": 91,
   "id": "bb9a9b71-546b-4a98-a02f-578a434720fe",
   "metadata": {},
   "outputs": [
    {
     "data": {
      "text/plain": [
       "20000.0"
      ]
     },
     "execution_count": 91,
     "metadata": {},
     "output_type": "execute_result"
    }
   ],
   "source": [
    "si(20000)"
   ]
  },
  {
   "cell_type": "code",
   "execution_count": 1,
   "id": "4386cae0-6296-4db3-b570-2757a6d57ff4",
   "metadata": {},
   "outputs": [],
   "source": [
    "# Create a function to show the table of any number"
   ]
  },
  {
   "cell_type": "code",
   "execution_count": 15,
   "id": "ad319e35-0caa-4945-aff2-a11470e645a1",
   "metadata": {},
   "outputs": [],
   "source": [
    "def table(x):\n",
    "    for i in range(1,11):\n",
    "        print(f'{x} X  {i} = {i*x}')"
   ]
  },
  {
   "cell_type": "code",
   "execution_count": 16,
   "id": "fe37a7ef-27fd-4f39-b6c5-9e11ee82ec54",
   "metadata": {},
   "outputs": [
    {
     "name": "stdout",
     "output_type": "stream",
     "text": [
      "5 X  1 = 5\n",
      "5 X  2 = 10\n",
      "5 X  3 = 15\n",
      "5 X  4 = 20\n",
      "5 X  5 = 25\n",
      "5 X  6 = 30\n",
      "5 X  7 = 35\n",
      "5 X  8 = 40\n",
      "5 X  9 = 45\n",
      "5 X  10 = 50\n"
     ]
    }
   ],
   "source": [
    "table(5)"
   ]
  },
  {
   "cell_type": "code",
   "execution_count": 17,
   "id": "0545966d-da6c-44d5-8605-4a1a71cb7261",
   "metadata": {},
   "outputs": [],
   "source": [
    "# Create a function to count total odd number from list"
   ]
  },
  {
   "cell_type": "code",
   "execution_count": 68,
   "id": "8ff22f8f-a67b-45ab-9378-8c8343f272ef",
   "metadata": {},
   "outputs": [
    {
     "name": "stdout",
     "output_type": "stream",
     "text": [
      "Total Odd number 4\n"
     ]
    }
   ],
   "source": [
    "def odd(x):\n",
    "    c = 0\n",
    "    for i in x:\n",
    "        if i%2 !=0:\n",
    "            c = c + 1\n",
    "print('Total Odd number',c)"
   ]
  },
  {
   "cell_type": "code",
   "execution_count": 69,
   "id": "2e0cecc2-218e-4e23-aae2-f48f7e5a44f2",
   "metadata": {},
   "outputs": [],
   "source": [
    "x = [123,5,6,8,5,5]"
   ]
  },
  {
   "cell_type": "code",
   "execution_count": 72,
   "id": "436bff55-2d60-47ca-bd29-a29ed72df61a",
   "metadata": {},
   "outputs": [],
   "source": [
    "odd(x)"
   ]
  },
  {
   "cell_type": "code",
   "execution_count": 58,
   "id": "051b6eef-5329-4072-b75d-3d4ba9fdc682",
   "metadata": {},
   "outputs": [],
   "source": [
    "# Create a function to show the name from list whose length is highest"
   ]
  },
  {
   "cell_type": "code",
   "execution_count": 80,
   "id": "e559f050-e56d-4de1-9e28-55cd28ff5f43",
   "metadata": {},
   "outputs": [],
   "source": [
    "x = ['abc','ab','abcd']"
   ]
  },
  {
   "cell_type": "code",
   "execution_count": 81,
   "id": "b42ea56c-578e-4863-9096-0dfba712884c",
   "metadata": {},
   "outputs": [],
   "source": [
    "def large(x):\n",
    "    d = {}\n",
    "    for i in x:\n",
    "        d[i] = len(i)\n",
    "    d = sorted(d.items(),key=lambda a:a[1],reverse=True)\n",
    "    d = dict(d)\n",
    "    d = list(d.keys())[0]\n",
    "    print(d)"
   ]
  },
  {
   "cell_type": "code",
   "execution_count": 82,
   "id": "4a309ed6-4146-44d3-9c35-28b8ca6e782d",
   "metadata": {},
   "outputs": [
    {
     "name": "stdout",
     "output_type": "stream",
     "text": [
      "abcd\n"
     ]
    }
   ],
   "source": [
    "large(x)"
   ]
  },
  {
   "cell_type": "code",
   "execution_count": 83,
   "id": "f8a30d6e-8dde-4079-8c28-a3c2ff0b6a87",
   "metadata": {},
   "outputs": [],
   "source": [
    "x = ['Mukesh','Shivam','Ravi','Ramayana']"
   ]
  },
  {
   "cell_type": "code",
   "execution_count": 84,
   "id": "c12f6a99-e4bc-48ad-80f8-e209a1cc904c",
   "metadata": {},
   "outputs": [
    {
     "name": "stdout",
     "output_type": "stream",
     "text": [
      "Ramayana\n"
     ]
    }
   ],
   "source": [
    "large(x)"
   ]
  },
  {
   "cell_type": "code",
   "execution_count": 94,
   "id": "984cfe99-07b8-4cb7-9fbf-b3b140d4e3d3",
   "metadata": {},
   "outputs": [
    {
     "name": "stdout",
     "output_type": "stream",
     "text": [
      "Ramayana\n"
     ]
    }
   ],
   "source": [
    "l = 0\n",
    "for j in x:\n",
    "    if len(j)>l:\n",
    "        l = len(j)\n",
    "for i in x:\n",
    "    if len(i)==l:\n",
    "        print(i)\n",
    "        "
   ]
  },
  {
   "cell_type": "code",
   "execution_count": 95,
   "id": "0b49733d-560a-413f-8121-4174b24a429d",
   "metadata": {},
   "outputs": [],
   "source": [
    "# Create a function to count the number which number is divided by 5 and 7"
   ]
  },
  {
   "cell_type": "code",
   "execution_count": 97,
   "id": "e49b63e1-668c-4fd6-8260-c85b563e0d34",
   "metadata": {},
   "outputs": [],
   "source": [
    "def divi(y,x):\n",
    "    for i in range(y,x):\n",
    "        if i%5 ==0 and i%7 ==0:\n",
    "            print(i)"
   ]
  },
  {
   "cell_type": "code",
   "execution_count": 99,
   "id": "d37632fa-5ee4-4e27-b0c2-1a7b03751954",
   "metadata": {},
   "outputs": [
    {
     "name": "stdout",
     "output_type": "stream",
     "text": [
      "105\n",
      "140\n",
      "175\n"
     ]
    }
   ],
   "source": [
    "divi(100,200)"
   ]
  },
  {
   "cell_type": "code",
   "execution_count": null,
   "id": "d416bf86-dd01-4bee-bd53-8c527a9eca90",
   "metadata": {},
   "outputs": [],
   "source": []
  }
 ],
 "metadata": {
  "kernelspec": {
   "display_name": "Python 3 (ipykernel)",
   "language": "python",
   "name": "python3"
  },
  "language_info": {
   "codemirror_mode": {
    "name": "ipython",
    "version": 3
   },
   "file_extension": ".py",
   "mimetype": "text/x-python",
   "name": "python",
   "nbconvert_exporter": "python",
   "pygments_lexer": "ipython3",
   "version": "3.12.4"
  }
 },
 "nbformat": 4,
 "nbformat_minor": 5
}
