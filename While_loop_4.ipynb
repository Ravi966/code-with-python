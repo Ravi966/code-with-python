{
 "cells": [
  {
   "cell_type": "code",
   "execution_count": 2,
   "id": "8684aa18-12ea-40c0-8ee6-bf25ba56e2bc",
   "metadata": {},
   "outputs": [],
   "source": [
    "# Write a python program to print even number from 40 to 20 reverse format\n"
   ]
  },
  {
   "cell_type": "code",
   "execution_count": 15,
   "id": "b21dc25f-6ee3-4d20-a375-56aab8351399",
   "metadata": {},
   "outputs": [
    {
     "name": "stdout",
     "output_type": "stream",
     "text": [
      "Even Number :-  40\n",
      "Even Number :-  38\n",
      "Even Number :-  36\n",
      "Even Number :-  34\n",
      "Even Number :-  32\n",
      "Even Number :-  30\n",
      "Even Number :-  28\n",
      "Even Number :-  26\n",
      "Even Number :-  24\n",
      "Even Number :-  22\n",
      "Even Number :-  20\n"
     ]
    }
   ],
   "source": [
    "x = 40\n",
    "while x >= 20:\n",
    "    print('Even Number :- ',x)\n",
    "    x -= 2  "
   ]
  },
  {
   "cell_type": "code",
   "execution_count": 8,
   "id": "df9cb44c-e026-4efe-8ad9-c5bbe242e893",
   "metadata": {},
   "outputs": [],
   "source": [
    "# print 1 to 10 counting with status even or odd"
   ]
  },
  {
   "cell_type": "code",
   "execution_count": 12,
   "id": "e58b9dab-5cb8-4d2e-a54e-0b610e9b74ab",
   "metadata": {},
   "outputs": [
    {
     "name": "stdout",
     "output_type": "stream",
     "text": [
      "Even :-  0\n",
      "Odd :-  1\n",
      "Even :-  2\n",
      "Odd :-  3\n",
      "Even :-  4\n",
      "Odd :-  5\n",
      "Even :-  6\n",
      "Odd :-  7\n",
      "Even :-  8\n",
      "Odd :-  9\n",
      "Even :-  10\n"
     ]
    }
   ],
   "source": [
    "x = 0\n",
    "while x<=10:\n",
    "    if x%2 ==0:\n",
    "        print('Even :- ',x)\n",
    "    else:\n",
    "        print('Odd :- ',x)\n",
    "    x+=1"
   ]
  },
  {
   "cell_type": "code",
   "execution_count": 28,
   "id": "70ad4642-db29-4eb0-8160-5b0abd023f63",
   "metadata": {},
   "outputs": [
    {
     "name": "stdout",
     "output_type": "stream",
     "text": [
      "Total Even Number :-  6\n"
     ]
    }
   ],
   "source": [
    "# Write a Python program to count all even numbers from 5 to 20 \n",
    "x = 20\n",
    "c = 0\n",
    "while x<=30:\n",
    "    if x%2 ==0:\n",
    "        c+=1\n",
    "        \n",
    "    x+=1\n",
    "    \n",
    "print('Total Even Number :- ',c)"
   ]
  },
  {
   "cell_type": "code",
   "execution_count": 39,
   "id": "159383c3-18fd-47fc-abda-d7e00433f436",
   "metadata": {},
   "outputs": [
    {
     "name": "stdout",
     "output_type": "stream",
     "text": [
      "Total Number :- 5\n"
     ]
    }
   ],
   "source": [
    "# Write a python program to count all number from 40  to 200 \n",
    "# Find the sum of first 5 number\n",
    "\n",
    "x = 40\n",
    "c = 0\n",
    "while x<=200:\n",
    "    if x%5 == 0 and x%8 ==0:\n",
    "        c+=1\n",
    "    x+=1\n",
    "print('Total Number :-',c)"
   ]
  },
  {
   "cell_type": "code",
   "execution_count": 46,
   "id": "8b328409-9294-475e-8dd1-09c65b84ac45",
   "metadata": {},
   "outputs": [
    {
     "name": "stdout",
     "output_type": "stream",
     "text": [
      "First 5 number  15\n"
     ]
    }
   ],
   "source": [
    "# Find the sum of first 5 number\n",
    "x = 1\n",
    "s = 0\n",
    "while x<=5:\n",
    "    s = s + x\n",
    "    x+=1\n",
    "print('First 5 number ',s)\n"
   ]
  },
  {
   "cell_type": "code",
   "execution_count": 49,
   "id": "e5bda2a3-7800-48dc-aab2-17e0433729a5",
   "metadata": {},
   "outputs": [
    {
     "name": "stdout",
     "output_type": "stream",
     "text": [
      "Total sum of first 10 even number :-  110\n"
     ]
    }
   ],
   "source": [
    "# Find the sum of first 10 even number\n",
    "x = 1\n",
    "s = 0\n",
    "while x<=20:\n",
    "    if x%2 ==0:\n",
    "        s = s + x\n",
    "    x+=1\n",
    "print(\"Total sum of first 10 even number :- \",s)"
   ]
  },
  {
   "cell_type": "code",
   "execution_count": 54,
   "id": "a26be1a3-21c2-4c19-b30d-c4927d2c809b",
   "metadata": {},
   "outputs": [
    {
     "name": "stdout",
     "output_type": "stream",
     "text": [
      "The average of the first 10 numbers is: 5.5\n"
     ]
    }
   ],
   "source": [
    "# Show the average of the first 10 number\n",
    "sum = 0\n",
    "x = 1\n",
    "while x<= 10:\n",
    "    sum += x\n",
    "    x += 1\n",
    "a = sum / 10\n",
    "print(\"The average of the first 10 numbers is:\", a)\n"
   ]
  },
  {
   "cell_type": "code",
   "execution_count": 63,
   "id": "9e92defb-7b7d-46d6-9e26-7aab45d1d567",
   "metadata": {},
   "outputs": [
    {
     "name": "stdout",
     "output_type": "stream",
     "text": [
      "1 2 3 4 5 6 7 8 9 10 "
     ]
    }
   ],
   "source": [
    "#Horizontal print : - end=\" \"\n",
    "x = 1\n",
    "while x<=10:\n",
    "    print(x,end=\" \")\n",
    "    x+=1"
   ]
  },
  {
   "cell_type": "code",
   "execution_count": 55,
   "id": "0405d38f-343e-410a-b464-e5b26f13fe3c",
   "metadata": {},
   "outputs": [],
   "source": [
    "\n"
   ]
  },
  {
   "cell_type": "code",
   "execution_count": 64,
   "id": "c0741dc9-1321-466e-8b9a-0df6f62e7a86",
   "metadata": {},
   "outputs": [
    {
     "name": "stdout",
     "output_type": "stream",
     "text": [
      "2 4 6 8 10 12 14 16 18 20 "
     ]
    }
   ],
   "source": [
    "# Print 10 even number in horizontal\n",
    "x = 1\n",
    "m = 10*2\n",
    "while x<=m:\n",
    "    if x%2==0:\n",
    "        print(x,end=\" \")\n",
    "    x+=1\n"
   ]
  },
  {
   "cell_type": "code",
   "execution_count": 69,
   "id": "16d322c0-6c4a-4978-aac7-cbf7b7a50417",
   "metadata": {},
   "outputs": [
    {
     "name": "stdin",
     "output_type": "stream",
     "text": [
      "Enter any number :- 5\n"
     ]
    },
    {
     "name": "stdout",
     "output_type": "stream",
     "text": [
      "Factorail of any number :- 120\n"
     ]
    }
   ],
   "source": [
    "# Write a python program to show the factorial of any number\n",
    "x = int(input(\"Enter any number :-\"))\n",
    "y = 1\n",
    "f = 1\n",
    "while y<=x:\n",
    "    f = f*y\n",
    "    y+=1\n",
    "print('Factorail of any number :-',f)"
   ]
  },
  {
   "cell_type": "code",
   "execution_count": 71,
   "id": "6a5efec9-791c-47cd-8f18-deaa9d845fa4",
   "metadata": {},
   "outputs": [
    {
     "name": "stdout",
     "output_type": "stream",
     "text": [
      "Total number is divisble by 3 and 5 :- 3\n"
     ]
    }
   ],
   "source": [
    "# Write a Python program to count the number with is divided by 3 and 5 from 50 to 100\n",
    "x = 50\n",
    "c = 0\n",
    "while x<=100:\n",
    "    if x%3 ==0 and x%5==0:\n",
    "        c+=1\n",
    "    x+=1\n",
    "print('Total number is divisble by 3 and 5 :-',c)"
   ]
  },
  {
   "cell_type": "code",
   "execution_count": 74,
   "id": "565ac92e-2991-46f2-aba9-1a5714692890",
   "metadata": {},
   "outputs": [
    {
     "name": "stdout",
     "output_type": "stream",
     "text": [
      "38.5\n"
     ]
    }
   ],
   "source": [
    "# Write a Python program to show the average of numbers from 30 to 40\n",
    "x = 30\n",
    "s = 0\n",
    "while x<=40:\n",
    "    s = s+ x\n",
    "    x+=1\n",
    "a = s/10\n",
    "print(a)"
   ]
  },
  {
   "cell_type": "code",
   "execution_count": 85,
   "id": "39303278-cd4e-4dd9-afe3-c8c76cb1c240",
   "metadata": {},
   "outputs": [
    {
     "name": "stdout",
     "output_type": "stream",
     "text": [
      "The average of numbers from 30 to 40 is: -     35.0\n"
     ]
    }
   ],
   "source": [
    "sum = 0\n",
    "x = 30\n",
    "t = 0\n",
    "while x <= 40:\n",
    "    sum += x\n",
    "    t += 1\n",
    "    x += 1\n",
    "a = sum / t\n",
    "\n",
    "print(\"The average of numbers from 30 to 40 is: -    \", a)\n"
   ]
  },
  {
   "cell_type": "code",
   "execution_count": 75,
   "id": "e8ce5c6e-9132-4f49-bf91-7cfc12b4efb4",
   "metadata": {},
   "outputs": [],
   "source": [
    "# Break : - It is used to break the keep according to condition\n",
    "# Continue :- It is used to skip the value from loop by condition"
   ]
  },
  {
   "cell_type": "code",
   "execution_count": 77,
   "id": "14ad0676-7dbe-4f0b-8d26-f48c0dea9716",
   "metadata": {},
   "outputs": [
    {
     "name": "stdout",
     "output_type": "stream",
     "text": [
      "1\n",
      "2\n",
      "3\n",
      "4\n"
     ]
    }
   ],
   "source": [
    "x = 0\n",
    "while x<=10:\n",
    "    x+=1\n",
    "    if x==5:\n",
    "        break\n",
    "    print(x)"
   ]
  },
  {
   "cell_type": "code",
   "execution_count": 82,
   "id": "28a68fd3-c459-4431-aac1-095861626793",
   "metadata": {},
   "outputs": [
    {
     "name": "stdout",
     "output_type": "stream",
     "text": [
      "1\n",
      "2\n",
      "3\n",
      "4\n",
      "5\n",
      "6\n",
      "7\n",
      "8\n",
      "9\n",
      "10\n",
      "11\n"
     ]
    }
   ],
   "source": [
    "x = 0\n",
    "while x<=10:\n",
    "    x+=1\n",
    "    if x==5 and x==7:\n",
    "        continue\n",
    "    print(x)"
   ]
  },
  {
   "cell_type": "code",
   "execution_count": null,
   "id": "6ae62efb-4ac5-4777-b384-9b71c8439c62",
   "metadata": {},
   "outputs": [],
   "source": []
  }
 ],
 "metadata": {
  "kernelspec": {
   "display_name": "Python 3 (ipykernel)",
   "language": "python",
   "name": "python3"
  },
  "language_info": {
   "codemirror_mode": {
    "name": "ipython",
    "version": 3
   },
   "file_extension": ".py",
   "mimetype": "text/x-python",
   "name": "python",
   "nbconvert_exporter": "python",
   "pygments_lexer": "ipython3",
   "version": "3.12.4"
  }
 },
 "nbformat": 4,
 "nbformat_minor": 5
}
