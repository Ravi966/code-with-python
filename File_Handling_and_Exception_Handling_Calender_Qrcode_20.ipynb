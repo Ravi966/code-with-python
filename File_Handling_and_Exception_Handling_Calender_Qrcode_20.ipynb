{
 "cells": [
  {
   "cell_type": "code",
   "execution_count": 1,
   "id": "75f5e5f7-2ed0-4738-bf24-c77db7907be6",
   "metadata": {},
   "outputs": [],
   "source": [
    "# File Handling and Exception Handling "
   ]
  },
  {
   "cell_type": "code",
   "execution_count": 2,
   "id": "897b8fb4-62c4-4043-b264-ced0e4b25df3",
   "metadata": {},
   "outputs": [],
   "source": [
    "import os"
   ]
  },
  {
   "cell_type": "code",
   "execution_count": 3,
   "id": "2ad86138-e4e5-49cd-aacd-a15867fdcc0d",
   "metadata": {},
   "outputs": [],
   "source": [
    "link = \"C:\\\\Users\\\\Naveen\\\\OneDrive\\\\Desktop\\\\sss.txt\""
   ]
  },
  {
   "cell_type": "code",
   "execution_count": 4,
   "id": "b758ea54-7716-41a9-9e3a-9f3744eb375e",
   "metadata": {},
   "outputs": [
    {
     "name": "stdout",
     "output_type": "stream",
     "text": [
      "Done ✔️\n"
     ]
    }
   ],
   "source": [
    "os.remove(link)\n",
    "print('Done ✔️')"
   ]
  },
  {
   "cell_type": "code",
   "execution_count": 9,
   "id": "dd26b032-b31f-477c-b438-989536c418c6",
   "metadata": {},
   "outputs": [],
   "source": [
    "import calendar as c"
   ]
  },
  {
   "cell_type": "code",
   "execution_count": 11,
   "id": "7bbdfe22-d116-49bd-918f-9835ba8e7711",
   "metadata": {},
   "outputs": [],
   "source": [
    "x = c.calendar(2025)"
   ]
  },
  {
   "cell_type": "code",
   "execution_count": 12,
   "id": "c1074526-e4fe-454c-81f9-8fb0bcb361ae",
   "metadata": {},
   "outputs": [
    {
     "name": "stdout",
     "output_type": "stream",
     "text": [
      "                                  2025\n",
      "\n",
      "      January                   February                   March\n",
      "Mo Tu We Th Fr Sa Su      Mo Tu We Th Fr Sa Su      Mo Tu We Th Fr Sa Su\n",
      "       1  2  3  4  5                      1  2                      1  2\n",
      " 6  7  8  9 10 11 12       3  4  5  6  7  8  9       3  4  5  6  7  8  9\n",
      "13 14 15 16 17 18 19      10 11 12 13 14 15 16      10 11 12 13 14 15 16\n",
      "20 21 22 23 24 25 26      17 18 19 20 21 22 23      17 18 19 20 21 22 23\n",
      "27 28 29 30 31            24 25 26 27 28            24 25 26 27 28 29 30\n",
      "                                                    31\n",
      "\n",
      "       April                      May                       June\n",
      "Mo Tu We Th Fr Sa Su      Mo Tu We Th Fr Sa Su      Mo Tu We Th Fr Sa Su\n",
      "    1  2  3  4  5  6                1  2  3  4                         1\n",
      " 7  8  9 10 11 12 13       5  6  7  8  9 10 11       2  3  4  5  6  7  8\n",
      "14 15 16 17 18 19 20      12 13 14 15 16 17 18       9 10 11 12 13 14 15\n",
      "21 22 23 24 25 26 27      19 20 21 22 23 24 25      16 17 18 19 20 21 22\n",
      "28 29 30                  26 27 28 29 30 31         23 24 25 26 27 28 29\n",
      "                                                    30\n",
      "\n",
      "        July                     August                  September\n",
      "Mo Tu We Th Fr Sa Su      Mo Tu We Th Fr Sa Su      Mo Tu We Th Fr Sa Su\n",
      "    1  2  3  4  5  6                   1  2  3       1  2  3  4  5  6  7\n",
      " 7  8  9 10 11 12 13       4  5  6  7  8  9 10       8  9 10 11 12 13 14\n",
      "14 15 16 17 18 19 20      11 12 13 14 15 16 17      15 16 17 18 19 20 21\n",
      "21 22 23 24 25 26 27      18 19 20 21 22 23 24      22 23 24 25 26 27 28\n",
      "28 29 30 31               25 26 27 28 29 30 31      29 30\n",
      "\n",
      "      October                   November                  December\n",
      "Mo Tu We Th Fr Sa Su      Mo Tu We Th Fr Sa Su      Mo Tu We Th Fr Sa Su\n",
      "       1  2  3  4  5                      1  2       1  2  3  4  5  6  7\n",
      " 6  7  8  9 10 11 12       3  4  5  6  7  8  9       8  9 10 11 12 13 14\n",
      "13 14 15 16 17 18 19      10 11 12 13 14 15 16      15 16 17 18 19 20 21\n",
      "20 21 22 23 24 25 26      17 18 19 20 21 22 23      22 23 24 25 26 27 28\n",
      "27 28 29 30 31            24 25 26 27 28 29 30      29 30 31\n",
      "\n"
     ]
    }
   ],
   "source": [
    "print(x)"
   ]
  },
  {
   "cell_type": "code",
   "execution_count": 14,
   "id": "51d44dce-66c8-4e52-953c-e64b7f82c691",
   "metadata": {},
   "outputs": [
    {
     "name": "stdout",
     "output_type": "stream",
     "text": [
      "Collecting qrcode\n",
      "  Downloading qrcode-8.0-py3-none-any.whl.metadata (17 kB)\n",
      "Requirement already satisfied: colorama in c:\\users\\naveen\\anaconda3\\lib\\site-packages (from qrcode) (0.4.6)\n",
      "Downloading qrcode-8.0-py3-none-any.whl (45 kB)\n",
      "   ---------------------------------------- 0.0/45.7 kB ? eta -:--:--\n",
      "   ----------------- ---------------------- 20.5/45.7 kB 682.7 kB/s eta 0:00:01\n",
      "   ---------------------------------------- 45.7/45.7 kB 771.1 kB/s eta 0:00:00\n",
      "Installing collected packages: qrcode\n",
      "Successfully installed qrcode-8.0\n"
     ]
    }
   ],
   "source": [
    "# !pip install qrcode"
   ]
  },
  {
   "cell_type": "code",
   "execution_count": 15,
   "id": "4a428e4e-a328-4ce5-b52b-ddc5a9c01b03",
   "metadata": {},
   "outputs": [],
   "source": [
    "import qrcode"
   ]
  },
  {
   "cell_type": "code",
   "execution_count": 16,
   "id": "aa241f5a-52c5-407d-945c-233daf67f1cf",
   "metadata": {},
   "outputs": [
    {
     "data": {
      "image/jpeg": "[encoded data removed]",
      "image/png": "[encoded data removed]",
      "text/plain": [
       "<PIL.Image.Image image mode=1 size=410x410>"
      ]
     },
     "execution_count": 16,
     "metadata": {},
     "output_type": "execute_result"
    }
   ],
   "source": [
    "link = 'https://www.linkedin.com/in/ravi-ravi-53b5402b0/'\n",
    "qr = qrcode.make(link)\n",
    "qr.get_image()"
   ]
  },
  {
   "cell_type": "code",
   "execution_count": 17,
   "id": "a390445d-ddc6-4c8c-ad68-9745109177e7",
   "metadata": {},
   "outputs": [],
   "source": [
    "# File Handling "
   ]
  },
  {
   "cell_type": "code",
   "execution_count": 18,
   "id": "5cb19cd2-d93f-4583-881a-f58317c292da",
   "metadata": {},
   "outputs": [],
   "source": [
    "link = \"C:\\\\Users\\\\Naveen\\\\OneDrive\\\\Desktop\\\\Data Analyst -.txt\""
   ]
  },
  {
   "cell_type": "code",
   "execution_count": 24,
   "id": "2ed326d4-c156-4eab-93fb-08ea49319e4c",
   "metadata": {},
   "outputs": [
    {
     "name": "stdout",
     "output_type": "stream",
     "text": [
      "Welcome to python\n",
      "python is a programming language.\n",
      "it is also called oops\n"
     ]
    }
   ],
   "source": [
    "file = open(link,'r')\n",
    "re = file.read()\n",
    "print(re)\n",
    "file.close()"
   ]
  },
  {
   "cell_type": "code",
   "execution_count": 36,
   "id": "9d38552e-5cb9-4f39-bd64-5c2bdf25fe2f",
   "metadata": {},
   "outputs": [],
   "source": [
    "re = re.split()"
   ]
  },
  {
   "cell_type": "code",
   "execution_count": 40,
   "id": "6b1946be-7d70-4c81-9c81-10311fb15254",
   "metadata": {},
   "outputs": [
    {
     "data": {
      "text/plain": [
       "['Welcome', 'to', 'python']"
      ]
     },
     "execution_count": 40,
     "metadata": {},
     "output_type": "execute_result"
    }
   ],
   "source": [
    "re[:3]"
   ]
  },
  {
   "cell_type": "code",
   "execution_count": 34,
   "id": "bc4494c4-238d-47dd-8bb0-6a1687b0c74f",
   "metadata": {},
   "outputs": [],
   "source": [
    "re = \" \".join(re)"
   ]
  },
  {
   "cell_type": "code",
   "execution_count": 35,
   "id": "07053210-e380-4cd3-a5d6-c4696f584686",
   "metadata": {},
   "outputs": [
    {
     "name": "stdout",
     "output_type": "stream",
     "text": [
      "Welcome to python python is a programming language. it is also called oops\n"
     ]
    }
   ],
   "source": [
    "print(re)"
   ]
  },
  {
   "cell_type": "code",
   "execution_count": 41,
   "id": "2134d2ec-2f21-4bfa-9d5a-f2b42be30a89",
   "metadata": {},
   "outputs": [],
   "source": [
    "# read : - 'r'\n",
    "# write :- 'w'\n",
    "# append :- 'a'"
   ]
  },
  {
   "cell_type": "code",
   "execution_count": null,
   "id": "7a93bde6-0f1f-4722-b461-e70e4ec4e558",
   "metadata": {},
   "outputs": [],
   "source": []
  }
 ],
 "metadata": {
  "kernelspec": {
   "display_name": "Python 3 (ipykernel)",
   "language": "python",
   "name": "python3"
  },
  "language_info": {
   "codemirror_mode": {
    "name": "ipython",
    "version": 3
   },
   "file_extension": ".py",
   "mimetype": "text/x-python",
   "name": "python",
   "nbconvert_exporter": "python",
   "pygments_lexer": "ipython3",
   "version": "3.12.4"
  }
 },
 "nbformat": 4,
 "nbformat_minor": 5
}
