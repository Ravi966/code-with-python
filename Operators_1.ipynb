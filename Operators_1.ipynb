{
 "cells": [
  {
   "cell_type": "code",
   "execution_count": 3,
   "id": "246840fd-9f8d-4878-84fb-29ab29af3afa",
   "metadata": {},
   "outputs": [
    {
     "name": "stdout",
     "output_type": "stream",
     "text": [
      "science\n",
      "<class 'str'>\n",
      "7\n"
     ]
    }
   ],
   "source": [
    "x = \"science\"\n",
    "print(x)\n",
    "print(type(x))\n",
    "print(len(x))"
   ]
  },
  {
   "cell_type": "code",
   "execution_count": 4,
   "id": "b3dab71e-8abd-426a-b487-e55d66ad2859",
   "metadata": {},
   "outputs": [],
   "source": [
    "# Write a python program with the help of user input\n",
    "# and check is length of text is greater than 10\n",
    "# then Print Long text else print short text"
   ]
  },
  {
   "cell_type": "code",
   "execution_count": 11,
   "id": "e65e544f-06c7-4363-9d72-9966b7d5d0a9",
   "metadata": {},
   "outputs": [
    {
     "name": "stdin",
     "output_type": "stream",
     "text": [
      "Enter the Text :- ravi ravi i\n"
     ]
    },
    {
     "name": "stdout",
     "output_type": "stream",
     "text": [
      "Long Text\n"
     ]
    }
   ],
   "source": [
    "x = input(\"Enter the Text :-\")\n",
    "if len(x)>=10:\n",
    "    print(\"Long Text\")\n",
    "else:\n",
    "    print(\"Short text\")"
   ]
  },
  {
   "cell_type": "code",
   "execution_count": 8,
   "id": "cfc68cf2-7bd0-4c15-b1e2-c5aaf8db2c77",
   "metadata": {},
   "outputs": [],
   "source": [
    "# Write a python program with the help of user input to covert inches to feet"
   ]
  },
  {
   "cell_type": "code",
   "execution_count": 22,
   "id": "b1d278d2-bf23-444b-8908-0f17f519be01",
   "metadata": {},
   "outputs": [
    {
     "name": "stdin",
     "output_type": "stream",
     "text": [
      "Enter the number in inches :- 12\n"
     ]
    },
    {
     "name": "stdout",
     "output_type": "stream",
     "text": [
      "Feet 1.0\n"
     ]
    }
   ],
   "source": [
    "x = int(input(\"Enter the number in inches :-\"))\n",
    "y = x/12\n",
    "print(f'Feet {y}')\n"
   ]
  },
  {
   "cell_type": "code",
   "execution_count": 9,
   "id": "30ce14af-33e0-4f56-bc6c-cd2cf669cdf2",
   "metadata": {},
   "outputs": [],
   "source": [
    "# write a python program to print the amount after discount \n",
    "# if amount is greater than 4k then show 40% discount else\n",
    "# 20% discount"
   ]
  },
  {
   "cell_type": "code",
   "execution_count": 33,
   "id": "19fcd8de-7684-487d-a151-2b1fe7cf65b9",
   "metadata": {},
   "outputs": [
    {
     "name": "stdin",
     "output_type": "stream",
     "text": [
      "Enter the Amount :- 10000\n"
     ]
    },
    {
     "name": "stdout",
     "output_type": "stream",
     "text": [
      "Discount :- 4000.0\n",
      "40 % discounted of amount 6000.0\n"
     ]
    }
   ],
   "source": [
    "x = int(input(\"Enter the Amount :-\"))\n",
    "if x>=4000:\n",
    "    print(\"Discount :-\",x*0.4)\n",
    "    print(f'40 % discounted of amount { x-x*0.4}')\n",
    "else:\n",
    "    print(\"Discount :-\",x*0.2)\n",
    "    print(f'20 % discounted of amount { x-x*0.2}')"
   ]
  },
  {
   "cell_type": "code",
   "execution_count": 35,
   "id": "a578a591-789b-4349-8f1d-1f19b0115c26",
   "metadata": {},
   "outputs": [],
   "source": [
    "# Airthmatic :- Done\n",
    "# Assigment :- Done\n",
    "# Comperision :- Done\n",
    "# logical:- [And Or Not]"
   ]
  },
  {
   "cell_type": "code",
   "execution_count": 36,
   "id": "62a778f9-ecd2-4671-b18e-c77b0b1b376d",
   "metadata": {},
   "outputs": [],
   "source": [
    "# Logical Operators\n",
    "    # And :- Its Return True when all condition are true\n",
    "    # Or  :- Its Return True when at least one condition is true\n",
    "    # Not :- Its Reverse the answer of (And,Or)"
   ]
  },
  {
   "cell_type": "code",
   "execution_count": 38,
   "id": "543e557c-efae-410c-9cbe-4b2f7f17a966",
   "metadata": {},
   "outputs": [],
   "source": [
    "x = 10\n",
    "y = 20\n",
    "z = 30\n"
   ]
  },
  {
   "cell_type": "code",
   "execution_count": 39,
   "id": "74ec751e-7a49-45d0-9b6b-1a8e0f19ee29",
   "metadata": {},
   "outputs": [
    {
     "name": "stdout",
     "output_type": "stream",
     "text": [
      "True\n"
     ]
    }
   ],
   "source": [
    "print(x<y and z>y)"
   ]
  },
  {
   "cell_type": "code",
   "execution_count": 41,
   "id": "d61c946d-8b23-4d6d-a035-5b88eb89d21d",
   "metadata": {},
   "outputs": [
    {
     "name": "stdout",
     "output_type": "stream",
     "text": [
      "True\n"
     ]
    }
   ],
   "source": [
    "print(x>=y or z>y)"
   ]
  },
  {
   "cell_type": "code",
   "execution_count": 42,
   "id": "0f5b268c-ca76-43d7-8f60-cf8bc99cb657",
   "metadata": {},
   "outputs": [
    {
     "name": "stdout",
     "output_type": "stream",
     "text": [
      "False\n"
     ]
    }
   ],
   "source": [
    "print(not(x<y))"
   ]
  },
  {
   "cell_type": "code",
   "execution_count": 37,
   "id": "9102e29a-58d6-462b-91fe-41ca87762b02",
   "metadata": {},
   "outputs": [],
   "source": [
    "# Write a python program to check if number is between 20 to 40 then show \"yes\" else show \"No\""
   ]
  },
  {
   "cell_type": "code",
   "execution_count": 48,
   "id": "59722f45-4c78-479f-be10-7ca9c8c43bd0",
   "metadata": {},
   "outputs": [
    {
     "name": "stdin",
     "output_type": "stream",
     "text": [
      "Enter the Number :-  45\n"
     ]
    },
    {
     "name": "stdout",
     "output_type": "stream",
     "text": [
      "No\n"
     ]
    }
   ],
   "source": [
    "x = int(input(\"Enter the Number :- \"))\n",
    "if x>=20 and x<=40:\n",
    "    print(\"Yes\")\n",
    "else:\n",
    "    print(\"No\")"
   ]
  },
  {
   "cell_type": "code",
   "execution_count": 49,
   "id": "86acfe9a-cc77-4e36-802c-d11dfcb54489",
   "metadata": {},
   "outputs": [],
   "source": [
    "# Write a python program to check \n",
    "# if number is divisble by 2 and 3 then print \"Divisible by 2 and 3\n",
    "# else print \"Not Divisible by 2 and 3"
   ]
  },
  {
   "cell_type": "code",
   "execution_count": 51,
   "id": "0a17064d-d462-4695-982c-2904508c194c",
   "metadata": {},
   "outputs": [
    {
     "name": "stdin",
     "output_type": "stream",
     "text": [
      "Enter the Any Number :- 30\n"
     ]
    },
    {
     "name": "stdout",
     "output_type": "stream",
     "text": [
      "Divisible By 2 and 3  30\n"
     ]
    }
   ],
   "source": [
    "x = int(input(\"Enter the Any Number :-\"))\n",
    "if x%2==0 and x%3==0:\n",
    "    print(\"Divisible By 2 and 3 \",x)\n",
    "else:\n",
    "    print(\"Not Divisible by 2 and 3\",x)"
   ]
  },
  {
   "cell_type": "code",
   "execution_count": 52,
   "id": "09f2933c-878f-442b-905e-a1b7d8f0df07",
   "metadata": {},
   "outputs": [],
   "source": [
    "# Write a python program to check if text is a or b or c then show Yes \n",
    "# Else show No"
   ]
  },
  {
   "cell_type": "code",
   "execution_count": 55,
   "id": "c4a59bc9-acaf-47cb-82c5-ec82d5fa44cb",
   "metadata": {},
   "outputs": [
    {
     "name": "stdin",
     "output_type": "stream",
     "text": [
      "Enter the Text :- A\n"
     ]
    },
    {
     "name": "stdout",
     "output_type": "stream",
     "text": [
      "Yes\n"
     ]
    }
   ],
   "source": [
    "x = input(\"Enter the Alphabet :-\").lower()\n",
    "if  x==\"a\" or x==\"b\" or x==\"c\":\n",
    "    print(\"Yes\")\n",
    "else:\n",
    "    print(\"No\")"
   ]
  },
  {
   "cell_type": "code",
   "execution_count": 56,
   "id": "acaab494-8575-49e8-85df-7625e2a4009f",
   "metadata": {},
   "outputs": [],
   "source": [
    "# Write a python program to check if number is divisible of 5 or 7\n",
    "# Then show number with divisible statement\n",
    "# Else show number with Not Divisible"
   ]
  },
  {
   "cell_type": "code",
   "execution_count": 59,
   "id": "54ae5ea1-0f15-4367-af3b-442589a166af",
   "metadata": {},
   "outputs": [
    {
     "name": "stdin",
     "output_type": "stream",
     "text": [
      "Enter Any Number :- 70\n"
     ]
    },
    {
     "name": "stdout",
     "output_type": "stream",
     "text": [
      "70 is Divisible \n"
     ]
    }
   ],
   "source": [
    "x = int(input(\"Enter Any Number :-\"))\n",
    "if (x%5==0) or (x%7==0):\n",
    "    print(f'{x} is Divisible ')\n",
    "else:\n",
    "    print(f' {x} is not Divisible ')"
   ]
  },
  {
   "cell_type": "code",
   "execution_count": 77,
   "id": "b6f176b2-0cf2-42c7-9f19-aa119f075bd1",
   "metadata": {},
   "outputs": [
    {
     "name": "stdin",
     "output_type": "stream",
     "text": [
      "Enter Any Number :- 14\n"
     ]
    },
    {
     "name": "stdout",
     "output_type": "stream",
     "text": [
      "14 is Divisible by 5 and 7\n"
     ]
    }
   ],
   "source": [
    "x = int(input(\"Enter Any Number :-\"))\n",
    "if x%5==0 or x%7==0:\n",
    "    print(f'{x} is Divisible by 5 and 7')\n",
    "elif x%5 ==0:\n",
    "    print(f'{x} is Divisible by 5')\n",
    "elif x%7 ==0:\n",
    "    print(f'{x} is Divisible by 7')\n",
    "else:\n",
    "    print(f'{x} is Not Divisible by 5 or 7')"
   ]
  },
  {
   "cell_type": "code",
   "execution_count": 60,
   "id": "54a0153e-8daf-4784-bdbe-7796125d231f",
   "metadata": {},
   "outputs": [],
   "source": [
    "# Membership Operators"
   ]
  },
  {
   "cell_type": "code",
   "execution_count": null,
   "id": "2afb75ce-b91a-4a76-bf74-2dc061a12b4f",
   "metadata": {},
   "outputs": [],
   "source": []
  }
 ],
 "metadata": {
  "kernelspec": {
   "display_name": "Python 3 (ipykernel)",
   "language": "python",
   "name": "python3"
  },
  "language_info": {
   "codemirror_mode": {
    "name": "ipython",
    "version": 3
   },
   "file_extension": ".py",
   "mimetype": "text/x-python",
   "name": "python",
   "nbconvert_exporter": "python",
   "pygments_lexer": "ipython3",
   "version": "3.12.4"
  }
 },
 "nbformat": 4,
 "nbformat_minor": 5
}
