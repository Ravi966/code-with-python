{
 "cells": [
  {
   "cell_type": "code",
   "execution_count": 2,
   "id": "4591678f-f27e-423b-839a-57ba653b5280",
   "metadata": {},
   "outputs": [],
   "source": [
    "# For loop String "
   ]
  },
  {
   "cell_type": "code",
   "execution_count": 3,
   "id": "31361837-2e4a-4490-b206-7ff19aa7b995",
   "metadata": {},
   "outputs": [],
   "source": [
    "x = 'Ramayana'"
   ]
  },
  {
   "cell_type": "code",
   "execution_count": 4,
   "id": "cc213358-e7f2-434d-a60c-8e7ef11c0b3b",
   "metadata": {},
   "outputs": [],
   "source": [
    "# Print all a with the help of for loop"
   ]
  },
  {
   "cell_type": "code",
   "execution_count": 7,
   "id": "41d62fe7-f9cc-4eac-a81b-75074e84f8e4",
   "metadata": {},
   "outputs": [
    {
     "name": "stdout",
     "output_type": "stream",
     "text": [
      "aaaa"
     ]
    }
   ],
   "source": [
    "for i in x:\n",
    "    if i=='a':\n",
    "        print(i,end=\"\")"
   ]
  },
  {
   "cell_type": "code",
   "execution_count": 8,
   "id": "0407c989-b3b2-44b8-b79d-384f453e8315",
   "metadata": {},
   "outputs": [],
   "source": [
    "x ='MaHaBhAraT'"
   ]
  },
  {
   "cell_type": "code",
   "execution_count": 9,
   "id": "6aa71bb3-a2a2-4b6a-954a-17515e7c1883",
   "metadata": {},
   "outputs": [],
   "source": [
    "# Print the all capital letter of alphabet"
   ]
  },
  {
   "cell_type": "code",
   "execution_count": 13,
   "id": "c2c32d4e-dfc8-4b69-bec4-7e9b0e56d619",
   "metadata": {},
   "outputs": [
    {
     "name": "stdout",
     "output_type": "stream",
     "text": [
      "M | H | B | A | T | "
     ]
    }
   ],
   "source": [
    "for i in x:\n",
    "    if i==i.upper():\n",
    "        print(i,end=\" | \")"
   ]
  },
  {
   "cell_type": "code",
   "execution_count": 15,
   "id": "5ea2f58f-8d30-45d9-b940-282537b1a208",
   "metadata": {},
   "outputs": [],
   "source": [
    "# (OR)"
   ]
  },
  {
   "cell_type": "code",
   "execution_count": 16,
   "id": "c43c1550-fe95-40ad-8c43-26eca2bac138",
   "metadata": {},
   "outputs": [
    {
     "name": "stdout",
     "output_type": "stream",
     "text": [
      "M | H | B | A | T | "
     ]
    }
   ],
   "source": [
    "for i in x:\n",
    "    if i.isupper():\n",
    "        print(i,end=\" | \")"
   ]
  },
  {
   "cell_type": "code",
   "execution_count": 17,
   "id": "ff074f21-e867-4745-b509-4a0ebc10a5ef",
   "metadata": {},
   "outputs": [],
   "source": [
    "x ='Delhi'"
   ]
  },
  {
   "cell_type": "code",
   "execution_count": 18,
   "id": "6b556080-ad10-4656-b3e8-ea2676f45bee",
   "metadata": {},
   "outputs": [],
   "source": [
    "# Show the index number of each alphabets"
   ]
  },
  {
   "cell_type": "code",
   "execution_count": 26,
   "id": "790d2185-feca-4dbb-8510-aa539f372c46",
   "metadata": {},
   "outputs": [
    {
     "name": "stdout",
     "output_type": "stream",
     "text": [
      "D  : -  0\n",
      "e  : -  1\n",
      "l  : -  2\n",
      "h  : -  3\n",
      "i  : -  4\n"
     ]
    }
   ],
   "source": [
    "for i in x:\n",
    "    p = x.find(i)\n",
    "    print(i,' : - ',p)"
   ]
  },
  {
   "cell_type": "code",
   "execution_count": 27,
   "id": "3fcc6215-261a-442e-ae7d-bab7b4602edb",
   "metadata": {},
   "outputs": [],
   "source": [
    "# (OR)"
   ]
  },
  {
   "cell_type": "code",
   "execution_count": 34,
   "id": "47f99b5f-c6c1-4c34-a2ad-e6a85150bb55",
   "metadata": {},
   "outputs": [
    {
     "name": "stdout",
     "output_type": "stream",
     "text": [
      "R  Index : -  0\n",
      "a  Index : -  1\n",
      "m  Index : -  2\n",
      "a  Index : -  3\n",
      "y  Index : -  4\n",
      "a  Index : -  5\n",
      "n  Index : -  6\n",
      "a  Index : -  7\n"
     ]
    }
   ],
   "source": [
    "x = 'Ramayana'\n",
    "y = len(x)\n",
    "for i in range(y):\n",
    "    print(x[i],' Index : - ',i)"
   ]
  },
  {
   "cell_type": "code",
   "execution_count": 35,
   "id": "fd789aa3-daf2-4c55-9200-d540c7f2f67f",
   "metadata": {},
   "outputs": [
    {
     "name": "stdout",
     "output_type": "stream",
     "text": [
      "p  Index : -  0\n",
      "y  Index : -  1\n",
      "t  Index : -  2\n",
      "h  Index : -  3\n",
      "o  Index : -  4\n",
      "n  Index : -  5\n"
     ]
    }
   ],
   "source": [
    "x = 'python'\n",
    "y = len(x)\n",
    "for i in range(y):\n",
    "    print(x[i],' Index : - ',i)"
   ]
  },
  {
   "cell_type": "code",
   "execution_count": 42,
   "id": "94624913-21b2-4f15-876c-37f426730f1c",
   "metadata": {},
   "outputs": [
    {
     "name": "stdout",
     "output_type": "stream",
     "text": [
      "p Negative Index : - -5\n",
      "y Negative Index : - -4\n",
      "t Negative Index : - -3\n",
      "h Negative Index : - -2\n",
      "o Negative Index : - -1\n",
      "n Negative Index : - 0\n"
     ]
    }
   ],
   "source": [
    "x = 'python'\n",
    "y = len(x)\n",
    "\n",
    "for i in range(y):\n",
    "    print(x[i], 'Negative Index : -', -(y - i - 1))\n"
   ]
  },
  {
   "cell_type": "code",
   "execution_count": 51,
   "id": "2e405692-2915-4141-b8ab-e363aaade72f",
   "metadata": {},
   "outputs": [],
   "source": [
    "# (OR)"
   ]
  },
  {
   "cell_type": "code",
   "execution_count": 52,
   "id": "4c232c4d-0e85-4014-af35-a0a4bffed1dc",
   "metadata": {},
   "outputs": [
    {
     "name": "stdout",
     "output_type": "stream",
     "text": [
      "d -5\n",
      "e -4\n",
      "l -3\n",
      "h -2\n",
      "i -1\n"
     ]
    }
   ],
   "source": [
    "x = 'delhi'\n",
    "y = len(x)\n",
    "for i in range(-y,0):\n",
    "    print(x[i],i)"
   ]
  },
  {
   "cell_type": "code",
   "execution_count": 53,
   "id": "b642d6db-4adb-43be-b776-53d65a336f0a",
   "metadata": {},
   "outputs": [],
   "source": [
    "x = 'Mahabharat'"
   ]
  },
  {
   "cell_type": "code",
   "execution_count": 54,
   "id": "85cf7875-daf6-422c-ae0f-5b76a5f9b46e",
   "metadata": {},
   "outputs": [],
   "source": [
    "# Show the positive and negatve index with alphabets"
   ]
  },
  {
   "cell_type": "code",
   "execution_count": 55,
   "id": "1d43a69f-0dfd-47f4-89d0-f83fbffc8012",
   "metadata": {},
   "outputs": [
    {
     "name": "stdout",
     "output_type": "stream",
     "text": [
      "M  Positive Index :-   0  |  M  Negative Index : -  -10\n",
      "a  Positive Index :-   1  |  a  Negative Index : -  -9\n",
      "h  Positive Index :-   2  |  h  Negative Index : -  -8\n",
      "a  Positive Index :-   3  |  a  Negative Index : -  -7\n",
      "b  Positive Index :-   4  |  b  Negative Index : -  -6\n",
      "h  Positive Index :-   5  |  h  Negative Index : -  -5\n",
      "a  Positive Index :-   6  |  a  Negative Index : -  -4\n",
      "r  Positive Index :-   7  |  r  Negative Index : -  -3\n",
      "a  Positive Index :-   8  |  a  Negative Index : -  -2\n",
      "t  Positive Index :-   9  |  t  Negative Index : -  -1\n"
     ]
    }
   ],
   "source": [
    "y = len(x)\n",
    "for i in range(y):\n",
    "    print(x[i],' Positive Index :-  ',i,' | ',x[i],' Negative Index : - ',i-y)"
   ]
  },
  {
   "cell_type": "code",
   "execution_count": 56,
   "id": "e6231142-53fc-4161-b602-2610d031f59f",
   "metadata": {},
   "outputs": [],
   "source": [
    "x = 'p2fn3gkjg4j443'"
   ]
  },
  {
   "cell_type": "code",
   "execution_count": 57,
   "id": "8affb97b-6e26-4890-8f55-f440645589ad",
   "metadata": {},
   "outputs": [],
   "source": [
    "# Extract all number in a new variable"
   ]
  },
  {
   "cell_type": "code",
   "execution_count": 71,
   "id": "6eb26c28-c822-4811-a2dc-9cd6373509db",
   "metadata": {},
   "outputs": [
    {
     "name": "stdout",
     "output_type": "stream",
     "text": [
      " 234443\n",
      "<class 'str'>\n",
      "<class 'int'>\n",
      "234443\n"
     ]
    }
   ],
   "source": [
    "n = \" \"\n",
    "for i in x:\n",
    "    if i.isnumeric():\n",
    "        n+=i\n",
    "print(n)\n",
    "print(type(n))\n",
    "n = int(n)\n",
    "print(type(n))\n",
    "print(n)"
   ]
  },
  {
   "cell_type": "code",
   "execution_count": 72,
   "id": "79ee65d4-0d7e-4eec-b8cb-4ebcfbac6c58",
   "metadata": {},
   "outputs": [
    {
     "name": "stdout",
     "output_type": "stream",
     "text": [
      "<class 'str'>\n",
      " pfngkjgj\n"
     ]
    }
   ],
   "source": [
    "s = \" \"\n",
    "for i in x:\n",
    "    if i.isalpha():\n",
    "        s+=i\n",
    "print(type(s))\n",
    "print(s)"
   ]
  },
  {
   "cell_type": "code",
   "execution_count": 74,
   "id": "b0107ea4-f8f6-47d1-a36d-be086db4851d",
   "metadata": {},
   "outputs": [],
   "source": [
    "x = 'pyt@hon#123@'"
   ]
  },
  {
   "cell_type": "code",
   "execution_count": 75,
   "id": "c803f5ca-51bd-4fe4-96e5-9c892c0b8a6e",
   "metadata": {},
   "outputs": [],
   "source": [
    "# print all special charactor"
   ]
  },
  {
   "cell_type": "code",
   "execution_count": 80,
   "id": "ad4bb42d-c2f5-4ee1-b76d-39c4c63d4c24",
   "metadata": {},
   "outputs": [
    {
     "name": "stdout",
     "output_type": "stream",
     "text": [
      "@ | # | @ | "
     ]
    }
   ],
   "source": [
    "for i in x:\n",
    "    if i.isalnum():\n",
    "        continue\n",
    "    else:\n",
    "        print(i,end=\" | \")\n"
   ]
  },
  {
   "cell_type": "code",
   "execution_count": 79,
   "id": "b2907b67-6b37-4601-a2d5-4461362f29f3",
   "metadata": {},
   "outputs": [],
   "source": [
    "# LEVEL 2"
   ]
  },
  {
   "cell_type": "code",
   "execution_count": 81,
   "id": "f97e4064-3454-41dc-922b-34c800914fc4",
   "metadata": {},
   "outputs": [],
   "source": [
    "# Write a python program to find the factorial of any number with the help of user input"
   ]
  },
  {
   "cell_type": "code",
   "execution_count": 87,
   "id": "3ca17313-1726-4b66-805e-ea96f1d31ebf",
   "metadata": {},
   "outputs": [
    {
     "name": "stdin",
     "output_type": "stream",
     "text": [
      "enter the Number :-  8\n"
     ]
    },
    {
     "name": "stdout",
     "output_type": "stream",
     "text": [
      "Factorial :  40320\n"
     ]
    }
   ],
   "source": [
    "x = int(input('enter the Number :- '))\n",
    "f = 1\n",
    "for i in range(f,x+1):\n",
    "    f = f*i\n",
    "print('Factorial : ',f)"
   ]
  },
  {
   "cell_type": "code",
   "execution_count": 88,
   "id": "9069f156-35cf-466c-9a1a-5d201f1b8c0a",
   "metadata": {},
   "outputs": [],
   "source": [
    "x = 'a1b2c4d5e6'"
   ]
  },
  {
   "cell_type": "code",
   "execution_count": 89,
   "id": "a01c6539-508d-47cf-be7d-b437dd851b74",
   "metadata": {},
   "outputs": [],
   "source": [
    "# Show the sum of number from the x"
   ]
  },
  {
   "cell_type": "code",
   "execution_count": 112,
   "id": "c78ccc2a-9592-476e-ac4c-e78c2ef8a166",
   "metadata": {},
   "outputs": [
    {
     "name": "stdout",
     "output_type": "stream",
     "text": [
      "Sum of total number :-  18\n"
     ]
    }
   ],
   "source": [
    "s = 0\n",
    "for i in x:\n",
    "    if i.isdigit():\n",
    "        i = int(i)\n",
    "        s+=i\n",
    "print('Sum of total number :- ',s)"
   ]
  },
  {
   "cell_type": "code",
   "execution_count": 113,
   "id": "8704f691-0675-4e2c-82aa-7bb02bb8171a",
   "metadata": {},
   "outputs": [],
   "source": [
    "x = ['Sunday','Monday','Tuesday','Wednesday','Thursday','Friday','Saturday']"
   ]
  },
  {
   "cell_type": "code",
   "execution_count": 116,
   "id": "6308a8d8-3bdd-4e15-adff-66b8919157e7",
   "metadata": {},
   "outputs": [],
   "source": [
    "# Show the name of day whose name startswith 't'"
   ]
  },
  {
   "cell_type": "code",
   "execution_count": 122,
   "id": "e1c3a20e-009c-4f0a-82e0-4c112e7aad7b",
   "metadata": {},
   "outputs": [
    {
     "name": "stdout",
     "output_type": "stream",
     "text": [
      "Tuesday\n",
      "Thursday\n"
     ]
    }
   ],
   "source": [
    "for i in x:\n",
    "    if i.startswith('T'):\n",
    "        print(i)"
   ]
  },
  {
   "cell_type": "code",
   "execution_count": 123,
   "id": "ebe27483-c86f-41c3-a957-a7802a67dfd3",
   "metadata": {},
   "outputs": [],
   "source": [
    "# (OR)"
   ]
  },
  {
   "cell_type": "code",
   "execution_count": 124,
   "id": "6d2d43ec-8159-4581-9fd9-b18eadcb3748",
   "metadata": {},
   "outputs": [
    {
     "name": "stdout",
     "output_type": "stream",
     "text": [
      "Tuesday\n",
      "Thursday\n"
     ]
    }
   ],
   "source": [
    "for i in x:\n",
    "    if i[0]=='T':\n",
    "        print(i)"
   ]
  },
  {
   "cell_type": "code",
   "execution_count": null,
   "id": "f21714de-08fa-4fb3-9e30-e62eb7515d9c",
   "metadata": {},
   "outputs": [],
   "source": []
  }
 ],
 "metadata": {
  "kernelspec": {
   "display_name": "Python 3 (ipykernel)",
   "language": "python",
   "name": "python3"
  },
  "language_info": {
   "codemirror_mode": {
    "name": "ipython",
    "version": 3
   },
   "file_extension": ".py",
   "mimetype": "text/x-python",
   "name": "python",
   "nbconvert_exporter": "python",
   "pygments_lexer": "ipython3",
   "version": "3.12.4"
  }
 },
 "nbformat": 4,
 "nbformat_minor": 5
}
