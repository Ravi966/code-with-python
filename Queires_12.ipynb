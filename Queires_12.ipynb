{
 "cells": [
  {
   "cell_type": "code",
   "execution_count": 45,
   "id": "943a0e7a-9ea1-4f41-baa9-58c59dacc792",
   "metadata": {},
   "outputs": [],
   "source": [
    "# Write a python program to to count whose text starts and endwith same alphabets"
   ]
  },
  {
   "cell_type": "code",
   "execution_count": 46,
   "id": "fabaa9a7-e77f-4ac4-8cf4-c55e16d27740",
   "metadata": {},
   "outputs": [],
   "source": [
    "x = ['Adda','xyz','1221','fox','Rider']"
   ]
  },
  {
   "cell_type": "code",
   "execution_count": 47,
   "id": "272e7dd5-adc9-4278-8476-a4133917cb6e",
   "metadata": {},
   "outputs": [
    {
     "name": "stdout",
     "output_type": "stream",
     "text": [
      "3\n"
     ]
    }
   ],
   "source": [
    "c = 0\n",
    "for i in x:\n",
    "    if i[0].lower()==i[-1].lower():\n",
    "        c+=1\n",
    "print(c)"
   ]
  },
  {
   "cell_type": "code",
   "execution_count": 48,
   "id": "d105e0f2-7918-4f19-9c0b-055354306821",
   "metadata": {},
   "outputs": [],
   "source": [
    "# 2. Delete all duplicate value from list"
   ]
  },
  {
   "cell_type": "code",
   "execution_count": 1,
   "id": "7b439096-8890-4753-8c99-acbd7a16aff8",
   "metadata": {},
   "outputs": [],
   "source": [
    "x = [34,12,678,12,54,67,34]"
   ]
  },
  {
   "cell_type": "code",
   "execution_count": 4,
   "id": "a1041178-2e8f-4f39-a0f0-40fe8884b746",
   "metadata": {},
   "outputs": [
    {
     "name": "stdout",
     "output_type": "stream",
     "text": [
      "List without duplicates using loop: [34, 12, 678, 54, 67]\n",
      "List without duplicates using set: [34, 67, 678, 12, 54]\n"
     ]
    }
   ],
   "source": [
    "\n",
    "x = [34, 12, 678, 12, 54, 67, 34]\n",
    "\n",
    "# Method 1: Removing duplicates using loop\n",
    "y = []\n",
    "for i in x:\n",
    "    if i not in y:\n",
    "        y.append(i)\n",
    "print(\"List without duplicates using loop:\", y)\n",
    "\n",
    "# Method 2: Removing duplicates using set\n",
    "x = list(set(x))\n",
    "print(\"List without duplicates using set:\", x)\n"
   ]
  },
  {
   "cell_type": "code",
   "execution_count": null,
   "id": "eb966d13-8de6-4844-ae1d-c55b89745aa0",
   "metadata": {},
   "outputs": [],
   "source": [
    "x = set(x)\n",
    "x = list(x)\n",
    "print(x)"
   ]
  },
  {
   "cell_type": "code",
   "execution_count": 58,
   "id": "c58e700d-fd8d-4981-a2e1-149fbdcd1e11",
   "metadata": {},
   "outputs": [],
   "source": [
    "# Write a python program to find the list of words that are longer than n from a given list of words.\n",
    "x = 'The quick brown fox jumps over the lazy dog'"
   ]
  },
  {
   "cell_type": "code",
   "execution_count": 59,
   "id": "c6e539be-7465-4352-8ffe-8dea2b92dbe9",
   "metadata": {},
   "outputs": [
    {
     "name": "stdout",
     "output_type": "stream",
     "text": [
      "quick\n",
      "brown\n",
      "jumps\n"
     ]
    }
   ],
   "source": [
    "n = 0\n",
    "x = x.split()\n",
    "for i in x:\n",
    "    if len(i)>n:\n",
    "        n=len(i)\n",
    "        v = i\n",
    "for i in x:\n",
    "    if len(i)==n:\n",
    "        print(i)"
   ]
  },
  {
   "cell_type": "code",
   "execution_count": null,
   "id": "df6c9474-11de-43ea-9d82-9bde86e3e646",
   "metadata": {},
   "outputs": [],
   "source": [
    "# Write a python function that takes two lists and returns True if they have at least one common member."
   ]
  },
  {
   "cell_type": "code",
   "execution_count": 52,
   "id": "bf985196-b25b-402c-94f9-2773caa2b895",
   "metadata": {},
   "outputs": [],
   "source": [
    "x = [5,6,8,3,7,1]\n",
    "y = [9,10,5,7,2,8]"
   ]
  },
  {
   "cell_type": "code",
   "execution_count": 53,
   "id": "4e8f8476-4d75-4412-b380-cdb63b28e573",
   "metadata": {},
   "outputs": [
    {
     "name": "stdout",
     "output_type": "stream",
     "text": [
      "5\n",
      "8\n",
      "7\n"
     ]
    }
   ],
   "source": [
    "for i in x:\n",
    "    if i  in y:\n",
    "        print(i)"
   ]
  },
  {
   "cell_type": "code",
   "execution_count": 60,
   "id": "e5d49085-7990-41fe-9aee-9b28e2a53790",
   "metadata": {},
   "outputs": [],
   "source": [
    "# write a python program to calculate the difference between the two list."
   ]
  },
  {
   "cell_type": "code",
   "execution_count": 75,
   "id": "6b4ca91c-b2f7-4ad8-8aeb-442129a272e6",
   "metadata": {},
   "outputs": [],
   "source": [
    "x = [6,3,7,8]\n",
    "y = [6,3,4,8]"
   ]
  },
  {
   "cell_type": "code",
   "execution_count": 76,
   "id": "ce6508bd-8cc7-4908-a4b3-d0676bc6e7ef",
   "metadata": {},
   "outputs": [
    {
     "name": "stdout",
     "output_type": "stream",
     "text": [
      "7\n"
     ]
    }
   ],
   "source": [
    "for i in x:\n",
    "    if i not in y :\n",
    "        print(i)"
   ]
  },
  {
   "cell_type": "code",
   "execution_count": 67,
   "id": "7fb050cd-7554-444b-bd88-d82e33d09950",
   "metadata": {},
   "outputs": [],
   "source": [
    "# Write a python program to convert a list of characters into a string."
   ]
  },
  {
   "cell_type": "code",
   "execution_count": 68,
   "id": "2a94dc42-017b-4450-ac3a-561cd2a8ed6c",
   "metadata": {},
   "outputs": [],
   "source": [
    "x = [\"P\",'Y','T','H','O','N']"
   ]
  },
  {
   "cell_type": "code",
   "execution_count": 71,
   "id": "0613eb45-f880-40e4-8118-0883f41f5827",
   "metadata": {},
   "outputs": [
    {
     "name": "stdout",
     "output_type": "stream",
     "text": [
      "PYTHON\n"
     ]
    }
   ],
   "source": [
    "x = \"\".join(x)\n",
    "print(x)"
   ]
  },
  {
   "cell_type": "code",
   "execution_count": 113,
   "id": "8a8b028d-9386-44de-976d-547712354cfa",
   "metadata": {},
   "outputs": [],
   "source": [
    "# Write a python porgram to flatten a shallow list.\n",
    "lis =[[2,4,3],[1,5,6],[9],[7,9,0]]"
   ]
  },
  {
   "cell_type": "code",
   "execution_count": 114,
   "id": "65f66ffe-e406-4dee-b143-d1116abb4640",
   "metadata": {},
   "outputs": [],
   "source": [
    "x = str(lis)"
   ]
  },
  {
   "cell_type": "code",
   "execution_count": 115,
   "id": "e3a2aad6-3e3a-4a8b-a44f-19c21658ebbc",
   "metadata": {},
   "outputs": [],
   "source": [
    "x = x.replace('[',\"\")\n",
    "x = x.replace(']',\"\")\n",
    "x = x.replace(\",\",\"\")\n",
    "x = x.split()"
   ]
  },
  {
   "cell_type": "code",
   "execution_count": 116,
   "id": "f3df3f98-250e-4758-b5f9-2f7d874715e8",
   "metadata": {},
   "outputs": [],
   "source": [
    "x = [int(i) for i in x]"
   ]
  },
  {
   "cell_type": "code",
   "execution_count": 117,
   "id": "8eed96eb-4ff0-4761-8568-7d0f09321667",
   "metadata": {},
   "outputs": [
    {
     "name": "stdout",
     "output_type": "stream",
     "text": [
      "10\n",
      "<class 'list'>\n"
     ]
    }
   ],
   "source": [
    "print(len(x))\n",
    "print(type(x))"
   ]
  },
  {
   "cell_type": "code",
   "execution_count": 108,
   "id": "81c68671-ca07-40f5-ad67-437177327559",
   "metadata": {},
   "outputs": [],
   "source": [
    "# Write a python program to find the second smallest number in a list."
   ]
  },
  {
   "cell_type": "code",
   "execution_count": 127,
   "id": "77bc0137-1542-4c93-bf02-b160ae14bcb3",
   "metadata": {},
   "outputs": [],
   "source": [
    "x = [1,1,0,0,2,-2,-2]"
   ]
  },
  {
   "cell_type": "code",
   "execution_count": 128,
   "id": "7490c402-d8a5-4975-9b43-33119845bfe5",
   "metadata": {},
   "outputs": [
    {
     "name": "stdout",
     "output_type": "stream",
     "text": [
      "[2, 1, 1, 0, 0, -2, -2]\n"
     ]
    },
    {
     "data": {
      "text/plain": [
       "-2"
      ]
     },
     "execution_count": 128,
     "metadata": {},
     "output_type": "execute_result"
    }
   ],
   "source": [
    "x.sort(reverse=True)\n",
    "print(x)\n",
    "x[-2]"
   ]
  },
  {
   "cell_type": "code",
   "execution_count": 131,
   "id": "9b1c3551-a6cf-43bf-b609-d90ce58ec6a9",
   "metadata": {},
   "outputs": [],
   "source": [
    "# Write a python program to get the frequency of elements in a list."
   ]
  },
  {
   "cell_type": "code",
   "execution_count": 132,
   "id": "05526ad3-e5ca-4f1c-a691-e2526249b041",
   "metadata": {},
   "outputs": [],
   "source": [
    "x = [10,10,10,10,20,20,20,20,40,40,50,50,30]"
   ]
  },
  {
   "cell_type": "code",
   "execution_count": null,
   "id": "1e634d92-8583-4038-8441-7c55b837ede9",
   "metadata": {},
   "outputs": [],
   "source": []
  }
 ],
 "metadata": {
  "kernelspec": {
   "display_name": "Python 3 (ipykernel)",
   "language": "python",
   "name": "python3"
  },
  "language_info": {
   "codemirror_mode": {
    "name": "ipython",
    "version": 3
   },
   "file_extension": ".py",
   "mimetype": "text/x-python",
   "name": "python",
   "nbconvert_exporter": "python",
   "pygments_lexer": "ipython3",
   "version": "3.12.4"
  }
 },
 "nbformat": 4,
 "nbformat_minor": 5
}
