{
 "cells": [
  {
   "cell_type": "code",
   "execution_count": 1,
   "id": "e0dc24ce-f08d-488f-a12e-ffc17c617310",
   "metadata": {},
   "outputs": [],
   "source": [
    "# Write a python program to show the largest number between two values "
   ]
  },
  {
   "cell_type": "code",
   "execution_count": 5,
   "id": "a502abf0-9010-4d32-b172-0e00ff55b3b2",
   "metadata": {},
   "outputs": [],
   "source": [
    "x = 45\n",
    "y = 60 "
   ]
  },
  {
   "cell_type": "code",
   "execution_count": 7,
   "id": "de83ade3-3d0b-40af-8ce1-5ae7fa5aaf19",
   "metadata": {},
   "outputs": [
    {
     "name": "stdout",
     "output_type": "stream",
     "text": [
      "60 is Largest number \n"
     ]
    }
   ],
   "source": [
    "if x>y:\n",
    "    print(f'{x} is Largest number ')\n",
    "else:\n",
    "    print(f'{y} is Largest number ')"
   ]
  },
  {
   "cell_type": "code",
   "execution_count": 8,
   "id": "325f7e9b-c145-4b82-9c27-ffff6e972684",
   "metadata": {},
   "outputs": [],
   "source": [
    "# Write a python program with three number and compare which is the largest number of them "
   ]
  },
  {
   "cell_type": "code",
   "execution_count": null,
   "id": "34c764bd-266a-4f4f-8fa8-ccd816a115d5",
   "metadata": {},
   "outputs": [],
   "source": []
  },
  {
   "cell_type": "code",
   "execution_count": 28,
   "id": "e6d7924a-fa8b-4f87-a5cc-170cac00414a",
   "metadata": {},
   "outputs": [
    {
     "name": "stdin",
     "output_type": "stream",
     "text": [
      "Enter the number : - 45\n",
      "Enter the number : - 78\n",
      "Enter the number : - 99\n"
     ]
    },
    {
     "name": "stdout",
     "output_type": "stream",
     "text": [
      "99 is Largest number \n"
     ]
    }
   ],
   "source": [
    "x = int(input(\"Enter the number : -\"))\n",
    "y = int(input(\"Enter the number : -\"))\n",
    "z = int(input(\"Enter the number : -\"))\n",
    "if (x>y) and (x>z):\n",
    "    print(x,'is Largest Number ')\n",
    "elif (y>x) and (y>z):\n",
    "    print(y,'is Largest Number ')\n",
    "elif (z>x) and (z>y):\n",
    "    print(z,'is Largest number ')"
   ]
  },
  {
   "cell_type": "code",
   "execution_count": 31,
   "id": "f079843d-810e-47e1-b077-c38a43d72984",
   "metadata": {},
   "outputs": [
    {
     "name": "stdin",
     "output_type": "stream",
     "text": [
      "Enter the number : - 4\n",
      "Enter the number : - 5\n",
      "Enter the number : - 65\n"
     ]
    },
    {
     "name": "stdout",
     "output_type": "stream",
     "text": [
      "65 is the largest number \n"
     ]
    }
   ],
   "source": [
    "x = int(input(\"Enter the number : -\"))\n",
    "y = int(input(\"Enter the number : -\"))\n",
    "z = int(input(\"Enter the number : -\"))\n",
    "if x>y and x>z:\n",
    "    d = x\n",
    "elif y>z and y>x:\n",
    "    d = y\n",
    "else:\n",
    "    d = z\n",
    "print(d,'is the largest number ')"
   ]
  },
  {
   "cell_type": "code",
   "execution_count": 36,
   "id": "dc4a91a7-77e4-4498-8acb-2b140a6d90b4",
   "metadata": {},
   "outputs": [],
   "source": [
    "email = 'ravi828738'\n",
    "pas = '828738'"
   ]
  },
  {
   "cell_type": "code",
   "execution_count": 40,
   "id": "5a2048c5-f73e-43f9-8293-ca150d7aa4e7",
   "metadata": {},
   "outputs": [
    {
     "name": "stdin",
     "output_type": "stream",
     "text": [
      "Please enter your Email id :-  Ravi828738\n"
     ]
    },
    {
     "name": "stdout",
     "output_type": "stream",
     "text": [
      "Correct Email\n",
      "------------------------------------------------------------------------------------------------------------------------\n"
     ]
    },
    {
     "name": "stdin",
     "output_type": "stream",
     "text": [
      "Please Enter your password : - 828738\n"
     ]
    },
    {
     "name": "stdout",
     "output_type": "stream",
     "text": [
      "------------------------------------------------------------------------------------------------------------------------\n",
      "Welcome to Gmail Account !\n"
     ]
    }
   ],
   "source": [
    "x = input('Please enter your Email id :- ').lower()\n",
    "if x ==email:\n",
    "    print('Correct Email')\n",
    "    print('-'*120)\n",
    "    y = input(\"Please Enter your password : -\")\n",
    "    if y ==pas:\n",
    "        print('-'*120)\n",
    "        print(\"Welcome to Gmail Account !\")\n",
    "    else:\n",
    "        print('-'*120)\n",
    "        print('Wrong Password')\n",
    "        print('-'*120)\n",
    "        print('Please Try Again')\n",
    "else:\n",
    "    print('-'*120)\n",
    "    print('Invaild Email')"
   ]
  },
  {
   "cell_type": "code",
   "execution_count": 43,
   "id": "e04bf3ca-1af1-4da6-906e-d9877e5defd7",
   "metadata": {},
   "outputs": [
    {
     "name": "stdout",
     "output_type": "stream",
     "text": [
      "----------------------------------------------------------------------------------------------------------------------------------\n"
     ]
    },
    {
     "name": "stdin",
     "output_type": "stream",
     "text": [
      "Create a Gamil Account ravi8285\n"
     ]
    },
    {
     "name": "stdout",
     "output_type": "stream",
     "text": [
      "----------------------------------------------------------------------------------------------------------------------------------\n"
     ]
    },
    {
     "name": "stdin",
     "output_type": "stream",
     "text": [
      "Create your password 8285\n"
     ]
    },
    {
     "name": "stdout",
     "output_type": "stream",
     "text": [
      "----------------------------------------------------------------------------------------------------------------------------------\n"
     ]
    }
   ],
   "source": [
    "print('-'*130)\n",
    "email = input(\"Create a Gamil Account\")\n",
    "print('-'*130)\n",
    "pas = input(\"Create your password\")\n",
    "print('-'*130)"
   ]
  },
  {
   "cell_type": "code",
   "execution_count": 44,
   "id": "f98ff7d9-88dd-48d2-8d8d-86e71d1a1491",
   "metadata": {},
   "outputs": [
    {
     "name": "stdin",
     "output_type": "stream",
     "text": [
      "Please enter your Email id :-  ravi8285\n"
     ]
    },
    {
     "name": "stdout",
     "output_type": "stream",
     "text": [
      "Correct Email\n",
      "------------------------------------------------------------------------------------------------------------------------\n"
     ]
    },
    {
     "name": "stdin",
     "output_type": "stream",
     "text": [
      "Please Enter your password : - 8285\n"
     ]
    },
    {
     "name": "stdout",
     "output_type": "stream",
     "text": [
      "------------------------------------------------------------------------------------------------------------------------\n",
      "Welcome to Gmail Account !\n"
     ]
    }
   ],
   "source": [
    "x = input('Please enter your Email id :- ').lower()\n",
    "if x ==email:\n",
    "    print('Correct Email')\n",
    "    print('-'*120)\n",
    "    y = input(\"Please Enter your password : -\")\n",
    "    if y ==pas:\n",
    "        print('-'*120)\n",
    "        print(\"Welcome to Gmail Account !\")\n",
    "    else:\n",
    "        print('-'*120)\n",
    "        print('Wrong Password')\n",
    "        print('-'*120)\n",
    "        print('Please Try Again')\n",
    "else:\n",
    "    print('-'*120)\n",
    "    print('Invaild Email')"
   ]
  },
  {
   "cell_type": "code",
   "execution_count": 66,
   "id": "632a7360-6444-4bc2-8805-65a1f6ec8485",
   "metadata": {},
   "outputs": [
    {
     "name": "stdout",
     "output_type": "stream",
     "text": [
      "**********************************************************************************************************************************\n"
     ]
    },
    {
     "name": "stdin",
     "output_type": "stream",
     "text": [
      "Your Annual Income :-  500000\n"
     ]
    },
    {
     "name": "stdout",
     "output_type": "stream",
     "text": [
      "----------------------------------------------------------------------------------------------------------------------------------\n",
      "25000.0 5%\n",
      "----------------------------------------------------------------------------------------------------------------------------------\n",
      "Remaning Salary 475000.0\n",
      "----------------------------------------------------------------------------------------------------------------------------------\n"
     ]
    }
   ],
   "source": [
    "print('*'*130)\n",
    "x = int(input(\"Your Annual Income :- \"))\n",
    "print('-'*130)\n",
    "if x<=300000:\n",
    "    print(x,'Null')\n",
    "elif x>300000:\n",
    "    tax = x*0.05\n",
    "    print(tax,'5%')\n",
    "    print('-'*130)\n",
    "    print('Remaning Salary',x-tax)\n",
    "elif x<=1000000:\n",
    "    tax = x*0.1\n",
    "    print(tax,'10%')\n",
    "    print('-'*130)\n",
    "    print('Remaning Salary',x-tax)\n",
    "elif x<=1200000:\n",
    "    tax = x*0.15\n",
    "    print(tax,'15%')\n",
    "    print('-'*130)\n",
    "    print('Remaning Salary',x-tax)\n",
    "elif x<=1500000:\n",
    "    tax = x*0.2\n",
    "    print(tax,'20%')\n",
    "    print('-'*130)\n",
    "    print('Remaning Salary',x-tax)\n",
    "elif x>1500000:\n",
    "    tax = x*0.3\n",
    "    print(tax,'30%')\n",
    "    print('-'*130)\n",
    "    print('Remaning Salary',x-tax)\n",
    "print('-'*130)"
   ]
  },
  {
   "cell_type": "code",
   "execution_count": 57,
   "id": "cf8b5e70-c3e7-4c0f-996d-3a81692fe7b8",
   "metadata": {},
   "outputs": [],
   "source": [
    "x = 'Good and Services tax'"
   ]
  },
  {
   "cell_type": "code",
   "execution_count": 58,
   "id": "eea1963a-2708-4399-a51b-735173354fb8",
   "metadata": {},
   "outputs": [],
   "source": [
    "# Extract \n",
    "# and \n",
    "# tax"
   ]
  },
  {
   "cell_type": "code",
   "execution_count": 59,
   "id": "2d9f7b4f-71b8-4741-9b99-6041b9a138b7",
   "metadata": {},
   "outputs": [],
   "source": [
    "y = x.split()"
   ]
  },
  {
   "cell_type": "code",
   "execution_count": 63,
   "id": "b1080908-1157-4945-9dbf-a4d4f149dfdd",
   "metadata": {},
   "outputs": [
    {
     "name": "stdout",
     "output_type": "stream",
     "text": [
      "and\n",
      "tax\n"
     ]
    }
   ],
   "source": [
    "print(y[1])\n",
    "print(y[-1])"
   ]
  },
  {
   "cell_type": "code",
   "execution_count": null,
   "id": "1d1dafec-230b-4381-bae5-4483dc195b41",
   "metadata": {},
   "outputs": [],
   "source": []
  }
 ],
 "metadata": {
  "kernelspec": {
   "display_name": "Python 3 (ipykernel)",
   "language": "python",
   "name": "python3"
  },
  "language_info": {
   "codemirror_mode": {
    "name": "ipython",
    "version": 3
   },
   "file_extension": ".py",
   "mimetype": "text/x-python",
   "name": "python",
   "nbconvert_exporter": "python",
   "pygments_lexer": "ipython3",
   "version": "3.12.4"
  }
 },
 "nbformat": 4,
 "nbformat_minor": 5
}
