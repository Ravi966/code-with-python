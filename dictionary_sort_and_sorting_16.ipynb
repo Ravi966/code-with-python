{
 "cells": [
  {
   "cell_type": "markdown",
   "id": "27b841c4-627e-4d85-8fa6-33217ef58d54",
   "metadata": {},
   "source": [
    "#### Nested Dictionary :- \n",
    "* When we use one dictionary inside another dictionary its called nested dictionary."
   ]
  },
  {
   "cell_type": "code",
   "execution_count": 39,
   "id": "07f27e65-064a-4d35-b5c9-643fcfdb9e84",
   "metadata": {},
   "outputs": [],
   "source": [
    "p1 = {\n",
    "    'Name':'Shivam',\n",
    "    'Class':'5th',\n",
    "    'City':'Delhi',\n",
    "    'Age':20\n",
    "}\n",
    "p2 = {\n",
    "    'Name':'Mukesh',\n",
    "    'Class':'10th',\n",
    "    'City':'Haryana',\n",
    "    'Age':26\n",
    "}\n",
    "p3 = {\n",
    "    'Name':'Ravi',\n",
    "    'Class':'Graduate',\n",
    "    'City':'Noida',\n",
    "    'Age':19\n",
    "}\n",
    "p4 = {\n",
    "    'Name':'Deepak',\n",
    "    'Class':'12th',\n",
    "    'City':'Assam',\n",
    "    'Age':22\n",
    "}"
   ]
  },
  {
   "cell_type": "code",
   "execution_count": 40,
   "id": "50edc4ec-9d7a-4616-b598-1c0130ca608d",
   "metadata": {},
   "outputs": [],
   "source": [
    "dc = {1:p1,2:p2,3:p3,4:p4}"
   ]
  },
  {
   "cell_type": "code",
   "execution_count": 41,
   "id": "865609f6-251a-444b-8a4e-3a20cc38c14d",
   "metadata": {},
   "outputs": [
    {
     "data": {
      "text/plain": [
       "{1: {'Name': 'Shivam', 'Class': '5th', 'City': 'Delhi', 'Age': 20},\n",
       " 2: {'Name': 'Mukesh', 'Class': '10th', 'City': 'Haryana', 'Age': 26},\n",
       " 3: {'Name': 'Ravi', 'Class': 'Graduate', 'City': 'Noida', 'Age': 19},\n",
       " 4: {'Name': 'Deepak', 'Class': '12th', 'City': 'Assam', 'Age': 22}}"
      ]
     },
     "execution_count": 41,
     "metadata": {},
     "output_type": "execute_result"
    }
   ],
   "source": [
    "dc"
   ]
  },
  {
   "cell_type": "code",
   "execution_count": 42,
   "id": "752f2d02-9769-451e-98a3-7cae79cac9a1",
   "metadata": {},
   "outputs": [
    {
     "data": {
      "text/plain": [
       "dict_values([{'Name': 'Shivam', 'Class': '5th', 'City': 'Delhi', 'Age': 20}, {'Name': 'Mukesh', 'Class': '10th', 'City': 'Haryana', 'Age': 26}, {'Name': 'Ravi', 'Class': 'Graduate', 'City': 'Noida', 'Age': 19}, {'Name': 'Deepak', 'Class': '12th', 'City': 'Assam', 'Age': 22}])"
      ]
     },
     "execution_count": 42,
     "metadata": {},
     "output_type": "execute_result"
    }
   ],
   "source": [
    "dc.values()"
   ]
  },
  {
   "cell_type": "code",
   "execution_count": 43,
   "id": "c3e6d752-c1f7-4379-91f5-bbfbfc59bccc",
   "metadata": {},
   "outputs": [
    {
     "data": {
      "text/plain": [
       "dict_keys([1, 2, 3, 4])"
      ]
     },
     "execution_count": 43,
     "metadata": {},
     "output_type": "execute_result"
    }
   ],
   "source": [
    "dc.keys()"
   ]
  },
  {
   "cell_type": "code",
   "execution_count": 44,
   "id": "66c6d823-fd59-4a95-9bdc-92cb49358491",
   "metadata": {},
   "outputs": [
    {
     "data": {
      "text/plain": [
       "dict_items([(1, {'Name': 'Shivam', 'Class': '5th', 'City': 'Delhi', 'Age': 20}), (2, {'Name': 'Mukesh', 'Class': '10th', 'City': 'Haryana', 'Age': 26}), (3, {'Name': 'Ravi', 'Class': 'Graduate', 'City': 'Noida', 'Age': 19}), (4, {'Name': 'Deepak', 'Class': '12th', 'City': 'Assam', 'Age': 22})])"
      ]
     },
     "execution_count": 44,
     "metadata": {},
     "output_type": "execute_result"
    }
   ],
   "source": [
    "dc.items()"
   ]
  },
  {
   "cell_type": "code",
   "execution_count": 45,
   "id": "e14926d7-7916-4187-938c-f1bfd3337b34",
   "metadata": {},
   "outputs": [],
   "source": [
    "# Show the name of students whose roll no is 4"
   ]
  },
  {
   "cell_type": "code",
   "execution_count": 46,
   "id": "85113e4e-726a-4062-84e5-c4375978351f",
   "metadata": {},
   "outputs": [
    {
     "data": {
      "text/plain": [
       "'Deepak'"
      ]
     },
     "execution_count": 46,
     "metadata": {},
     "output_type": "execute_result"
    }
   ],
   "source": [
    "dc[4]['Name']"
   ]
  },
  {
   "cell_type": "code",
   "execution_count": 47,
   "id": "1ad129b9-2053-44e2-9d34-107fdd51901e",
   "metadata": {},
   "outputs": [],
   "source": [
    "# Show the age of students whose roll no is 4"
   ]
  },
  {
   "cell_type": "code",
   "execution_count": 48,
   "id": "c370df7a-b300-4e78-874c-231a63596be3",
   "metadata": {},
   "outputs": [
    {
     "data": {
      "text/plain": [
       "22"
      ]
     },
     "execution_count": 48,
     "metadata": {},
     "output_type": "execute_result"
    }
   ],
   "source": [
    "dc[4]['Age']"
   ]
  },
  {
   "cell_type": "code",
   "execution_count": 49,
   "id": "e08e96ae-ab04-44e6-9760-2ce768d18229",
   "metadata": {},
   "outputs": [],
   "source": [
    "# Show the class of students whsoe no is 2"
   ]
  },
  {
   "cell_type": "code",
   "execution_count": 50,
   "id": "0b0c59dc-1117-480c-bf2d-b3570a1c82b9",
   "metadata": {},
   "outputs": [
    {
     "data": {
      "text/plain": [
       "'10th'"
      ]
     },
     "execution_count": 50,
     "metadata": {},
     "output_type": "execute_result"
    }
   ],
   "source": [
    "dc[2]['Class']"
   ]
  },
  {
   "cell_type": "code",
   "execution_count": 51,
   "id": "a87b7706-5965-425a-9b66-013195778bdb",
   "metadata": {},
   "outputs": [],
   "source": [
    "# Show all featuers of 3"
   ]
  },
  {
   "cell_type": "code",
   "execution_count": 52,
   "id": "a40d36e4-53d3-4c66-835c-2749f9d2233a",
   "metadata": {},
   "outputs": [
    {
     "data": {
      "text/plain": [
       "{'Name': 'Ravi', 'Class': 'Graduate', 'City': 'Noida', 'Age': 19}"
      ]
     },
     "execution_count": 52,
     "metadata": {},
     "output_type": "execute_result"
    }
   ],
   "source": [
    "dc[3]"
   ]
  },
  {
   "cell_type": "code",
   "execution_count": 53,
   "id": "eed4e4b3-1f36-4755-a5aa-ee6357371758",
   "metadata": {},
   "outputs": [],
   "source": [
    "# Show all value of students whose roll no is 4"
   ]
  },
  {
   "cell_type": "code",
   "execution_count": 54,
   "id": "fe2a3763-45f0-4ecf-822a-eec5dc2bea4f",
   "metadata": {},
   "outputs": [
    {
     "data": {
      "text/plain": [
       "dict_values(['Deepak', '12th', 'Assam', 22])"
      ]
     },
     "execution_count": 54,
     "metadata": {},
     "output_type": "execute_result"
    }
   ],
   "source": [
    "dc[4].values()"
   ]
  },
  {
   "cell_type": "code",
   "execution_count": 58,
   "id": "d5eef22d-b8f8-476e-bd8f-423a4d76a32c",
   "metadata": {},
   "outputs": [
    {
     "name": "stdout",
     "output_type": "stream",
     "text": [
      "['Shivam', '5th', 'Delhi', 20]\n",
      "['Mukesh', '10th', 'Haryana', 26]\n",
      "['Ravi', 'Graduate', 'Noida', 19]\n",
      "['Deepak', '12th', 'Assam', 22]\n"
     ]
    }
   ],
   "source": [
    "for i in dc:\n",
    "    print(list(dc[i].values()))"
   ]
  },
  {
   "cell_type": "code",
   "execution_count": 55,
   "id": "1f43dabf-66c7-46e0-b316-0ff6ff655952",
   "metadata": {},
   "outputs": [],
   "source": [
    "# Show values in list of each students"
   ]
  },
  {
   "cell_type": "code",
   "execution_count": 64,
   "id": "a28c730b-bb1f-44cc-b4de-1338d8a365df",
   "metadata": {},
   "outputs": [],
   "source": [
    "x = {\n",
    "    \"Name\":['Ranjan','Anshu','Ankit','Manu'],\n",
    "    'Age':[23,24,25,26],\n",
    "    'Marks':[456,789,155,435],\n",
    "    'City':['Noida','Bihar','Delhi','Haryana']\n",
    "}"
   ]
  },
  {
   "cell_type": "code",
   "execution_count": 65,
   "id": "b877b843-ca12-4cad-ae29-922d33164120",
   "metadata": {},
   "outputs": [
    {
     "data": {
      "text/plain": [
       "{'Name': ['Ranjan', 'Anshu', 'Ankit', 'Manu'],\n",
       " 'Age': [23, 24, 25, 26],\n",
       " 'Marks': [456, 789, 155, 435],\n",
       " 'City': ['Noida', 'Bihar', 'Delhi', 'Haryana']}"
      ]
     },
     "execution_count": 65,
     "metadata": {},
     "output_type": "execute_result"
    }
   ],
   "source": [
    "x"
   ]
  },
  {
   "cell_type": "code",
   "execution_count": 66,
   "id": "d34b6610-e497-4fee-8593-d4939b89ae22",
   "metadata": {},
   "outputs": [],
   "source": [
    "import pandas as pd"
   ]
  },
  {
   "cell_type": "code",
   "execution_count": 69,
   "id": "f27246c5-65a3-4f1b-8f33-8764c6bf191d",
   "metadata": {},
   "outputs": [],
   "source": [
    "df = pd.DataFrame(x)"
   ]
  },
  {
   "cell_type": "code",
   "execution_count": 77,
   "id": "ace834cf-d03b-4aa0-ba91-4406c4f1f9ee",
   "metadata": {},
   "outputs": [
    {
     "data": {
      "text/html": [
       "<div>\n",
       "<style scoped>\n",
       "    .dataframe tbody tr th:only-of-type {\n",
       "        vertical-align: middle;\n",
       "    }\n",
       "\n",
       "    .dataframe tbody tr th {\n",
       "        vertical-align: top;\n",
       "    }\n",
       "\n",
       "    .dataframe thead th {\n",
       "        text-align: right;\n",
       "    }\n",
       "</style>\n",
       "<table border=\"1\" class=\"dataframe\">\n",
       "  <thead>\n",
       "    <tr style=\"text-align: right;\">\n",
       "      <th></th>\n",
       "      <th>Name</th>\n",
       "      <th>Age</th>\n",
       "      <th>Marks</th>\n",
       "      <th>City</th>\n",
       "    </tr>\n",
       "  </thead>\n",
       "  <tbody>\n",
       "    <tr>\n",
       "      <th>0</th>\n",
       "      <td>Ranjan</td>\n",
       "      <td>23</td>\n",
       "      <td>456</td>\n",
       "      <td>Noida</td>\n",
       "    </tr>\n",
       "    <tr>\n",
       "      <th>1</th>\n",
       "      <td>Anshu</td>\n",
       "      <td>24</td>\n",
       "      <td>789</td>\n",
       "      <td>Bihar</td>\n",
       "    </tr>\n",
       "    <tr>\n",
       "      <th>2</th>\n",
       "      <td>Ankit</td>\n",
       "      <td>25</td>\n",
       "      <td>155</td>\n",
       "      <td>Delhi</td>\n",
       "    </tr>\n",
       "    <tr>\n",
       "      <th>3</th>\n",
       "      <td>Manu</td>\n",
       "      <td>26</td>\n",
       "      <td>435</td>\n",
       "      <td>Haryana</td>\n",
       "    </tr>\n",
       "  </tbody>\n",
       "</table>\n",
       "</div>"
      ],
      "text/plain": [
       "     Name  Age  Marks     City\n",
       "0  Ranjan   23    456    Noida\n",
       "1   Anshu   24    789    Bihar\n",
       "2   Ankit   25    155    Delhi\n",
       "3    Manu   26    435  Haryana"
      ]
     },
     "execution_count": 77,
     "metadata": {},
     "output_type": "execute_result"
    }
   ],
   "source": [
    "df"
   ]
  },
  {
   "cell_type": "code",
   "execution_count": 91,
   "id": "7c906ac5-2a66-4926-aa59-4df6d5e839c4",
   "metadata": {},
   "outputs": [],
   "source": [
    "marks = {\"Shivam\":{\"Hindi\":89,\"Math\":56,\"Eng\":78,\"sc\":47,\"sst\":63},\n",
    "        \"Mukesh\":{\"Hindi\":49,\"Math\":86,\"Eng\":98,\"sc\":37,\"sst\":53},\n",
    "        \"Ravi\":{\"Hindi\":49,\"Math\":50,\"Eng\":88,\"sc\":67,\"sst\":69},\n",
    "        \"Deepak\":{\"Hindi\":85,\"Math\":63,\"Eng\":88,\"sc\":99,\"sst\":53},\n",
    "        \"Saahil\":{\"Hindi\":80,\"Math\":76,\"Eng\":48,\"sc\":57,\"sst\":83}}"
   ]
  },
  {
   "cell_type": "code",
   "execution_count": 79,
   "id": "b7329328-a2d4-48ba-be27-ede37733960f",
   "metadata": {},
   "outputs": [],
   "source": [
    "# Show the total mark of mukesh"
   ]
  },
  {
   "cell_type": "code",
   "execution_count": 88,
   "id": "2a7b70c5-25a8-414a-a57f-edcebe456e19",
   "metadata": {},
   "outputs": [
    {
     "data": {
      "text/plain": [
       "323"
      ]
     },
     "execution_count": 88,
     "metadata": {},
     "output_type": "execute_result"
    }
   ],
   "source": [
    "m = marks['Mukesh'].values()\n",
    "sum(m)"
   ]
  },
  {
   "cell_type": "code",
   "execution_count": 97,
   "id": "47b47769-442c-4f7a-9956-efd600a04a73",
   "metadata": {},
   "outputs": [
    {
     "name": "stdin",
     "output_type": "stream",
     "text": [
      "Enter the name :-  ravi\n"
     ]
    },
    {
     "name": "stdout",
     "output_type": "stream",
     "text": [
      "------------------------------------------------------------------------------------------------------------------------\n",
      "323 Total Marks of Ravi\n"
     ]
    }
   ],
   "source": [
    "s = input('Enter the name :- ').title()\n",
    "m = marks[s].values()\n",
    "print('-'*120)\n",
    "print(f'{sum(m)} Total Marks of {s}')"
   ]
  },
  {
   "cell_type": "code",
   "execution_count": 98,
   "id": "235299fe-85f0-412f-8f50-624fa310ba37",
   "metadata": {},
   "outputs": [],
   "source": [
    "# Change the marks in math 66 of shivam"
   ]
  },
  {
   "cell_type": "code",
   "execution_count": 110,
   "id": "576895a1-3dad-4cee-9c6d-b9b483dff0f6",
   "metadata": {},
   "outputs": [],
   "source": [
    "marks['Shivam']['Math']=66"
   ]
  },
  {
   "cell_type": "code",
   "execution_count": 111,
   "id": "ea20e2ee-80bd-4248-a201-59a8bc52a919",
   "metadata": {},
   "outputs": [
    {
     "data": {
      "text/plain": [
       "{'Shivam': {'Hindi': 89, 'Math': 66, 'Eng': 78, 'sc': 47, 'sst': 63},\n",
       " 'Mukesh': {'Hindi': 49, 'Math': 86, 'Eng': 98, 'sc': 37, 'sst': 53},\n",
       " 'Ravi': {'Hindi': 49, 'Math': 50, 'Eng': 88, 'sc': 67, 'sst': 69},\n",
       " 'Deepak': {'Hindi': 85, 'Math': 63, 'Eng': 88, 'sc': 99, 'sst': 53},\n",
       " 'Saahil': {'Hindi': 80, 'Math': 76, 'Eng': 48, 'sc': 57, 'sst': 83}}"
      ]
     },
     "execution_count": 111,
     "metadata": {},
     "output_type": "execute_result"
    }
   ],
   "source": [
    "marks"
   ]
  },
  {
   "cell_type": "markdown",
   "id": "d39c9e3b-c374-4eef-9486-980b0ad68234",
   "metadata": {},
   "source": [
    "#### Sorting in dictionary"
   ]
  },
  {
   "cell_type": "code",
   "execution_count": 108,
   "id": "f90c2685-1e34-4e85-af23-40ade1b93e19",
   "metadata": {},
   "outputs": [],
   "source": [
    "x = {\n",
    "    5:'Five',2:'Two',7:'Seven',1:'One',6:'Six'\n",
    "}"
   ]
  },
  {
   "cell_type": "code",
   "execution_count": 109,
   "id": "6cdff2e9-5ac4-4177-aec4-ea871a388692",
   "metadata": {},
   "outputs": [
    {
     "data": {
      "text/plain": [
       "{5: 'Five', 2: 'Two', 7: 'Seven', 1: 'One', 6: 'Six'}"
      ]
     },
     "execution_count": 109,
     "metadata": {},
     "output_type": "execute_result"
    }
   ],
   "source": [
    "x"
   ]
  },
  {
   "cell_type": "code",
   "execution_count": 112,
   "id": "8cfa0c76-66ae-4940-bd81-ef719f277af2",
   "metadata": {},
   "outputs": [
    {
     "name": "stdout",
     "output_type": "stream",
     "text": [
      "{1: 'One', 2: 'Two', 5: 'Five', 6: 'Six', 7: 'Seven'}\n"
     ]
    }
   ],
   "source": [
    "# Ascending Order\n",
    "y = sorted(x.items())\n",
    "y = dict(y)\n",
    "print(y)"
   ]
  },
  {
   "cell_type": "code",
   "execution_count": 113,
   "id": "f31b116d-9c91-4469-a7d0-6d1f044e7256",
   "metadata": {},
   "outputs": [
    {
     "name": "stdout",
     "output_type": "stream",
     "text": [
      "{7: 'Seven', 6: 'Six', 5: 'Five', 2: 'Two', 1: 'One'}\n"
     ]
    }
   ],
   "source": [
    "# Descending order \n",
    "y = sorted(x.items(),reverse=True)\n",
    "y = dict(y)\n",
    "print(y)"
   ]
  },
  {
   "cell_type": "code",
   "execution_count": 118,
   "id": "227bfad0-1b2f-47ad-ada6-ae2f109b4daf",
   "metadata": {},
   "outputs": [],
   "source": [
    "# Values"
   ]
  },
  {
   "cell_type": "code",
   "execution_count": 119,
   "id": "51360490-cbb9-4ce4-b4c8-6e99ecfaa148",
   "metadata": {},
   "outputs": [
    {
     "data": {
      "text/plain": [
       "{5: 'Five', 2: 'Two', 7: 'Seven', 1: 'One', 6: 'Six'}"
      ]
     },
     "execution_count": 119,
     "metadata": {},
     "output_type": "execute_result"
    }
   ],
   "source": [
    "x"
   ]
  },
  {
   "cell_type": "code",
   "execution_count": 122,
   "id": "b160b4b3-a4b3-4ca3-a2ac-97a80c3a3920",
   "metadata": {},
   "outputs": [
    {
     "name": "stdout",
     "output_type": "stream",
     "text": [
      "{5: 'Five', 1: 'One', 7: 'Seven', 6: 'Six', 2: 'Two'}\n"
     ]
    }
   ],
   "source": [
    "# Sorting the dictionary base of values \n",
    "y = sorted(x.items(),key=lambda a:a[1])\n",
    "y = dict(y)\n",
    "print(y)"
   ]
  },
  {
   "cell_type": "code",
   "execution_count": 123,
   "id": "7391b78f-2db2-4225-8425-d6c5aab0bd87",
   "metadata": {},
   "outputs": [
    {
     "name": "stdout",
     "output_type": "stream",
     "text": [
      "{2: 'Two', 6: 'Six', 7: 'Seven', 1: 'One', 5: 'Five'}\n"
     ]
    }
   ],
   "source": [
    "# Sorting the dictionary base of values \n",
    "y = sorted(x.items(),key=lambda a:a[1],reverse=True)\n",
    "y = dict(y)\n",
    "print(y)"
   ]
  },
  {
   "cell_type": "code",
   "execution_count": 124,
   "id": "335e2053-4b77-4e39-aa4a-e39d573617e1",
   "metadata": {},
   "outputs": [],
   "source": [
    "# Write a python program to create a list with the help of user input"
   ]
  },
  {
   "cell_type": "code",
   "execution_count": 28,
   "id": "b57809cd-c2ee-4773-bfb2-93ff95ef2c3a",
   "metadata": {},
   "outputs": [
    {
     "name": "stdin",
     "output_type": "stream",
     "text": [
      "Enter total number of elements :-  2\n",
      "Enter 1 value :-  \"Ravi\"\n",
      "Enter 2 value :-  8287386969\n"
     ]
    },
    {
     "name": "stdout",
     "output_type": "stream",
     "text": [
      "['Ravi', 8287386969]\n"
     ]
    }
   ],
   "source": [
    "x = int(input('Enter total number of elements :- '))\n",
    "lis = list()\n",
    "for i in range(x):\n",
    "    val = eval(input(f'Enter {i+1} value :- '))\n",
    "    lis.append(val)\n",
    "print(lis)"
   ]
  },
  {
   "cell_type": "code",
   "execution_count": 125,
   "id": "aa05a0d6-d458-4e05-833a-e4efed9d79c9",
   "metadata": {},
   "outputs": [],
   "source": [
    "# Write a python program to print to create dictionary with the help of user input "
   ]
  },
  {
   "cell_type": "code",
   "execution_count": 26,
   "id": "5f3bfbb9-493c-49d3-bb3a-9fd9920f3869",
   "metadata": {},
   "outputs": [
    {
     "name": "stdin",
     "output_type": "stream",
     "text": [
      "Enter the length of dictionary :- 3\n",
      " Enter 1 key :- \"Age\"\n",
      " Enter 1 values :- 25\n",
      " Enter 2 key :- \"City\"\n",
      " Enter 2 values :- \"Bihar\"\n",
      " Enter 3 key :- \"Name\"\n",
      " Enter 3 values :- \"Prince\"\n"
     ]
    },
    {
     "name": "stdout",
     "output_type": "stream",
     "text": [
      "updated dic {'Age': 25, 'City': 'Bihar', 'Name': 'Prince'}\n"
     ]
    }
   ],
   "source": [
    "x = int(input('Enter the length of dictionary :-'))\n",
    "dic = dict()\n",
    "for i in range(x):\n",
    "    key = eval(input(f' Enter {i+1} key :-'))\n",
    "    val = eval(input(f' Enter {i+1} values :-'))\n",
    "    dic[key] = val\n",
    "print('updated dic',dic)"
   ]
  },
  {
   "cell_type": "code",
   "execution_count": 27,
   "id": "374a8220-5324-41cd-97cd-cf14a8da652b",
   "metadata": {},
   "outputs": [
    {
     "name": "stdout",
     "output_type": "stream",
     "text": [
      "{'Age': 25, 'City': 'Bihar', 'Name': 'Prince'}\n"
     ]
    }
   ],
   "source": [
    "print(dic)"
   ]
  },
  {
   "cell_type": "code",
   "execution_count": 126,
   "id": "cec4cbdf-32ab-422a-b285-64025932df30",
   "metadata": {},
   "outputs": [],
   "source": [
    "# Reverse the dictionary from key to value and values to keys"
   ]
  },
  {
   "cell_type": "code",
   "execution_count": 29,
   "id": "1a7d931b-b2e5-4979-97b2-ed143146532a",
   "metadata": {},
   "outputs": [],
   "source": [
    "x = {\n",
    "    1:'One',2:'Two',\n",
    "    3:'Three',4:'Four'\n",
    "}"
   ]
  },
  {
   "cell_type": "code",
   "execution_count": 30,
   "id": "6647cd23-0932-4177-a339-b695f29e8047",
   "metadata": {},
   "outputs": [],
   "source": [
    "y = x.copy()\n",
    "x.clear()"
   ]
  },
  {
   "cell_type": "code",
   "execution_count": 31,
   "id": "cb95db75-3a0b-4c37-ae12-c406ec67c5f9",
   "metadata": {},
   "outputs": [],
   "source": [
    "for i in y:\n",
    "    x[y[i]] = i"
   ]
  },
  {
   "cell_type": "code",
   "execution_count": 32,
   "id": "6f669dee-d673-41e8-96f2-8ec28d4161f2",
   "metadata": {},
   "outputs": [
    {
     "data": {
      "text/plain": [
       "{'One': 1, 'Two': 2, 'Three': 3, 'Four': 4}"
      ]
     },
     "execution_count": 32,
     "metadata": {},
     "output_type": "execute_result"
    }
   ],
   "source": [
    "x"
   ]
  },
  {
   "cell_type": "code",
   "execution_count": 34,
   "id": "73d1583e-d8dc-45cf-98c0-91086d7b549b",
   "metadata": {},
   "outputs": [],
   "source": [
    "x = {\n",
    "    1:'One',2:'Two',\n",
    "    3:'Three',4:'Four'\n",
    "}"
   ]
  },
  {
   "cell_type": "code",
   "execution_count": 35,
   "id": "f06dc09e-f968-4f70-ab36-71b89ba37421",
   "metadata": {},
   "outputs": [],
   "source": [
    "y = {}\n",
    "for i,j in x.items():\n",
    "    y[j] = i"
   ]
  },
  {
   "cell_type": "code",
   "execution_count": 36,
   "id": "e9bc9158-97a0-4130-8f6b-cdb92850a1e8",
   "metadata": {},
   "outputs": [
    {
     "data": {
      "text/plain": [
       "{'One': 1, 'Two': 2, 'Three': 3, 'Four': 4}"
      ]
     },
     "execution_count": 36,
     "metadata": {},
     "output_type": "execute_result"
    }
   ],
   "source": [
    "y"
   ]
  },
  {
   "cell_type": "code",
   "execution_count": 127,
   "id": "6bfb3815-e08e-48ca-8f9e-e66eb73906cd",
   "metadata": {},
   "outputs": [],
   "source": [
    "# Write a python program to detect the number is prime or not a prime "
   ]
  },
  {
   "cell_type": "code",
   "execution_count": 85,
   "id": "3d4211f3-6650-46b6-be8a-3f1d1260ebd0",
   "metadata": {},
   "outputs": [
    {
     "name": "stdin",
     "output_type": "stream",
     "text": [
      "Enter Any number :-  497\n"
     ]
    },
    {
     "name": "stdout",
     "output_type": "stream",
     "text": [
      "Not a Prime number\n"
     ]
    }
   ],
   "source": [
    "x = int(input('Enter Any number :- '))\n",
    "if x<2:\n",
    "    print('Not a Prime')\n",
    "else:\n",
    "    for i in range(2,x):\n",
    "        if x%i==0:\n",
    "            print('Not a Prime number')\n",
    "            break\n",
    "    else:\n",
    "        print('Prime Number')"
   ]
  },
  {
   "cell_type": "code",
   "execution_count": 84,
   "id": "2a9f26e3-0896-4a56-9925-7222063aeb3b",
   "metadata": {},
   "outputs": [
    {
     "name": "stdin",
     "output_type": "stream",
     "text": [
      "Enter Any number :- 10\n"
     ]
    },
    {
     "name": "stdout",
     "output_type": "stream",
     "text": [
      "2\n",
      "3\n",
      "5\n",
      "7\n",
      "Total Prime number is 4\n"
     ]
    }
   ],
   "source": [
    "x = int(input('Enter Any number :-'))\n",
    "c = 0\n",
    "for i in range(2, x):\n",
    "    for j in range(2, i):\n",
    "        if i % j == 0:\n",
    "            break  # if the number is divisible by j, it's not prime\n",
    "    else:\n",
    "        print(i)  # if no divisor was found, it's prime\n",
    "        c+=1\n",
    "print(f'Total Prime number is {c}')"
   ]
  },
  {
   "cell_type": "code",
   "execution_count": 88,
   "id": "0cde428d-3ed2-4b93-85a9-59d0b1c3f08a",
   "metadata": {},
   "outputs": [
    {
     "name": "stdin",
     "output_type": "stream",
     "text": [
      "Enter Bottom Number :- 20\n",
      "Enter top Number :- 40\n"
     ]
    },
    {
     "name": "stdout",
     "output_type": "stream",
     "text": [
      "23 | 29 | 31 | 37 | \n",
      "Total Prime number is 4\n"
     ]
    }
   ],
   "source": [
    "lower = int(input('Enter Bottom Number :-'))\n",
    "upper = int(input('Enter top Number :-'))\n",
    "c = 0\n",
    "for i in range(lower, upper):\n",
    "    for j in range(2, i):\n",
    "        if i % j == 0:\n",
    "            break  # if the number is divisible by j, it's not prime\n",
    "    else:\n",
    "        print(i,end=\" | \")  # if no divisor was found, it's prime\n",
    "        c+=1\n",
    "print('\\nTotal Prime number is',c)"
   ]
  },
  {
   "cell_type": "code",
   "execution_count": null,
   "id": "70283191-b532-428c-9f72-619e2a712d39",
   "metadata": {},
   "outputs": [],
   "source": []
  }
 ],
 "metadata": {
  "kernelspec": {
   "display_name": "Python 3 (ipykernel)",
   "language": "python",
   "name": "python3"
  },
  "language_info": {
   "codemirror_mode": {
    "name": "ipython",
    "version": 3
   },
   "file_extension": ".py",
   "mimetype": "text/x-python",
   "name": "python",
   "nbconvert_exporter": "python",
   "pygments_lexer": "ipython3",
   "version": "3.12.4"
  }
 },
 "nbformat": 4,
 "nbformat_minor": 5
}
