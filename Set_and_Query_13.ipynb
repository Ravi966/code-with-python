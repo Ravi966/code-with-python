{
 "cells": [
  {
   "cell_type": "code",
   "execution_count": 1,
   "id": "491a3729-d158-4019-b418-f24728250db5",
   "metadata": {},
   "outputs": [],
   "source": [
    "# Write a python program to get the frequency of elements in a list."
   ]
  },
  {
   "cell_type": "code",
   "execution_count": 2,
   "id": "5960b8e5-1a79-486d-a3ae-ed7d4bf802f5",
   "metadata": {},
   "outputs": [],
   "source": [
    "x = [10,10,10,10,20,20,20,20,40,40,50,50,30]"
   ]
  },
  {
   "cell_type": "code",
   "execution_count": null,
   "id": "6c0d18e6-94fb-4e18-a806-8ce60c124648",
   "metadata": {},
   "outputs": [],
   "source": []
  },
  {
   "cell_type": "markdown",
   "id": "e9fe3a03-7e70-4295-bd2b-adbd8cdc912b",
   "metadata": {},
   "source": [
    "### Set :- Set is a collection of non - recitative elements and Which is written in curly bracket."
   ]
  },
  {
   "cell_type": "markdown",
   "id": "3fc13dfa-f2c4-4669-99e3-675c2a67feeb",
   "metadata": {},
   "source": [
    "1. Set are written in curly bracket.\t\t\t\n",
    "2. Set are changeable.\n",
    "3. Set Are  UN- ordered.\n",
    "4. Set Are  UN- indexed\n",
    "5. Its not allow duplicate value.\n",
    "6. Its allow Multiple Datatype.\n",
    "7. (OR)\n",
    "8. Its support multiple type of data.alue."
   ]
  },
  {
   "cell_type": "code",
   "execution_count": 3,
   "id": "a429da75-fac1-4866-87fc-485476445188",
   "metadata": {},
   "outputs": [],
   "source": [
    "# How to create a blank set"
   ]
  },
  {
   "cell_type": "code",
   "execution_count": 5,
   "id": "02ea2fd3-19c5-4f84-9111-e96b6332d624",
   "metadata": {},
   "outputs": [
    {
     "name": "stdout",
     "output_type": "stream",
     "text": [
      "<class 'set'>\n"
     ]
    }
   ],
   "source": [
    "x = set()\n",
    "print(type(x))"
   ]
  },
  {
   "cell_type": "code",
   "execution_count": 11,
   "id": "a17cf572-acf8-46c3-9539-74daafca477d",
   "metadata": {},
   "outputs": [],
   "source": [
    "# Un - Ordered\n",
    "x = {45,67,12,34,9,10}"
   ]
  },
  {
   "cell_type": "code",
   "execution_count": 12,
   "id": "0aa3e0e6-63b7-421e-96d6-0a5ced052f4e",
   "metadata": {},
   "outputs": [
    {
     "name": "stdout",
     "output_type": "stream",
     "text": [
      "{34, 67, 9, 10, 12, 45}\n"
     ]
    }
   ],
   "source": [
    "print(x)"
   ]
  },
  {
   "cell_type": "code",
   "execution_count": 15,
   "id": "1ba69692-7ae8-430e-8d64-938b04b250e6",
   "metadata": {},
   "outputs": [],
   "source": [
    "# Set not allow duplicate value \n",
    "x = {23,34,5,23,34,23,5}"
   ]
  },
  {
   "cell_type": "code",
   "execution_count": 16,
   "id": "8106c021-d44c-43b7-898d-a87a8782f2ce",
   "metadata": {},
   "outputs": [
    {
     "name": "stdout",
     "output_type": "stream",
     "text": [
      "{34, 5, 23}\n"
     ]
    }
   ],
   "source": [
    "print(x)"
   ]
  },
  {
   "cell_type": "code",
   "execution_count": 17,
   "id": "0241eaec-e7f8-41e3-b147-df42e06aa5b5",
   "metadata": {},
   "outputs": [],
   "source": [
    "x = {'Sunday','Monday','Tuesday','Monday'}"
   ]
  },
  {
   "cell_type": "code",
   "execution_count": 18,
   "id": "da0fd3fe-c128-4398-9700-230507c486d7",
   "metadata": {},
   "outputs": [
    {
     "name": "stdout",
     "output_type": "stream",
     "text": [
      "3\n"
     ]
    }
   ],
   "source": [
    "print(len(x))"
   ]
  },
  {
   "cell_type": "code",
   "execution_count": 87,
   "id": "65a29e69-ab77-4545-a27d-c6b9ba10964b",
   "metadata": {},
   "outputs": [],
   "source": [
    "x = [23,45,5,23,23,45,45]"
   ]
  },
  {
   "cell_type": "code",
   "execution_count": 88,
   "id": "698508b9-6fb6-49e0-bee4-2a63857b7cc6",
   "metadata": {},
   "outputs": [
    {
     "name": "stdout",
     "output_type": "stream",
     "text": [
      "[5, 45, 23]\n"
     ]
    }
   ],
   "source": [
    "x = set(x)\n",
    "x = list(x)\n",
    "print(x)"
   ]
  },
  {
   "cell_type": "code",
   "execution_count": 89,
   "id": "c935a216-06c0-4e1d-8748-6966d52e0719",
   "metadata": {},
   "outputs": [],
   "source": [
    "x = {'One','Two','Three','one','two'}"
   ]
  },
  {
   "cell_type": "code",
   "execution_count": 90,
   "id": "ec178681-73bc-42ae-91bf-9c98b5fae46d",
   "metadata": {},
   "outputs": [
    {
     "name": "stdout",
     "output_type": "stream",
     "text": [
      "{'One', 'Two', 'Three'}\n"
     ]
    }
   ],
   "source": [
    "x = list(x)\n",
    "x = [i.title() for i in x]\n",
    "x = set(x)\n",
    "print(x)"
   ]
  },
  {
   "cell_type": "code",
   "execution_count": 91,
   "id": "e5a0491e-da19-4979-b1c8-ce397087ec29",
   "metadata": {},
   "outputs": [],
   "source": [
    "# How to add or delete the elements from set"
   ]
  },
  {
   "cell_type": "code",
   "execution_count": 92,
   "id": "dc9e9661-2bb2-49ff-bd50-c44c81af8a25",
   "metadata": {},
   "outputs": [],
   "source": [
    "x = {1,2,3,4}"
   ]
  },
  {
   "cell_type": "code",
   "execution_count": 93,
   "id": "5c76b799-8150-4d8b-aed6-94e597c1ff64",
   "metadata": {},
   "outputs": [
    {
     "data": {
      "text/plain": [
       "1"
      ]
     },
     "execution_count": 93,
     "metadata": {},
     "output_type": "execute_result"
    }
   ],
   "source": [
    "x.pop()"
   ]
  },
  {
   "cell_type": "code",
   "execution_count": 94,
   "id": "95546d1f-f2ab-482c-8429-9fee15819791",
   "metadata": {},
   "outputs": [
    {
     "data": {
      "text/plain": [
       "{2, 3, 4}"
      ]
     },
     "execution_count": 94,
     "metadata": {},
     "output_type": "execute_result"
    }
   ],
   "source": [
    "x"
   ]
  },
  {
   "cell_type": "code",
   "execution_count": 95,
   "id": "e3d4d8b3-d108-4004-b35b-2241eeaf2544",
   "metadata": {},
   "outputs": [],
   "source": [
    "x.discard(3)"
   ]
  },
  {
   "cell_type": "code",
   "execution_count": 96,
   "id": "75a90619-5d7f-40bc-beb1-c68f7d1bbb56",
   "metadata": {},
   "outputs": [
    {
     "data": {
      "text/plain": [
       "{2, 4}"
      ]
     },
     "execution_count": 96,
     "metadata": {},
     "output_type": "execute_result"
    }
   ],
   "source": [
    "x"
   ]
  },
  {
   "cell_type": "code",
   "execution_count": 97,
   "id": "5c145dad-04b4-4960-9c24-b81c2c5fa778",
   "metadata": {},
   "outputs": [],
   "source": [
    "x = {4,7,6,2,1}"
   ]
  },
  {
   "cell_type": "code",
   "execution_count": 101,
   "id": "315c517d-7f3c-4c09-ae87-058c855d23cf",
   "metadata": {},
   "outputs": [],
   "source": [
    "x.remove(7)"
   ]
  },
  {
   "cell_type": "code",
   "execution_count": 102,
   "id": "d349b8a4-6902-499f-a9c7-b05e42303561",
   "metadata": {},
   "outputs": [
    {
     "data": {
      "text/plain": [
       "{1, 2, 4, 6}"
      ]
     },
     "execution_count": 102,
     "metadata": {},
     "output_type": "execute_result"
    }
   ],
   "source": [
    "x"
   ]
  },
  {
   "cell_type": "code",
   "execution_count": 103,
   "id": "b0fb62a3-c9f7-4d3c-b607-6256c1b3c279",
   "metadata": {},
   "outputs": [],
   "source": [
    "x.clear()"
   ]
  },
  {
   "cell_type": "code",
   "execution_count": 104,
   "id": "712c9614-a8ba-472d-90a2-4cf2b13eeb0a",
   "metadata": {},
   "outputs": [
    {
     "data": {
      "text/plain": [
       "set()"
      ]
     },
     "execution_count": 104,
     "metadata": {},
     "output_type": "execute_result"
    }
   ],
   "source": [
    "x"
   ]
  },
  {
   "cell_type": "markdown",
   "id": "e852668d-778c-47f9-b17d-7eba85dc77e1",
   "metadata": {},
   "source": [
    "### It is used to delete the value from set\n",
    "1. pop\n",
    "2. discard\n",
    "3. remove\n",
    "4. clear\n",
    "5. del"
   ]
  },
  {
   "cell_type": "code",
   "execution_count": 105,
   "id": "9825c8ab-5d77-4c7c-90da-38ee3f9cc983",
   "metadata": {},
   "outputs": [],
   "source": [
    "x = {4,3,5,2}"
   ]
  },
  {
   "cell_type": "code",
   "execution_count": 106,
   "id": "1d7da4ba-93a6-4461-97a9-22f7e24509e4",
   "metadata": {},
   "outputs": [],
   "source": [
    "x.add(25)"
   ]
  },
  {
   "cell_type": "code",
   "execution_count": 107,
   "id": "af3085ce-d715-4455-af37-0deb802fcc54",
   "metadata": {},
   "outputs": [
    {
     "data": {
      "text/plain": [
       "{2, 3, 4, 5, 25}"
      ]
     },
     "execution_count": 107,
     "metadata": {},
     "output_type": "execute_result"
    }
   ],
   "source": [
    "x"
   ]
  },
  {
   "cell_type": "code",
   "execution_count": 110,
   "id": "d6d4b678-6d99-4061-ac86-f6485c721780",
   "metadata": {},
   "outputs": [],
   "source": [
    "x = {2,8,6,4}\n",
    "y = {2,3,4,5}"
   ]
  },
  {
   "cell_type": "code",
   "execution_count": 111,
   "id": "d434ce32-ad5a-487d-8c8b-f9e9896c7259",
   "metadata": {},
   "outputs": [],
   "source": [
    "x = x.union(y)"
   ]
  },
  {
   "cell_type": "code",
   "execution_count": 112,
   "id": "11b7283f-4081-4d51-ad67-405fb9e69de3",
   "metadata": {},
   "outputs": [
    {
     "data": {
      "text/plain": [
       "{2, 3, 4, 5, 6, 8}"
      ]
     },
     "execution_count": 112,
     "metadata": {},
     "output_type": "execute_result"
    }
   ],
   "source": [
    "x"
   ]
  },
  {
   "cell_type": "code",
   "execution_count": 122,
   "id": "ca065687-cc55-47f1-8607-a7b0e7897601",
   "metadata": {},
   "outputs": [],
   "source": [
    "x = {2,4,5}\n",
    "y = {5,3,8}"
   ]
  },
  {
   "cell_type": "code",
   "execution_count": 119,
   "id": "aeb7e3d4-a262-45e4-8ef0-15d45da6f106",
   "metadata": {},
   "outputs": [],
   "source": [
    "# Show the common value with both set \n",
    "# Show the different value"
   ]
  },
  {
   "cell_type": "code",
   "execution_count": 121,
   "id": "3a17985a-4ea5-4693-b5d6-9947266f72c0",
   "metadata": {},
   "outputs": [
    {
     "name": "stdout",
     "output_type": "stream",
     "text": [
      "5\n"
     ]
    }
   ],
   "source": [
    "for i in y:\n",
    "    if i in x:\n",
    "        print(i)"
   ]
  },
  {
   "cell_type": "code",
   "execution_count": 125,
   "id": "712dbb93-b984-4352-ac0b-f2b18607fb35",
   "metadata": {},
   "outputs": [
    {
     "data": {
      "text/plain": [
       "{2, 3, 4, 8}"
      ]
     },
     "execution_count": 125,
     "metadata": {},
     "output_type": "execute_result"
    }
   ],
   "source": [
    "x.symmetric_difference(y) # Different value"
   ]
  },
  {
   "cell_type": "code",
   "execution_count": 127,
   "id": "05c4d6bc-56b8-4dac-8e01-fc57638f31d4",
   "metadata": {},
   "outputs": [
    {
     "data": {
      "text/plain": [
       "{5}"
      ]
     },
     "execution_count": 127,
     "metadata": {},
     "output_type": "execute_result"
    }
   ],
   "source": [
    "x.intersection(y) # Common value"
   ]
  },
  {
   "cell_type": "markdown",
   "id": "dc56de36-0db3-4731-b652-a0a204352edf",
   "metadata": {},
   "source": [
    "##### 1. intersection        :- Show the common elements with two set in new variable.\n",
    "##### 2. intersection_update :- Its show common elements with two set in same variable."
   ]
  },
  {
   "cell_type": "markdown",
   "id": "40ce583f-828d-4623-90fb-2ab165f5f14d",
   "metadata": {},
   "source": [
    "##### 1. symmetric_difference        :- Show un common elements with two set in new variable.\n",
    "##### 2. symmetric_difference_update :- Its show un common elements with two set in same variable."
   ]
  },
  {
   "cell_type": "code",
   "execution_count": null,
   "id": "eba26f71-a43b-430b-8ed2-fd5e400fabc4",
   "metadata": {},
   "outputs": [],
   "source": []
  }
 ],
 "metadata": {
  "kernelspec": {
   "display_name": "Python 3 (ipykernel)",
   "language": "python",
   "name": "python3"
  },
  "language_info": {
   "codemirror_mode": {
    "name": "ipython",
    "version": 3
   },
   "file_extension": ".py",
   "mimetype": "text/x-python",
   "name": "python",
   "nbconvert_exporter": "python",
   "pygments_lexer": "ipython3",
   "version": "3.12.4"
  }
 },
 "nbformat": 4,
 "nbformat_minor": 5
}
