{
 "cells": [
  {
   "cell_type": "code",
   "execution_count": 1,
   "id": "2428bb29-d9cc-4022-a9a3-8b140dfbdf4e",
   "metadata": {},
   "outputs": [],
   "source": [
    "# Write a python program to check the length of text\n",
    "# if text is greater than 10 then show \"High\"\n",
    "# if text is greater than 5 then show \"Mid\"\n",
    "# else show \"Low\""
   ]
  },
  {
   "cell_type": "code",
   "execution_count": 3,
   "id": "2c83e3de-603c-41bf-bbe8-f6ce431bd63c",
   "metadata": {},
   "outputs": [
    {
     "name": "stdin",
     "output_type": "stream",
     "text": [
      "Enter the Text :-  rohit sharma\n"
     ]
    },
    {
     "name": "stdout",
     "output_type": "stream",
     "text": [
      "High\n"
     ]
    }
   ],
   "source": [
    "x = input(\"Enter the Text :- \")\n",
    "if len(x)>=10:\n",
    "    print(\"High\")\n",
    "elif len(x)>=5:\n",
    "    print(\"Mid\")\n",
    "else:\n",
    "    print(\"Low\")"
   ]
  },
  {
   "cell_type": "code",
   "execution_count": 20,
   "id": "deb6caa8-81ff-42e1-9237-1aca45184fb1",
   "metadata": {},
   "outputs": [],
   "source": [
    "# 1. upper\n",
    "# 2. Lower\n",
    "# 3. strip\n",
    "# 4. title\n",
    "# 5. capitalize\n",
    "# 6. swapcase             All Done \n",
    "# --------------------------------------------------------------\n",
    "# Find: -  It shows the position of the alphabet from the text\n",
    "# Index: - is same as find\n",
    "# count: - It counts specific elements from the text by the user\n",
    "# replace: - It replaces elements from the text in place of old text with new text.\n",
    "# split: - Split are used to convert the strings to list and divide the database of a separator\n",
    "# join: - Its converts from a list to string \n",
    "#        It is used to join the value from a list with a separate "
   ]
  },
  {
   "cell_type": "code",
   "execution_count": 7,
   "id": "d2c0bbbe-b0c2-442b-bed7-5cfe6a321f32",
   "metadata": {},
   "outputs": [
    {
     "name": "stdout",
     "output_type": "stream",
     "text": [
      "0\n"
     ]
    }
   ],
   "source": [
    "x = \"India\"\n",
    "f = x.find(\"I\")\n",
    "print(f)"
   ]
  },
  {
   "cell_type": "code",
   "execution_count": 8,
   "id": "526cc8be-75fc-4c9b-996e-7d170634e1e6",
   "metadata": {},
   "outputs": [
    {
     "name": "stdout",
     "output_type": "stream",
     "text": [
      "1\n"
     ]
    }
   ],
   "source": [
    "x = \"Himachal\"\n",
    "i = x.index(\"i\")\n",
    "print(i)"
   ]
  },
  {
   "cell_type": "code",
   "execution_count": 11,
   "id": "1a93a263-da46-4445-b7e4-68c74f7dc315",
   "metadata": {},
   "outputs": [
    {
     "name": "stdout",
     "output_type": "stream",
     "text": [
      "3\n"
     ]
    }
   ],
   "source": [
    "x = \"Himachal Pradesh\"\n",
    "c = x.count(\"a\")\n",
    "print(c)"
   ]
  },
  {
   "cell_type": "code",
   "execution_count": 13,
   "id": "b80a3bbc-92e3-479b-8360-db92665906c3",
   "metadata": {},
   "outputs": [
    {
     "name": "stdout",
     "output_type": "stream",
     "text": [
      "H+ry+n+\n"
     ]
    }
   ],
   "source": [
    "x = \"Haryana\"\n",
    "y = x.replace(\"a\",\"+\")\n",
    "print(y)"
   ]
  },
  {
   "cell_type": "code",
   "execution_count": 21,
   "id": "a4699a61-c0cf-4554-9683-3f5699c2a97b",
   "metadata": {},
   "outputs": [
    {
     "name": "stdout",
     "output_type": "stream",
     "text": [
      "['Python', 'is', 'program', 'language']\n"
     ]
    }
   ],
   "source": [
    "x = \"Python is program language\"\n",
    "y = x.split()\n",
    "print(y)"
   ]
  },
  {
   "cell_type": "code",
   "execution_count": 23,
   "id": "6a3c37f8-9a02-42bf-a6f2-c0272019824d",
   "metadata": {},
   "outputs": [],
   "source": [
    "x = ['Python', 'is', 'program', 'language']"
   ]
  },
  {
   "cell_type": "code",
   "execution_count": 24,
   "id": "5872efc5-05c7-411d-8cc2-efc4b6e568c6",
   "metadata": {},
   "outputs": [
    {
     "name": "stdout",
     "output_type": "stream",
     "text": [
      "<class 'list'>\n"
     ]
    }
   ],
   "source": [
    "print(type(x))"
   ]
  },
  {
   "cell_type": "code",
   "execution_count": 27,
   "id": "b4ef5203-53c4-4969-9b86-af817b720d58",
   "metadata": {},
   "outputs": [],
   "source": [
    "y = \" \".join(x)"
   ]
  },
  {
   "cell_type": "code",
   "execution_count": 29,
   "id": "4c298253-d8f0-49bd-868c-9ee29e9a0b87",
   "metadata": {},
   "outputs": [
    {
     "name": "stdout",
     "output_type": "stream",
     "text": [
      "Python is program language\n",
      "<class 'str'>\n",
      "26\n"
     ]
    }
   ],
   "source": [
    "print(y)\n",
    "print(type(y))\n",
    "print(len(y))"
   ]
  },
  {
   "cell_type": "code",
   "execution_count": 30,
   "id": "e027bcee-22cd-4686-ba70-e774de438c3d",
   "metadata": {},
   "outputs": [],
   "source": [
    "# Write a python program to find the position of space from this text\n",
    "x = \"Himachal Pradesh\""
   ]
  },
  {
   "cell_type": "code",
   "execution_count": 33,
   "id": "a0a3f3b8-7a0b-45bd-a943-c7c021a93e14",
   "metadata": {},
   "outputs": [
    {
     "name": "stdout",
     "output_type": "stream",
     "text": [
      "7\n"
     ]
    }
   ],
   "source": [
    "s = x.find(\" \")\n",
    "print(s)"
   ]
  },
  {
   "cell_type": "code",
   "execution_count": 61,
   "id": "a60d1f63-6707-4f67-9b62-4fdc1084cfb9",
   "metadata": {},
   "outputs": [],
   "source": [
    "# Write a Python program to show the index number of 2nd \"a\"\n",
    "x = \"Arunachal\""
   ]
  },
  {
   "cell_type": "code",
   "execution_count": 62,
   "id": "c96b1c28-f134-4a69-8bf9-884e864c42c1",
   "metadata": {},
   "outputs": [
    {
     "name": "stdout",
     "output_type": "stream",
     "text": [
      "7\n"
     ]
    }
   ],
   "source": [
    "a = x.find(\"a\")\n",
    "a2 = x.find(\"a\",a+1)\n",
    "print(a2)"
   ]
  },
  {
   "cell_type": "code",
   "execution_count": 63,
   "id": "6603bb75-7066-449a-8e82-51a929ee41ff",
   "metadata": {},
   "outputs": [],
   "source": [
    "# Count the total number of \"e\" from this given text\n",
    "x = \"Honesty is the best policy\""
   ]
  },
  {
   "cell_type": "code",
   "execution_count": 64,
   "id": "5290d5cc-2c92-4f23-88b7-f8ad462a4b61",
   "metadata": {},
   "outputs": [
    {
     "name": "stdout",
     "output_type": "stream",
     "text": [
      "3\n"
     ]
    }
   ],
   "source": [
    "c = x.count('e')\n",
    "print(c)"
   ]
  },
  {
   "cell_type": "code",
   "execution_count": 72,
   "id": "0ff1757d-5eff-4a41-a8b5-21ba7cdbd0a0",
   "metadata": {},
   "outputs": [],
   "source": [
    "# Show the length of the text without space\n",
    "x = \"You must complete this text\""
   ]
  },
  {
   "cell_type": "code",
   "execution_count": 73,
   "id": "8e697977-35f3-4635-bf32-4320cfa31465",
   "metadata": {},
   "outputs": [
    {
     "name": "stdout",
     "output_type": "stream",
     "text": [
      "23\n"
     ]
    }
   ],
   "source": [
    "s = x.split()\n",
    "x = \"\".join(s)\n",
    "print(len(x))"
   ]
  },
  {
   "cell_type": "code",
   "execution_count": 74,
   "id": "d7989f12-b977-4d52-8479-991c339c5f23",
   "metadata": {},
   "outputs": [],
   "source": [
    "x = \"You must complete this text\""
   ]
  },
  {
   "cell_type": "code",
   "execution_count": 71,
   "id": "ca10440d-b7cf-4b64-863b-862ab824e3b6",
   "metadata": {},
   "outputs": [
    {
     "name": "stdout",
     "output_type": "stream",
     "text": [
      "23\n"
     ]
    }
   ],
   "source": [
    "print(len(x)-x.count(\" \"))"
   ]
  },
  {
   "cell_type": "markdown",
   "id": "bcf2fab4-208a-43c1-bb41-c5b0fe79e9d3",
   "metadata": {},
   "source": [
    "1. isdigit:- It's return true when string is number\n",
    "2. isalpha: - Its return true when strings in text only\n",
    "3. isalnum:- Its return true when text contain digit and text\n",
    "4. isspace: - Its return true when string in space only\n",
    "5. startwith: - Its return true when we check text startswith only alphabet by condition\n",
    "6. endswith: - Its return true when text endswith specific elements by user"
   ]
  },
  {
   "cell_type": "code",
   "execution_count": 75,
   "id": "35c647aa-a00d-45f7-ad5a-5642ce008d38",
   "metadata": {},
   "outputs": [
    {
     "name": "stdout",
     "output_type": "stream",
     "text": [
      "True\n"
     ]
    }
   ],
   "source": [
    "x = \"123\"\n",
    "y = x.isdigit()\n",
    "print(y)"
   ]
  },
  {
   "cell_type": "code",
   "execution_count": 76,
   "id": "1a8105d6-7e5a-4ff4-b1f6-d5fd34755a58",
   "metadata": {},
   "outputs": [
    {
     "name": "stdout",
     "output_type": "stream",
     "text": [
      "True\n"
     ]
    }
   ],
   "source": [
    "x = \"ravi\"\n",
    "y = x.isalpha()\n",
    "print(y)"
   ]
  },
  {
   "cell_type": "code",
   "execution_count": 79,
   "id": "5ca3c934-3acb-4838-bea8-59cd2b197020",
   "metadata": {},
   "outputs": [
    {
     "name": "stdout",
     "output_type": "stream",
     "text": [
      "True\n"
     ]
    }
   ],
   "source": [
    "x = \"ravi82838\"\n",
    "y = x.isalnum()\n",
    "print(y)"
   ]
  },
  {
   "cell_type": "code",
   "execution_count": 80,
   "id": "235bbcef-b349-4056-9806-2c3733582e2b",
   "metadata": {},
   "outputs": [
    {
     "name": "stdout",
     "output_type": "stream",
     "text": [
      "True\n"
     ]
    }
   ],
   "source": [
    "x = \" \"\n",
    "s = x.isspace()\n",
    "print(y)"
   ]
  },
  {
   "cell_type": "code",
   "execution_count": 81,
   "id": "49c693a7-44e6-4f70-93d7-de6f521ca968",
   "metadata": {},
   "outputs": [
    {
     "name": "stdout",
     "output_type": "stream",
     "text": [
      "True\n"
     ]
    }
   ],
   "source": [
    "x = \"prince\"\n",
    "y = x.startswith(\"p\")\n",
    "print(y)"
   ]
  },
  {
   "cell_type": "code",
   "execution_count": 83,
   "id": "2f6a27a8-a9b3-4607-b0ae-6bbf90a8cb98",
   "metadata": {},
   "outputs": [
    {
     "name": "stdout",
     "output_type": "stream",
     "text": [
      "True\n"
     ]
    }
   ],
   "source": [
    "x = \"sharma\"\n",
    "y = x.endswith(\"a\")\n",
    "print(y)"
   ]
  },
  {
   "cell_type": "code",
   "execution_count": 84,
   "id": "e248c311-fa28-4e20-93f2-025c0a6c9b27",
   "metadata": {},
   "outputs": [],
   "source": [
    "# Write a python program to check \n",
    "# if written elements is text then print 'alphabets'\n",
    "# if written elements is number then print 'digits'\n",
    "# if written elements is space then print 'sapce'"
   ]
  },
  {
   "cell_type": "code",
   "execution_count": 94,
   "id": "8c30076e-ff95-4398-978a-e87620593fc5",
   "metadata": {},
   "outputs": [
    {
     "name": "stdin",
     "output_type": "stream",
     "text": [
      "Enter the thing : - Ravi\n"
     ]
    },
    {
     "name": "stdout",
     "output_type": "stream",
     "text": [
      "Alphabet\n"
     ]
    }
   ],
   "source": [
    "x = input(\"Enter the thing : -\")\n",
    "if x.isalpha():\n",
    "    print(\"Alphabet\")\n",
    "elif x.isdigit():\n",
    "    print(\"Digit\")\n",
    "elif x.isspace():\n",
    "    print('Space')"
   ]
  },
  {
   "cell_type": "code",
   "execution_count": 89,
   "id": "ed1ab7d7-6a81-40db-ab82-3c7c87cc1a9b",
   "metadata": {},
   "outputs": [],
   "source": [
    "# write a python program to check \n",
    "# if name startswith 'a','s',or 'a' then print 'Yes'\n",
    "# else print 'no'"
   ]
  },
  {
   "cell_type": "code",
   "execution_count": 90,
   "id": "9beeaabd-db8a-4725-980f-0ef5acecbca8",
   "metadata": {},
   "outputs": [
    {
     "name": "stdin",
     "output_type": "stream",
     "text": [
      "Enter any name :-  ravi\n"
     ]
    },
    {
     "name": "stdout",
     "output_type": "stream",
     "text": [
      "No\n"
     ]
    }
   ],
   "source": [
    "x = input(\"Enter any name :- \").lower()\n",
    "if x.startswith((\"a\",\"s\",\"d\")):\n",
    "    print(\"Yes\")\n",
    "else:\n",
    "    print(\"No\")"
   ]
  },
  {
   "cell_type": "code",
   "execution_count": 91,
   "id": "b4124817-52d6-47d5-b3b8-17a37f24c1f7",
   "metadata": {},
   "outputs": [],
   "source": [
    "# islower: - Its return true when text in small letter\n",
    "# isupper: - Its return true when text in capital letter\n",
    "# istitle: - Its return true when first alphabet capital in each text\n",
    "# isdecimal: - Its return true when text is deciaml number "
   ]
  },
  {
   "cell_type": "code",
   "execution_count": 93,
   "id": "a9e9edea-2f8a-4755-9633-63297bef4d00",
   "metadata": {},
   "outputs": [
    {
     "name": "stdout",
     "output_type": "stream",
     "text": [
      "True\n"
     ]
    }
   ],
   "source": [
    "x = \"Prince\"\n",
    "y = x.istitle()\n",
    "print(y)"
   ]
  },
  {
   "cell_type": "code",
   "execution_count": null,
   "id": "74e56e6b-fcab-4a4c-b26c-4c6b2c047d3f",
   "metadata": {},
   "outputs": [],
   "source": []
  }
 ],
 "metadata": {
  "kernelspec": {
   "display_name": "Python 3 (ipykernel)",
   "language": "python",
   "name": "python3"
  },
  "language_info": {
   "codemirror_mode": {
    "name": "ipython",
    "version": 3
   },
   "file_extension": ".py",
   "mimetype": "text/x-python",
   "name": "python",
   "nbconvert_exporter": "python",
   "pygments_lexer": "ipython3",
   "version": "3.12.4"
  }
 },
 "nbformat": 4,
 "nbformat_minor": 5
}
