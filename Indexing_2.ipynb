{
 "cells": [
  {
   "cell_type": "code",
   "execution_count": 1,
   "id": "301ff4cb-c107-43c8-b445-865d5a88b6f5",
   "metadata": {},
   "outputs": [],
   "source": [
    "# Strings :- It is always written is single ' or \"\""
   ]
  },
  {
   "cell_type": "code",
   "execution_count": null,
   "id": "45a41160-80d1-4c33-b0c5-fe1a69eec0c4",
   "metadata": {},
   "outputs": [],
   "source": []
  },
  {
   "cell_type": "code",
   "execution_count": 2,
   "id": "4a0287e7-600d-4333-8c44-a2992258555e",
   "metadata": {},
   "outputs": [],
   "source": [
    "x = \"Himachal Pradesh\""
   ]
  },
  {
   "cell_type": "code",
   "execution_count": 3,
   "id": "c01cac09-6ace-410c-b5ec-49514ebf4474",
   "metadata": {},
   "outputs": [],
   "source": [
    "# Extract these text\n",
    "# desh\n",
    "# chal\n",
    "# hima\n",
    "# rade"
   ]
  },
  {
   "cell_type": "code",
   "execution_count": 14,
   "id": "115ff544-3ed4-4d7b-b1e0-601417b1ec17",
   "metadata": {},
   "outputs": [
    {
     "name": "stdout",
     "output_type": "stream",
     "text": [
      "desh\n",
      "chal\n",
      "Hima\n",
      "rade\n"
     ]
    }
   ],
   "source": [
    "print(x[-4:])\n",
    "print(x[4:8])\n",
    "print(x[0:4])\n",
    "print(x[-6:-2])"
   ]
  },
  {
   "cell_type": "code",
   "execution_count": 18,
   "id": "abcec658-e0f1-4ca3-ac3b-cfbec390db42",
   "metadata": {},
   "outputs": [],
   "source": [
    "# Slicing\n",
    "# x[Starting Point : Ending Point : Step size] Or x[Starting_Index : Ending_Index : Step_size]"
   ]
  },
  {
   "cell_type": "code",
   "execution_count": 16,
   "id": "533867b5-f48e-4e6d-811d-09d6adedff59",
   "metadata": {},
   "outputs": [],
   "source": [
    "x = \"Ramayana\""
   ]
  },
  {
   "cell_type": "code",
   "execution_count": 22,
   "id": "2415d36c-f9fc-4bb0-8b32-b2afa91d66d0",
   "metadata": {},
   "outputs": [
    {
     "name": "stdout",
     "output_type": "stream",
     "text": [
      "aaaa\n"
     ]
    }
   ],
   "source": [
    "print(x[1::2])"
   ]
  },
  {
   "cell_type": "code",
   "execution_count": 23,
   "id": "62870d1b-62dd-4854-80c2-f2cf11222486",
   "metadata": {},
   "outputs": [],
   "source": [
    "y = \"Himachal Pradesh\""
   ]
  },
  {
   "cell_type": "code",
   "execution_count": 30,
   "id": "b93ee363-7930-48bf-b74a-6697e45f14e3",
   "metadata": {},
   "outputs": [],
   "source": [
    "# Extract These Text\n",
    "# hmc\n",
    "# icl\n",
    "# rds\n",
    "# haap\n",
    "# mars"
   ]
  },
  {
   "cell_type": "code",
   "execution_count": 43,
   "id": "44d356c9-ef02-4bab-9c78-0cdb44d2f918",
   "metadata": {},
   "outputs": [
    {
     "name": "stdout",
     "output_type": "stream",
     "text": [
      "Hmc\n",
      "icl\n",
      "rds\n",
      "HaaP\n",
      "mars\n"
     ]
    }
   ],
   "source": [
    "print(y[0:6:2])\n",
    "print(y[1:8:3])\n",
    "print(y[-6:-1:2])\n",
    "print(y[0:10:3])\n",
    "print(y[2:15:4])"
   ]
  },
  {
   "cell_type": "code",
   "execution_count": null,
   "id": "b9751f76-4b57-48b6-94b2-73b9bf5aabd8",
   "metadata": {},
   "outputs": [],
   "source": [
    "# Reverse This Text"
   ]
  },
  {
   "cell_type": "code",
   "execution_count": 44,
   "id": "79ed2b82-07d8-470d-83fc-03aa8d086593",
   "metadata": {},
   "outputs": [],
   "source": [
    "t = \"Delhi\""
   ]
  },
  {
   "cell_type": "code",
   "execution_count": 46,
   "id": "3d4cb3eb-8fae-4a4f-85ff-2c8b600feb7b",
   "metadata": {},
   "outputs": [
    {
     "name": "stdout",
     "output_type": "stream",
     "text": [
      "ihleD\n"
     ]
    }
   ],
   "source": [
    "print(t[-1::-1])"
   ]
  },
  {
   "cell_type": "code",
   "execution_count": 47,
   "id": "688f372b-92d8-4d0f-8468-06b61cbda1ae",
   "metadata": {},
   "outputs": [],
   "source": [
    "x = \"Bihar\""
   ]
  },
  {
   "cell_type": "code",
   "execution_count": 48,
   "id": "85a082d1-d976-455d-9dc1-e69a007945ae",
   "metadata": {},
   "outputs": [],
   "source": [
    "# Extract these Text\n",
    "# ib\n",
    "# rah\n",
    "# hi"
   ]
  },
  {
   "cell_type": "code",
   "execution_count": 70,
   "id": "1ebcc61f-8c78-49ed-bfc0-25ed38abaf0b",
   "metadata": {},
   "outputs": [
    {
     "name": "stdout",
     "output_type": "stream",
     "text": [
      "iB\n",
      "rah\n",
      "hi\n"
     ]
    }
   ],
   "source": [
    "print(x[1::-1])\n",
    "print(x[-1:-4:-1])\n",
    "print(x[2:0:-1])"
   ]
  },
  {
   "cell_type": "code",
   "execution_count": null,
   "id": "2f55f8d4-15fa-41cd-b67d-78505b202266",
   "metadata": {},
   "outputs": [],
   "source": [
    "# Functions: -\n",
    "# 1. Upper\n",
    "# 2. lower\n",
    "# 3. trim\n",
    "# 4. strip\n",
    "# 5. title\n",
    "# 6. Capitalize\n",
    "# 7. Swapcase"
   ]
  },
  {
   "cell_type": "code",
   "execution_count": 71,
   "id": "b83469e3-4c53-4657-9fe9-6d6081958e25",
   "metadata": {},
   "outputs": [],
   "source": [
    "x = \"0123456789\"\n"
   ]
  },
  {
   "cell_type": "code",
   "execution_count": 72,
   "id": "aab2d554-b7e2-4c66-8908-9377b3936e17",
   "metadata": {},
   "outputs": [],
   "source": [
    "# Extract all even number\n",
    "# Extract all odd number"
   ]
  },
  {
   "cell_type": "code",
   "execution_count": 73,
   "id": "bb3bed82-52b9-41e1-9159-6e10d1b93cb0",
   "metadata": {},
   "outputs": [
    {
     "name": "stdout",
     "output_type": "stream",
     "text": [
      "Even Number :-  02468\n",
      "Odd Number :-  13579\n"
     ]
    }
   ],
   "source": [
    "print(\"Even Number :- \",x[0::2])\n",
    "print(\"Odd Number :- \",x[1::2])"
   ]
  },
  {
   "cell_type": "code",
   "execution_count": 74,
   "id": "ab841047-393f-46e0-9dc5-55c3710068c1",
   "metadata": {},
   "outputs": [],
   "source": [
    "x = \"ramayana\""
   ]
  },
  {
   "cell_type": "code",
   "execution_count": 85,
   "id": "2b64c7d6-50d6-4e0a-891f-52687ecbdaaa",
   "metadata": {},
   "outputs": [],
   "source": [
    "# RAM\n",
    "# YAM\n",
    "# May\n",
    "# AAA"
   ]
  },
  {
   "cell_type": "code",
   "execution_count": 84,
   "id": "471869c4-eb81-424c-9695-646760c82e05",
   "metadata": {},
   "outputs": [
    {
     "name": "stdout",
     "output_type": "stream",
     "text": [
      "RAM\n",
      "\n"
     ]
    }
   ],
   "source": [
    "print(x[0:3].upper())"
   ]
  },
  {
   "cell_type": "code",
   "execution_count": 97,
   "id": "aa5b20a0-b5c7-440e-b5cf-5c8f3e61516f",
   "metadata": {},
   "outputs": [
    {
     "name": "stdout",
     "output_type": "stream",
     "text": [
      "YAN\n"
     ]
    }
   ],
   "source": [
    "print(x[-4:-1].upper())"
   ]
  },
  {
   "cell_type": "code",
   "execution_count": 107,
   "id": "32fc8748-0ab5-4fa8-821b-7535d0709a6b",
   "metadata": {},
   "outputs": [
    {
     "name": "stdout",
     "output_type": "stream",
     "text": [
      "May\n"
     ]
    }
   ],
   "source": [
    "m = x[2:5].title()\n",
    "print(m)"
   ]
  },
  {
   "cell_type": "code",
   "execution_count": 103,
   "id": "1cb6d1f6-9659-4b1c-b9a9-673698f6c1a0",
   "metadata": {},
   "outputs": [
    {
     "name": "stdout",
     "output_type": "stream",
     "text": [
      "AAA\n"
     ]
    }
   ],
   "source": [
    "print(x[1:7:2].upper())"
   ]
  },
  {
   "cell_type": "code",
   "execution_count": 111,
   "id": "74786d97-8a0c-4b14-a954-2819dd62b8e2",
   "metadata": {},
   "outputs": [],
   "source": [
    "# Extract the first and last alphabet form the text"
   ]
  },
  {
   "cell_type": "code",
   "execution_count": 112,
   "id": "d39d7f2e-0b73-4cdb-a972-b0955d850c39",
   "metadata": {},
   "outputs": [],
   "source": [
    "x = \"Bihar\""
   ]
  },
  {
   "cell_type": "code",
   "execution_count": 113,
   "id": "ac1edbb4-f78b-493c-b683-ac68107c6dc2",
   "metadata": {},
   "outputs": [],
   "source": [
    "# Br"
   ]
  },
  {
   "cell_type": "code",
   "execution_count": 119,
   "id": "7c031ad1-eea6-4746-b082-cc6d05c6bb75",
   "metadata": {},
   "outputs": [
    {
     "name": "stdout",
     "output_type": "stream",
     "text": [
      "Br\n"
     ]
    }
   ],
   "source": [
    "a =x[0] + x[-1]\n",
    "print(a)"
   ]
  },
  {
   "cell_type": "code",
   "execution_count": 125,
   "id": "caa09d4d-b6e5-44a4-bd55-e0ab938bc8f1",
   "metadata": {},
   "outputs": [],
   "source": [
    "# With User Input "
   ]
  },
  {
   "cell_type": "code",
   "execution_count": 127,
   "id": "3451a8fd-4e10-414d-aeda-926188ebe6ac",
   "metadata": {},
   "outputs": [
    {
     "name": "stdin",
     "output_type": "stream",
     "text": [
      "Enter Any Text :-  ravi\n"
     ]
    },
    {
     "name": "stdout",
     "output_type": "stream",
     "text": [
      "Ri\n"
     ]
    }
   ],
   "source": [
    "x = input('Enter Any Text :- ').title()\n",
    "y = x[0] + x[-1]\n",
    "print(y)"
   ]
  },
  {
   "cell_type": "code",
   "execution_count": 128,
   "id": "904ed29d-0e77-4a5c-9e8d-8585c6cae84d",
   "metadata": {},
   "outputs": [],
   "source": [
    "# Write a python program to check the text startwith 'p'"
   ]
  },
  {
   "cell_type": "code",
   "execution_count": 136,
   "id": "64738630-f94d-456b-b7c1-a1b00a7f9f13",
   "metadata": {},
   "outputs": [
    {
     "name": "stdin",
     "output_type": "stream",
     "text": [
      "Enter the Text :-  Prince\n"
     ]
    },
    {
     "name": "stdout",
     "output_type": "stream",
     "text": [
      "Yes\n"
     ]
    }
   ],
   "source": [
    "x = input(\"Enter the Text :- \").lower()\n",
    "if x.startswith(\"p\"):\n",
    "    print(\"Yes\")\n",
    "else:\n",
    "    print(\"No\")"
   ]
  },
  {
   "cell_type": "code",
   "execution_count": 129,
   "id": "bba1037b-34e9-4e47-b466-6c35a9c2da2d",
   "metadata": {},
   "outputs": [],
   "source": [
    "# Write a python program to check text if text startwith vowel sound then print \"Vowel\" else print \"Consonents\""
   ]
  },
  {
   "cell_type": "code",
   "execution_count": 135,
   "id": "513e2b49-3224-45c1-9b67-debeb1d05859",
   "metadata": {},
   "outputs": [
    {
     "name": "stdin",
     "output_type": "stream",
     "text": [
      "Enter the Text :-  Aryan\n"
     ]
    },
    {
     "name": "stdout",
     "output_type": "stream",
     "text": [
      "Vowel\n"
     ]
    }
   ],
   "source": [
    "x = input(\"Enter the Text :- \").lower()\n",
    "if x.startswith((\"a\",\"e\",\"i\",\"o\",\"u\")):\n",
    "    print(\"Vowel\")\n",
    "else:\n",
    "    print(\"Consonants\")"
   ]
  },
  {
   "cell_type": "code",
   "execution_count": null,
   "id": "45b1a5df-d3e9-466f-9a2f-0bbaaadc9df3",
   "metadata": {},
   "outputs": [],
   "source": []
  }
 ],
 "metadata": {
  "kernelspec": {
   "display_name": "Python 3 (ipykernel)",
   "language": "python",
   "name": "python3"
  },
  "language_info": {
   "codemirror_mode": {
    "name": "ipython",
    "version": 3
   },
   "file_extension": ".py",
   "mimetype": "text/x-python",
   "name": "python",
   "nbconvert_exporter": "python",
   "pygments_lexer": "ipython3",
   "version": "3.12.4"
  }
 },
 "nbformat": 4,
 "nbformat_minor": 5
}
