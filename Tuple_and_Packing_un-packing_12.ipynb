{
 "cells": [
  {
   "cell_type": "code",
   "execution_count": 30,
   "id": "d71f4b2b-9c4d-43ee-a9d6-a54be916fe58",
   "metadata": {},
   "outputs": [],
   "source": [
    "# Nested List to normal list"
   ]
  },
  {
   "cell_type": "code",
   "execution_count": 31,
   "id": "a6f79ab6-20b3-4d31-a6ed-3ff03bfdae54",
   "metadata": {},
   "outputs": [],
   "source": [
    "x = [[24,40,[100,200]],60]"
   ]
  },
  {
   "cell_type": "code",
   "execution_count": 32,
   "id": "71733b6c-01e3-43d1-a344-647cfee9be8a",
   "metadata": {},
   "outputs": [],
   "source": [
    "x = str(x)"
   ]
  },
  {
   "cell_type": "code",
   "execution_count": 33,
   "id": "7abc9c87-1534-4d7c-b449-2f67e24ba743",
   "metadata": {},
   "outputs": [],
   "source": [
    "x = x.replace(\"[\",\"\")\n",
    "x = x.replace(\"]\",\"\")\n",
    "x = x.replace(\",\",\"\")"
   ]
  },
  {
   "cell_type": "code",
   "execution_count": 34,
   "id": "c9b401d6-f186-428e-ae9e-4f25b2909a37",
   "metadata": {},
   "outputs": [],
   "source": [
    "x = x.split()\n"
   ]
  },
  {
   "cell_type": "code",
   "execution_count": 35,
   "id": "bd49ce09-242c-4551-9e59-9d8d420bcc8e",
   "metadata": {},
   "outputs": [],
   "source": [
    "x =  [int(i) for i in x]"
   ]
  },
  {
   "cell_type": "code",
   "execution_count": 36,
   "id": "6c66e92a-df47-44c2-84b6-bc2d8d40cf99",
   "metadata": {},
   "outputs": [
    {
     "data": {
      "text/plain": [
       "[24, 40, 100, 200, 60]"
      ]
     },
     "execution_count": 36,
     "metadata": {},
     "output_type": "execute_result"
    }
   ],
   "source": [
    "x"
   ]
  },
  {
   "cell_type": "markdown",
   "id": "7909727e-d6f0-4fe4-96f3-666e71672e49",
   "metadata": {},
   "source": [
    "### Tuple :- Are used to store the multiple value in single variable, it is written in round        bracket.\n",
    "1. Tuple are written in round bracket.\n",
    "2. Tuple are unchangeable or immutable.\n",
    "3. Tuple allow duplicate value.\n",
    "4. It's allow multiple data type value.\n",
    "5. Tuple are ordered.\n",
    "6. Tuple are indexed."
   ]
  },
  {
   "cell_type": "code",
   "execution_count": 40,
   "id": "d8fd94ce-69bf-4fc2-990c-47f4c805dea2",
   "metadata": {},
   "outputs": [],
   "source": [
    "x = (23,34,45,23,67,78,89)"
   ]
  },
  {
   "cell_type": "code",
   "execution_count": 39,
   "id": "08018060-97a7-4766-a3a1-39402e041299",
   "metadata": {},
   "outputs": [
    {
     "name": "stdout",
     "output_type": "stream",
     "text": [
      "(23, 34, 45, 67, 78, 89)\n",
      "<class 'tuple'>\n",
      "6\n"
     ]
    }
   ],
   "source": [
    "print(x)\n",
    "print(type(x))\n",
    "print(len(x))"
   ]
  },
  {
   "cell_type": "code",
   "execution_count": 47,
   "id": "8ed17c15-130a-4972-9c21-0ff50b0dbbf4",
   "metadata": {},
   "outputs": [],
   "source": [
    "# How to create a blank list"
   ]
  },
  {
   "cell_type": "code",
   "execution_count": 48,
   "id": "bd436a1b-dc36-47d5-b0d1-bcee548ed5d2",
   "metadata": {},
   "outputs": [],
   "source": [
    "y = list()"
   ]
  },
  {
   "cell_type": "code",
   "execution_count": 49,
   "id": "1d860cb4-d0d0-4de8-a1f7-21b7af4f81a8",
   "metadata": {},
   "outputs": [
    {
     "data": {
      "text/plain": [
       "[]"
      ]
     },
     "execution_count": 49,
     "metadata": {},
     "output_type": "execute_result"
    }
   ],
   "source": [
    "y"
   ]
  },
  {
   "cell_type": "code",
   "execution_count": 50,
   "id": "edeb4e82-2ac7-4dbb-9c91-30bf9a491cce",
   "metadata": {},
   "outputs": [],
   "source": [
    "# How to create a blank tuple."
   ]
  },
  {
   "cell_type": "code",
   "execution_count": 51,
   "id": "021e9bea-7ec7-4b43-9f96-738748ab669c",
   "metadata": {},
   "outputs": [],
   "source": [
    "t = tuple()"
   ]
  },
  {
   "cell_type": "code",
   "execution_count": 52,
   "id": "6870ea15-2ea8-47e2-b7db-c6c8d54c6f56",
   "metadata": {},
   "outputs": [
    {
     "data": {
      "text/plain": [
       "()"
      ]
     },
     "execution_count": 52,
     "metadata": {},
     "output_type": "execute_result"
    }
   ],
   "source": [
    "t"
   ]
  },
  {
   "cell_type": "code",
   "execution_count": 53,
   "id": "b4a4abd3-967e-4124-8f32-90fa4f1651c0",
   "metadata": {},
   "outputs": [],
   "source": [
    "x = ('Sunday','Monday',345,543,True)"
   ]
  },
  {
   "cell_type": "code",
   "execution_count": 55,
   "id": "8b04ecaa-9573-4272-81d5-a062f6693775",
   "metadata": {},
   "outputs": [
    {
     "name": "stdout",
     "output_type": "stream",
     "text": [
      "('Sunday', 'Monday', 345, 543, True)\n",
      "<class 'tuple'>\n",
      "5\n"
     ]
    }
   ],
   "source": [
    "print(x)\n",
    "print(type(x))\n",
    "print(len(x))"
   ]
  },
  {
   "cell_type": "code",
   "execution_count": 56,
   "id": "47d97baf-5344-4d92-b634-4a969f566bd0",
   "metadata": {},
   "outputs": [
    {
     "data": {
      "text/plain": [
       "('Sunday', 'Monday', 345, 543, True)"
      ]
     },
     "execution_count": 56,
     "metadata": {},
     "output_type": "execute_result"
    }
   ],
   "source": [
    "x"
   ]
  },
  {
   "cell_type": "code",
   "execution_count": 57,
   "id": "364343db-ffbc-426c-b0a3-50a2404fd3b4",
   "metadata": {},
   "outputs": [
    {
     "data": {
      "text/plain": [
       "'Sunday'"
      ]
     },
     "execution_count": 57,
     "metadata": {},
     "output_type": "execute_result"
    }
   ],
   "source": [
    "x[0]"
   ]
  },
  {
   "cell_type": "code",
   "execution_count": 58,
   "id": "9b16e815-12ef-46a0-afbb-4d1ed782175e",
   "metadata": {},
   "outputs": [],
   "source": [
    "# Type casting"
   ]
  },
  {
   "cell_type": "code",
   "execution_count": 60,
   "id": "6cf04725-bb43-4528-8ead-3b4bad91da2f",
   "metadata": {},
   "outputs": [
    {
     "name": "stdout",
     "output_type": "stream",
     "text": [
      "<class 'tuple'>\n",
      "[45, 78, 89, 56]\n",
      "<class 'list'>\n"
     ]
    }
   ],
   "source": [
    "x = (45,78,89,56)\n",
    "print(type(x))\n",
    "\n",
    "# Its convert in list\n",
    "x = list(x)\n",
    "print(x)\n",
    "print(type(x))"
   ]
  },
  {
   "cell_type": "code",
   "execution_count": 81,
   "id": "7f183e19-e3aa-46f6-b893-488a91d759e6",
   "metadata": {},
   "outputs": [],
   "source": [
    "x = (1,2,3,4,5)"
   ]
  },
  {
   "cell_type": "code",
   "execution_count": 82,
   "id": "07d795e1-b281-4163-b5de-86a488ac8f0e",
   "metadata": {},
   "outputs": [],
   "source": [
    "# Delete the first elements form tuple"
   ]
  },
  {
   "cell_type": "code",
   "execution_count": 83,
   "id": "d6946faf-5fcc-4c55-bc61-32bc6d600ee5",
   "metadata": {},
   "outputs": [
    {
     "name": "stdout",
     "output_type": "stream",
     "text": [
      "(2, 3, 4, 5)\n"
     ]
    }
   ],
   "source": [
    "x = list(x)\n",
    "x.pop(0)\n",
    "x = tuple(x)\n",
    "print(x)"
   ]
  },
  {
   "cell_type": "code",
   "execution_count": 84,
   "id": "b91b4625-2d64-46d0-9fed-edaf4c86c0bc",
   "metadata": {},
   "outputs": [],
   "source": [
    "# Add 10 in last of tuple"
   ]
  },
  {
   "cell_type": "code",
   "execution_count": 85,
   "id": "56f1c9d6-a805-44d9-8fdd-cbb5f10fce5c",
   "metadata": {},
   "outputs": [
    {
     "name": "stdout",
     "output_type": "stream",
     "text": [
      "(2, 3, 4, 5, 10)\n"
     ]
    }
   ],
   "source": [
    "x = list(x)\n",
    "x.append(10)\n",
    "x = tuple(x)\n",
    "print(x)"
   ]
  },
  {
   "cell_type": "code",
   "execution_count": 86,
   "id": "32d52d56-9cbf-469e-a0c6-3e362c1c1486",
   "metadata": {},
   "outputs": [],
   "source": [
    "# Count total even number"
   ]
  },
  {
   "cell_type": "code",
   "execution_count": 87,
   "id": "a4e2869b-cf06-43d6-b9da-00d8cb076fa4",
   "metadata": {},
   "outputs": [
    {
     "name": "stdout",
     "output_type": "stream",
     "text": [
      "3\n"
     ]
    }
   ],
   "source": [
    "c = 0\n",
    "for i in x:\n",
    "    if i%2 ==0:\n",
    "        c+=1\n",
    "print(c)"
   ]
  },
  {
   "cell_type": "code",
   "execution_count": 88,
   "id": "614613c5-8eb2-46b9-83fc-6c0611ac650f",
   "metadata": {},
   "outputs": [],
   "source": [
    "# Tuple\n",
    "# Index : - Its show the position of elements from tuple\n",
    "# Count : - Its count the elements from typle repeated how many types\n",
    "# Min\n",
    "# Max\n",
    "# Sorted\n",
    "# Sum\n",
    "# Len\n",
    "# Type"
   ]
  },
  {
   "cell_type": "code",
   "execution_count": 89,
   "id": "274077ac-626a-4ed8-ba64-17d69fd13c5d",
   "metadata": {},
   "outputs": [],
   "source": [
    "x = (\"Sunday\",'Monday','Tuesday','Wednesday','Thursday','Friday','Saturday')"
   ]
  },
  {
   "cell_type": "code",
   "execution_count": 90,
   "id": "79fcbe96-86ec-4c6e-8196-ecd0729191e6",
   "metadata": {},
   "outputs": [
    {
     "data": {
      "text/plain": [
       "('Sunday', 'Monday', 'Tuesday', 'Wednesday', 'Thursday', 'Friday', 'Saturday')"
      ]
     },
     "execution_count": 90,
     "metadata": {},
     "output_type": "execute_result"
    }
   ],
   "source": [
    "x"
   ]
  },
  {
   "cell_type": "code",
   "execution_count": 91,
   "id": "437ec6be-fd98-4500-8942-13a55868c2c0",
   "metadata": {},
   "outputs": [],
   "source": [
    "# Convert all text of first alphabet in capital letter"
   ]
  },
  {
   "cell_type": "code",
   "execution_count": 107,
   "id": "ae8b885a-9c9e-40c8-b020-ae1316782c35",
   "metadata": {},
   "outputs": [],
   "source": [
    "# List comperhension"
   ]
  },
  {
   "cell_type": "code",
   "execution_count": 108,
   "id": "c278f63c-d2d2-47af-a2ed-dea31efde90d",
   "metadata": {},
   "outputs": [
    {
     "name": "stdout",
     "output_type": "stream",
     "text": [
      "('Sunday', 'Monday', 'Tuesday', 'Wednesday', 'Thursday', 'Friday', 'Saturday')\n"
     ]
    }
   ],
   "source": [
    "x = [val.title() for val in x]\n",
    "x = tuple(x)\n",
    "print(x)"
   ]
  },
  {
   "cell_type": "code",
   "execution_count": 112,
   "id": "b11c49b4-1261-4233-a2b4-7e3cd2363d98",
   "metadata": {},
   "outputs": [
    {
     "name": "stdout",
     "output_type": "stream",
     "text": [
      "('sunday', 'monday', 'tuesday', 'wednesday', 'thursday', 'friday', 'saturday')\n"
     ]
    }
   ],
   "source": [
    "x = tuple([t.lower() for t in x])\n",
    "print(x)"
   ]
  },
  {
   "cell_type": "markdown",
   "id": "034cd1e0-fb5d-4156-a8fa-1414deff0461",
   "metadata": {},
   "source": [
    "### Packing and Un-Packing\n",
    "#### Packing :- Its divide the tuple of data with same number of variable\n",
    "#### Un - Packing :- "
   ]
  },
  {
   "cell_type": "code",
   "execution_count": 113,
   "id": "35f4323f-34d1-4efb-b566-083fc76afa22",
   "metadata": {},
   "outputs": [
    {
     "data": {
      "text/plain": [
       "(12, 45, 78, 12, 45, 78, 12, 45, 78, 12, 45, 78, 12, 45, 78)"
      ]
     },
     "execution_count": 113,
     "metadata": {},
     "output_type": "execute_result"
    }
   ],
   "source": [
    "x = (12,45,78)\n",
    "x = x*5\n",
    "x"
   ]
  },
  {
   "cell_type": "code",
   "execution_count": 114,
   "id": "0179e4a5-4447-48c4-8c1b-e2c74770bce7",
   "metadata": {},
   "outputs": [],
   "source": [
    "x = (1,2,3)"
   ]
  },
  {
   "cell_type": "code",
   "execution_count": 115,
   "id": "5e6a8f28-20af-4f30-a9c6-64ab5af1439e",
   "metadata": {},
   "outputs": [],
   "source": [
    "a,b,c = x"
   ]
  },
  {
   "cell_type": "code",
   "execution_count": 116,
   "id": "3d627de2-5328-4a04-a49d-8b7c44420828",
   "metadata": {},
   "outputs": [],
   "source": [
    "# Swapping"
   ]
  },
  {
   "cell_type": "code",
   "execution_count": 118,
   "id": "2cad5c44-d57a-4def-8c10-1a5696aa95dd",
   "metadata": {},
   "outputs": [],
   "source": [
    "a,b,c = c,a,b"
   ]
  },
  {
   "cell_type": "code",
   "execution_count": 119,
   "id": "048d1962-db52-41a9-b05d-20e99293b1cd",
   "metadata": {},
   "outputs": [
    {
     "data": {
      "text/plain": [
       "3"
      ]
     },
     "execution_count": 119,
     "metadata": {},
     "output_type": "execute_result"
    }
   ],
   "source": [
    "a"
   ]
  },
  {
   "cell_type": "code",
   "execution_count": 120,
   "id": "b5541356-7a4d-487d-99a2-a7ea55ab7f2c",
   "metadata": {},
   "outputs": [],
   "source": [
    "x = (41,20,30)\n",
    "a,b,c= x\n",
    "a,b = b,c\n",
    "c = a"
   ]
  },
  {
   "cell_type": "code",
   "execution_count": 121,
   "id": "0dd6374f-b376-4e77-8867-81e265307945",
   "metadata": {},
   "outputs": [],
   "source": [
    "x,y,z = 10,20,30\n",
    "x,y= y,x\n",
    "y,z = z,y"
   ]
  },
  {
   "cell_type": "code",
   "execution_count": 122,
   "id": "00033ba1-8296-4109-b2fa-33725aa96048",
   "metadata": {},
   "outputs": [
    {
     "data": {
      "text/plain": [
       "30"
      ]
     },
     "execution_count": 122,
     "metadata": {},
     "output_type": "execute_result"
    }
   ],
   "source": [
    "y"
   ]
  },
  {
   "cell_type": "markdown",
   "id": "6f868d72-20eb-4ca5-b161-0c00a3bc4478",
   "metadata": {},
   "source": [
    "### Un - packing :- It is used when in tuple number of variable is less than number of elements in tuple"
   ]
  },
  {
   "cell_type": "code",
   "execution_count": 123,
   "id": "71feba2b-551a-4850-8c8d-bb7c4859dafb",
   "metadata": {},
   "outputs": [],
   "source": [
    "x = (1,2,3,4,5)"
   ]
  },
  {
   "cell_type": "code",
   "execution_count": 125,
   "id": "16d38938-b2d9-496b-9457-ba3db5a997e1",
   "metadata": {},
   "outputs": [],
   "source": [
    "a,*b,c = x"
   ]
  },
  {
   "cell_type": "code",
   "execution_count": 126,
   "id": "01b6907c-362e-4508-ae37-7195e9dd9cdc",
   "metadata": {},
   "outputs": [
    {
     "name": "stdout",
     "output_type": "stream",
     "text": [
      "1\n",
      "[2, 3, 4]\n",
      "5\n"
     ]
    }
   ],
   "source": [
    "print(a)\n",
    "print(b)\n",
    "print(c)"
   ]
  },
  {
   "cell_type": "code",
   "execution_count": null,
   "id": "24709e92-ac57-4768-941e-45ec61fd7885",
   "metadata": {},
   "outputs": [],
   "source": []
  }
 ],
 "metadata": {
  "kernelspec": {
   "display_name": "Python 3 (ipykernel)",
   "language": "python",
   "name": "python3"
  },
  "language_info": {
   "codemirror_mode": {
    "name": "ipython",
    "version": 3
   },
   "file_extension": ".py",
   "mimetype": "text/x-python",
   "name": "python",
   "nbconvert_exporter": "python",
   "pygments_lexer": "ipython3",
   "version": "3.12.4"
  }
 },
 "nbformat": 4,
 "nbformat_minor": 5
}
