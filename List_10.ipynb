{
 "cells": [
  {
   "cell_type": "code",
   "execution_count": null,
   "id": "ae2accb4-edd8-4c10-aab7-f872c68632ae",
   "metadata": {},
   "outputs": [],
   "source": [
    "# List "
   ]
  },
  {
   "cell_type": "code",
   "execution_count": null,
   "id": "24324e26-9294-451f-9061-e87879c470fc",
   "metadata": {},
   "outputs": [],
   "source": [
    "x = [1,2,3,2,3,2,4,2,5,2,6,2,5,2]"
   ]
  },
  {
   "cell_type": "code",
   "execution_count": null,
   "id": "1d5436ad-ef3e-46ba-84f0-f736fcf3871b",
   "metadata": {},
   "outputs": [],
   "source": [
    "# Delete all 2 from list"
   ]
  },
  {
   "cell_type": "code",
   "execution_count": null,
   "id": "be5afb7a-c90b-4658-ba94-d00522e4cc07",
   "metadata": {},
   "outputs": [],
   "source": [
    "while 2 in x:\n",
    "    x.remove(2)"
   ]
  },
  {
   "cell_type": "code",
   "execution_count": null,
   "id": "4c03690b-59c4-4b49-9993-f041fd28c5ea",
   "metadata": {},
   "outputs": [],
   "source": [
    "print(x)"
   ]
  },
  {
   "cell_type": "code",
   "execution_count": null,
   "id": "f9de4dd4-c7af-4de1-b415-a06f9386778a",
   "metadata": {},
   "outputs": [],
   "source": [
    "x = ['ram','Day',123,'sita',798,21.1,'Text']"
   ]
  },
  {
   "cell_type": "code",
   "execution_count": null,
   "id": "91c5758b-b117-42da-9ca4-18ab09e749df",
   "metadata": {},
   "outputs": [],
   "source": [
    "# Add 'Sunday' in first of index "
   ]
  },
  {
   "cell_type": "code",
   "execution_count": null,
   "id": "14807503-f397-4e7b-a493-224470d59acf",
   "metadata": {},
   "outputs": [],
   "source": [
    "x.insert(0,'Sunday')\n",
    "print(x)"
   ]
  },
  {
   "cell_type": "code",
   "execution_count": null,
   "id": "c6b046a1-e133-47dc-846b-d7ba0f0216a9",
   "metadata": {},
   "outputs": [],
   "source": [
    "# Add 'Friday' in last of index "
   ]
  },
  {
   "cell_type": "code",
   "execution_count": null,
   "id": "9204507c-0b83-499e-9a67-e761ce2c9392",
   "metadata": {},
   "outputs": [],
   "source": [
    "x.append('Friday')\n",
    "print(x)"
   ]
  },
  {
   "cell_type": "code",
   "execution_count": null,
   "id": "d8c7aa35-1ead-49c8-884b-fa9dff3e16f3",
   "metadata": {},
   "outputs": [],
   "source": [
    "# Delete first two value from list"
   ]
  },
  {
   "cell_type": "code",
   "execution_count": null,
   "id": "9b53ccf8-b842-4693-a7c9-e4b768f71123",
   "metadata": {},
   "outputs": [],
   "source": [
    " del x[0:3]\n",
    "print(x)"
   ]
  },
  {
   "cell_type": "code",
   "execution_count": null,
   "id": "6d3355c8-a140-4708-8581-054f0b7ec0b9",
   "metadata": {},
   "outputs": [],
   "source": [
    "# Extract number in a list"
   ]
  },
  {
   "cell_type": "code",
   "execution_count": null,
   "id": "f46e05cd-2ad4-4356-b691-b89ad4cbd0ea",
   "metadata": {},
   "outputs": [],
   "source": [
    "n = []\n",
    "for i in x:\n",
    "    if type(i) ==int or type(i) ==float:\n",
    "        n.append(i)"
   ]
  },
  {
   "cell_type": "code",
   "execution_count": null,
   "id": "819fc349-eb33-44c1-a349-f08852324505",
   "metadata": {},
   "outputs": [],
   "source": [
    "print(n)"
   ]
  },
  {
   "cell_type": "code",
   "execution_count": null,
   "id": "65cc3369-65fc-4255-9c3b-3f7d610678a9",
   "metadata": {},
   "outputs": [],
   "source": [
    "# Extract all text in a new list"
   ]
  },
  {
   "cell_type": "code",
   "execution_count": null,
   "id": "1960f866-f3ea-443d-af19-064d8d197399",
   "metadata": {},
   "outputs": [],
   "source": [
    "t =[]\n",
    "for i in x:\n",
    "    if type(i) ==str:\n",
    "        t.append(i)\n",
    "print(t)"
   ]
  },
  {
   "cell_type": "code",
   "execution_count": null,
   "id": "e857784f-9291-4fcf-bb91-96c130e46e02",
   "metadata": {},
   "outputs": [],
   "source": [
    "# count total number of numerical value in list"
   ]
  },
  {
   "cell_type": "code",
   "execution_count": null,
   "id": "ae55b9ca-91de-43bb-836c-98314d8660e8",
   "metadata": {},
   "outputs": [],
   "source": [
    "c = 0\n",
    "for i in x:\n",
    "    if type(i) in (int, float):\n",
    "        c+=1"
   ]
  },
  {
   "cell_type": "code",
   "execution_count": null,
   "id": "48f48dcd-99d4-4200-9dae-fac90d4c1042",
   "metadata": {},
   "outputs": [],
   "source": [
    "print(c)"
   ]
  },
  {
   "cell_type": "code",
   "execution_count": null,
   "id": "f4b53177-08ba-427c-a173-d767455e921d",
   "metadata": {},
   "outputs": [],
   "source": [
    "# Count total number of text value in list"
   ]
  },
  {
   "cell_type": "code",
   "execution_count": null,
   "id": "3d1eb15f-27fe-4d46-a83b-b4eccb241f25",
   "metadata": {},
   "outputs": [],
   "source": [
    "ct = 0\n",
    "for i in x:\n",
    "    if type(i) ==str:\n",
    "        ct+=1\n",
    "print(ct)"
   ]
  },
  {
   "cell_type": "code",
   "execution_count": null,
   "id": "6e67a681-c8dc-4b1e-859a-90365b194ec6",
   "metadata": {},
   "outputs": [],
   "source": [
    "# Add first 'a','b','c' in last of list "
   ]
  },
  {
   "cell_type": "code",
   "execution_count": null,
   "id": "8ee97543-2210-467b-ab02-29df310e2f2f",
   "metadata": {},
   "outputs": [],
   "source": [
    "x.extend(['a','b','c'])\n",
    "print(x)"
   ]
  },
  {
   "cell_type": "code",
   "execution_count": null,
   "id": "54c335e9-abba-43ee-83b6-8f0cb5e355bd",
   "metadata": {},
   "outputs": [],
   "source": [
    "# Delete all text from list"
   ]
  },
  {
   "cell_type": "code",
   "execution_count": null,
   "id": "21e864d7-d27d-410a-8b99-0a033304dc78",
   "metadata": {},
   "outputs": [],
   "source": [
    "x = ['ram','Day',123,'sita',798,21.1,'Text']\n",
    "y = x.copy()\n",
    "x.clear\n",
    "for i in x:\n",
    "    if type(i)!=str:\n",
    "        x.append(i)"
   ]
  },
  {
   "cell_type": "code",
   "execution_count": null,
   "id": "68f3d5ff-9f7e-4fea-9028-2f23c5a1ceb5",
   "metadata": {},
   "outputs": [],
   "source": [
    "print(x)"
   ]
  },
  {
   "cell_type": "code",
   "execution_count": null,
   "id": "9c5df853-dd45-4992-a8de-78d74a229bbc",
   "metadata": {},
   "outputs": [],
   "source": [
    "# Delete all value from list."
   ]
  },
  {
   "cell_type": "code",
   "execution_count": null,
   "id": "ac198ca6-43e9-44d9-a3fc-d6b7b87e4ebd",
   "metadata": {},
   "outputs": [],
   "source": [
    "# del x[0:]"
   ]
  },
  {
   "cell_type": "code",
   "execution_count": 224,
   "id": "90b792d6-7593-4e5d-973e-6f5c854aee3f",
   "metadata": {},
   "outputs": [],
   "source": [
    "x = [9,4,2,7,3,9,5,1,10,4]"
   ]
  },
  {
   "cell_type": "code",
   "execution_count": 225,
   "id": "bdc34642-8344-4942-8d38-a7e6cf9fcd94",
   "metadata": {},
   "outputs": [],
   "source": [
    "# Show the maximum number from the list"
   ]
  },
  {
   "cell_type": "code",
   "execution_count": 226,
   "id": "ef9eaa3c-593c-45a1-9faf-7ac08cb687ab",
   "metadata": {},
   "outputs": [],
   "source": [
    "# Sort :- It is used to arrange the list in ascending or descending order "
   ]
  },
  {
   "cell_type": "code",
   "execution_count": 227,
   "id": "594cb937-a481-4080-89d1-7e9f80f35452",
   "metadata": {},
   "outputs": [],
   "source": [
    "# Sorted :-"
   ]
  },
  {
   "cell_type": "code",
   "execution_count": 228,
   "id": "e8810aeb-dedc-454d-9372-1050a0ca84a4",
   "metadata": {},
   "outputs": [],
   "source": [
    "# Asending order\n",
    "x.sort()"
   ]
  },
  {
   "cell_type": "code",
   "execution_count": 229,
   "id": "886aa8b6-9b63-4cbc-8a24-e803ce526386",
   "metadata": {},
   "outputs": [
    {
     "name": "stdout",
     "output_type": "stream",
     "text": [
      "[1, 2, 3, 4, 4, 5, 7, 9, 9, 10]\n"
     ]
    }
   ],
   "source": [
    "print(x)"
   ]
  },
  {
   "cell_type": "code",
   "execution_count": 230,
   "id": "086514ab-20ba-4107-b29e-e237fca182f5",
   "metadata": {},
   "outputs": [],
   "source": [
    "# Descending order"
   ]
  },
  {
   "cell_type": "code",
   "execution_count": 231,
   "id": "a36b1e98-c73d-4136-ad7b-cc78fa3a8566",
   "metadata": {},
   "outputs": [],
   "source": [
    "x.sort(reverse=True)"
   ]
  },
  {
   "cell_type": "code",
   "execution_count": 232,
   "id": "5dd22091-9ac2-4940-af43-cddc624c1d24",
   "metadata": {},
   "outputs": [
    {
     "name": "stdout",
     "output_type": "stream",
     "text": [
      "[10, 9, 9, 7, 5, 4, 4, 3, 2, 1]\n"
     ]
    }
   ],
   "source": [
    "print(x)"
   ]
  },
  {
   "cell_type": "code",
   "execution_count": 237,
   "id": "65fb6ce1-011d-45b3-926f-06dc8e4cf86c",
   "metadata": {},
   "outputs": [],
   "source": [
    "# Sorted"
   ]
  },
  {
   "cell_type": "code",
   "execution_count": 238,
   "id": "9b8f6459-3144-4aa9-8b25-d72c8614b3b1",
   "metadata": {},
   "outputs": [],
   "source": [
    "x = [34,45,6,71,44,10]"
   ]
  },
  {
   "cell_type": "code",
   "execution_count": 239,
   "id": "418c86b8-3d59-411e-b83f-447c9055c904",
   "metadata": {},
   "outputs": [],
   "source": [
    "x = sorted(x)"
   ]
  },
  {
   "cell_type": "code",
   "execution_count": 240,
   "id": "584a58fe-8d04-4864-9fff-dd0fb69d0926",
   "metadata": {},
   "outputs": [
    {
     "name": "stdout",
     "output_type": "stream",
     "text": [
      "[6, 10, 34, 44, 45, 71]\n"
     ]
    }
   ],
   "source": [
    "print(x)"
   ]
  },
  {
   "cell_type": "code",
   "execution_count": 242,
   "id": "4d976f34-1b54-46ba-ab68-8b28c2fe5a0d",
   "metadata": {},
   "outputs": [
    {
     "name": "stdout",
     "output_type": "stream",
     "text": [
      "[71, 45, 44, 34, 10, 6]\n"
     ]
    }
   ],
   "source": [
    "x = sorted(x,reverse=True)\n",
    "print(x)"
   ]
  },
  {
   "cell_type": "code",
   "execution_count": 249,
   "id": "a34f6c70-d07c-480b-a3a9-64597a03eaec",
   "metadata": {},
   "outputs": [],
   "source": [
    "x = [456,123,789,369,741,258]"
   ]
  },
  {
   "cell_type": "code",
   "execution_count": 250,
   "id": "b4a8b20d-3eeb-4ea3-83b7-788620edfb96",
   "metadata": {},
   "outputs": [],
   "source": [
    "# Show the maximum number "
   ]
  },
  {
   "cell_type": "code",
   "execution_count": 251,
   "id": "e88ceb86-cfaa-4481-a56c-27d73ab00017",
   "metadata": {},
   "outputs": [],
   "source": [
    "x.sort()"
   ]
  },
  {
   "cell_type": "code",
   "execution_count": 253,
   "id": "56861655-05ac-4039-8dbc-567a088d68ad",
   "metadata": {},
   "outputs": [
    {
     "data": {
      "text/plain": [
       "789"
      ]
     },
     "execution_count": 253,
     "metadata": {},
     "output_type": "execute_result"
    }
   ],
   "source": [
    "x[-1]"
   ]
  },
  {
   "cell_type": "code",
   "execution_count": 255,
   "id": "4a26b41b-ef00-4878-9832-b1512e0fb421",
   "metadata": {},
   "outputs": [
    {
     "data": {
      "text/plain": [
       "258"
      ]
     },
     "execution_count": 255,
     "metadata": {},
     "output_type": "execute_result"
    }
   ],
   "source": [
    "# Show the 2nd lowest number \n",
    "x[1]"
   ]
  },
  {
   "cell_type": "code",
   "execution_count": 257,
   "id": "dff07b2c-ca01-4c05-bbea-15ef0ce5f4ff",
   "metadata": {},
   "outputs": [
    {
     "data": {
      "text/plain": [
       "456"
      ]
     },
     "execution_count": 257,
     "metadata": {},
     "output_type": "execute_result"
    }
   ],
   "source": [
    "# Show the 3rd largest number\n",
    "x[-3]"
   ]
  },
  {
   "cell_type": "code",
   "execution_count": 258,
   "id": "9e2e7ee7-d66e-4e6e-9308-29b9a7037aa4",
   "metadata": {},
   "outputs": [
    {
     "name": "stdout",
     "output_type": "stream",
     "text": [
      "2736\n"
     ]
    }
   ],
   "source": [
    "# Show the sum of all number \n",
    "s = 0\n",
    "for i in x:\n",
    "    s = s+i\n",
    "print(s)"
   ]
  },
  {
   "cell_type": "code",
   "execution_count": 263,
   "id": "f2bb3044-3f50-4183-a69c-22096e0d77da",
   "metadata": {},
   "outputs": [],
   "source": [
    "x = [456,123,789,369,741,258]"
   ]
  },
  {
   "cell_type": "code",
   "execution_count": 264,
   "id": "8c6dbcae-4539-43f4-980d-0b16ca890f2d",
   "metadata": {},
   "outputs": [
    {
     "name": "stdout",
     "output_type": "stream",
     "text": [
      "789\n"
     ]
    }
   ],
   "source": [
    "m = max(x)\n",
    "print(m)"
   ]
  },
  {
   "cell_type": "code",
   "execution_count": 265,
   "id": "7ffc3ee9-a1ca-4123-89e9-1273d9f75d07",
   "metadata": {},
   "outputs": [
    {
     "name": "stdout",
     "output_type": "stream",
     "text": [
      "123\n"
     ]
    }
   ],
   "source": [
    "mi = min(x)\n",
    "print(mi)"
   ]
  },
  {
   "cell_type": "code",
   "execution_count": 266,
   "id": "b38cea00-2495-4336-9f3f-087f85763fc9",
   "metadata": {},
   "outputs": [
    {
     "name": "stdout",
     "output_type": "stream",
     "text": [
      "2736\n"
     ]
    }
   ],
   "source": [
    "s = sum(x)\n",
    "print(s)"
   ]
  },
  {
   "cell_type": "code",
   "execution_count": 267,
   "id": "af067f12-0f8e-48b7-808d-cdd69ed33a0f",
   "metadata": {},
   "outputs": [],
   "source": [
    "x = [1,2,2,52,2,3,5,6,6,6,7,7,9,9,8]"
   ]
  },
  {
   "cell_type": "code",
   "execution_count": 268,
   "id": "10b8f49b-aea1-45ac-8608-182c711a4e4d",
   "metadata": {},
   "outputs": [
    {
     "name": "stdout",
     "output_type": "stream",
     "text": [
      "3\n"
     ]
    }
   ],
   "source": [
    "c = x.count(2)\n",
    "print(c)"
   ]
  },
  {
   "cell_type": "code",
   "execution_count": 269,
   "id": "b59ee8ee-2890-47f9-b9bf-5b4f461422ba",
   "metadata": {},
   "outputs": [],
   "source": [
    "x = [6,7,43,9,1]"
   ]
  },
  {
   "cell_type": "code",
   "execution_count": 270,
   "id": "33b32f41-f840-42da-8ac5-623ce1b3911b",
   "metadata": {},
   "outputs": [
    {
     "name": "stdout",
     "output_type": "stream",
     "text": [
      "2\n"
     ]
    }
   ],
   "source": [
    "i = x.index(43)\n",
    "print(i)"
   ]
  },
  {
   "cell_type": "code",
   "execution_count": 271,
   "id": "54ce8a24-463f-45c0-a8ba-cf4c590f8acd",
   "metadata": {},
   "outputs": [],
   "source": [
    "x = ['India','Australia','England','Pakistan','Srilanka']"
   ]
  },
  {
   "cell_type": "code",
   "execution_count": 272,
   "id": "4be8d43e-c6f6-4468-ae3d-a7920ac19267",
   "metadata": {},
   "outputs": [],
   "source": [
    "# Show the sort name of all country"
   ]
  },
  {
   "cell_type": "code",
   "execution_count": 276,
   "id": "07a43e32-71fb-4ee1-9aeb-faf1de379690",
   "metadata": {},
   "outputs": [],
   "source": [
    "y = []\n",
    "for i in x:\n",
    "    y.append(i[0:3].upper())"
   ]
  },
  {
   "cell_type": "code",
   "execution_count": 277,
   "id": "25537ac2-3535-4919-b8e4-6c505d5cfbd8",
   "metadata": {},
   "outputs": [
    {
     "name": "stdout",
     "output_type": "stream",
     "text": [
      "['IND', 'AUS', 'ENG', 'PAK', 'SRI']\n"
     ]
    }
   ],
   "source": [
    "print(y)"
   ]
  },
  {
   "cell_type": "code",
   "execution_count": 309,
   "id": "2b2e8037-a9e1-4c05-b12b-67af5634dcaa",
   "metadata": {},
   "outputs": [],
   "source": [
    "x = [12,45,7,9,56,23,25,45,78,89,56,23,25,24,26]\n",
    "\n",
    "# print the NUmebr that is divisible bt 9\n",
    "# find the NUmber who is repeated more than one time\n",
    "# show positive and negative index of the Number\n",
    "# show the index Number of the even number elements\n",
    "# show the Negative index of odd Elements"
   ]
  },
  {
   "cell_type": "code",
   "execution_count": 310,
   "id": "2057927c-1106-4533-a94e-46dba31ce693",
   "metadata": {},
   "outputs": [
    {
     "name": "stdout",
     "output_type": "stream",
     "text": [
      "45\n",
      "9\n",
      "45\n"
     ]
    }
   ],
   "source": [
    "for i in x:\n",
    "    if i%9 ==0:\n",
    "        print(i)"
   ]
  },
  {
   "cell_type": "code",
   "execution_count": 314,
   "id": "90c97b62-1292-4f6c-8579-426be3bba08c",
   "metadata": {},
   "outputs": [
    {
     "name": "stdout",
     "output_type": "stream",
     "text": [
      "45\n",
      "56\n",
      "23\n",
      "25\n",
      "45\n",
      "56\n",
      "23\n",
      "25\n"
     ]
    }
   ],
   "source": [
    "for i in x:\n",
    "    if x.count(i)>1:\n",
    "        print(i)"
   ]
  },
  {
   "cell_type": "code",
   "execution_count": 316,
   "id": "a5a344d1-a3b2-4061-a465-179d39538958",
   "metadata": {},
   "outputs": [
    {
     "name": "stdout",
     "output_type": "stream",
     "text": [
      "Positive index :-  0\n",
      "Positive index :-  1\n",
      "Positive index :-  2\n",
      "Positive index :-  3\n",
      "Positive index :-  4\n",
      "Positive index :-  5\n",
      "Positive index :-  6\n",
      "Positive index :-  7\n",
      "Positive index :-  8\n",
      "Positive index :-  9\n",
      "Positive index :-  10\n",
      "Positive index :-  11\n",
      "Positive index :-  12\n",
      "Positive index :-  13\n",
      "Positive index :-  14\n",
      "Positive index :-  15\n"
     ]
    }
   ],
   "source": [
    "for i in range(len(x)+1):\n",
    "    print('Positive index :- ',i)"
   ]
  },
  {
   "cell_type": "code",
   "execution_count": 315,
   "id": "c193d3e0-cb86-445c-a8d9-884fd4481846",
   "metadata": {},
   "outputs": [
    {
     "name": "stdout",
     "output_type": "stream",
     "text": [
      "Negative index :-  15\n",
      "Negative index :-  14\n",
      "Negative index :-  13\n",
      "Negative index :-  12\n",
      "Negative index :-  11\n",
      "Negative index :-  10\n",
      "Negative index :-  9\n",
      "Negative index :-  8\n",
      "Negative index :-  7\n",
      "Negative index :-  6\n",
      "Negative index :-  5\n",
      "Negative index :-  4\n",
      "Negative index :-  3\n",
      "Negative index :-  2\n",
      "Negative index :-  1\n",
      "Negative index :-  0\n"
     ]
    }
   ],
   "source": [
    "for i in range(len(x),-1,-1):\n",
    "    print('Negative index :- ',i)"
   ]
  },
  {
   "cell_type": "code",
   "execution_count": 286,
   "id": "977b0e55-95ef-45d0-b615-3ea2aa36a6c8",
   "metadata": {},
   "outputs": [],
   "source": [
    "# show the index Number of the even number elements\n",
    "# show the Negative index of odd Elements"
   ]
  },
  {
   "cell_type": "code",
   "execution_count": 307,
   "id": "27716b8e-4203-40a6-bbd1-c557ebc1fafa",
   "metadata": {},
   "outputs": [
    {
     "name": "stdout",
     "output_type": "stream",
     "text": [
      "12\n",
      "56\n",
      "78\n",
      "56\n",
      "24\n",
      "26\n"
     ]
    }
   ],
   "source": [
    "for i in x:\n",
    "    if i%2 ==0:\n",
    "        print(i)"
   ]
  },
  {
   "cell_type": "code",
   "execution_count": 301,
   "id": "aae2fc01-054c-41eb-9f22-245cfe276a91",
   "metadata": {},
   "outputs": [
    {
     "name": "stdout",
     "output_type": "stream",
     "text": [
      "45\n",
      "7\n",
      "9\n",
      "23\n",
      "25\n",
      "45\n",
      "89\n",
      "23\n",
      "25\n"
     ]
    }
   ],
   "source": [
    "for i in x:\n",
    "    if i%2 ==1:\n",
    "        print(i)"
   ]
  },
  {
   "cell_type": "code",
   "execution_count": null,
   "id": "3549197c-0992-44b9-b2ba-442130866de5",
   "metadata": {},
   "outputs": [],
   "source": []
  }
 ],
 "metadata": {
  "kernelspec": {
   "display_name": "Python 3 (ipykernel)",
   "language": "python",
   "name": "python3"
  },
  "language_info": {
   "codemirror_mode": {
    "name": "ipython",
    "version": 3
   },
   "file_extension": ".py",
   "mimetype": "text/x-python",
   "name": "python",
   "nbconvert_exporter": "python",
   "pygments_lexer": "ipython3",
   "version": "3.12.4"
  }
 },
 "nbformat": 4,
 "nbformat_minor": 5
}
