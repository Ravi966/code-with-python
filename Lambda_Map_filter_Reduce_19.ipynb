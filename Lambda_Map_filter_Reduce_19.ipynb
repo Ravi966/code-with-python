{
 "cells": [
  {
   "cell_type": "code",
   "execution_count": 1,
   "id": "6226812a-6536-430b-89b2-769546da1b4a",
   "metadata": {},
   "outputs": [],
   "source": [
    "# Lambda Function"
   ]
  },
  {
   "cell_type": "code",
   "execution_count": 2,
   "id": "37f81a6c-3d55-4725-83cf-eb3a03fd6c8b",
   "metadata": {},
   "outputs": [],
   "source": [
    "sum = lambda x,y: x+y"
   ]
  },
  {
   "cell_type": "code",
   "execution_count": 3,
   "id": "cfb355c1-45f3-43bc-9a90-b2d06eafcde9",
   "metadata": {},
   "outputs": [
    {
     "name": "stdout",
     "output_type": "stream",
     "text": [
      "7\n"
     ]
    }
   ],
   "source": [
    "print(sum(3,4))"
   ]
  },
  {
   "cell_type": "code",
   "execution_count": 4,
   "id": "bbc73ce6-58a2-441c-b348-40260e4b7cc4",
   "metadata": {},
   "outputs": [],
   "source": [
    "# Using filter() function to get all even number from a list"
   ]
  },
  {
   "cell_type": "code",
   "execution_count": 6,
   "id": "4e237f41-844c-422a-a60d-bf70e259cf7c",
   "metadata": {},
   "outputs": [
    {
     "name": "stdout",
     "output_type": "stream",
     "text": [
      "[2, 4, 6, 8, 10]\n"
     ]
    }
   ],
   "source": [
    "x = lambda a:a%2 ==0\n",
    "y = [1,2,3,4,5,6,7,8,9,10]\n",
    "f = filter(x,y)\n",
    "f = list(f)\n",
    "print(f)"
   ]
  },
  {
   "cell_type": "code",
   "execution_count": 9,
   "id": "59111bd1-5cfa-4595-8328-d2f2c4e74114",
   "metadata": {},
   "outputs": [],
   "source": [
    "# Using Map() function to cube the all number in a list."
   ]
  },
  {
   "cell_type": "code",
   "execution_count": 10,
   "id": "502159fa-0f2e-4e6f-89cc-179ee42aff06",
   "metadata": {},
   "outputs": [
    {
     "name": "stdout",
     "output_type": "stream",
     "text": [
      "[1, 8, 27, 64, 125]\n"
     ]
    }
   ],
   "source": [
    "x = lambda a:a**3\n",
    "y = [1,2,3,4,5]\n",
    "z = map(x,y)\n",
    "z = list(z)\n",
    "print(z)\n"
   ]
  },
  {
   "cell_type": "code",
   "execution_count": 11,
   "id": "5b5938ef-470d-49a5-81b1-52482c5d90f0",
   "metadata": {},
   "outputs": [],
   "source": [
    "# Using reduce() function to calculate the product of all elements in a list "
   ]
  },
  {
   "cell_type": "code",
   "execution_count": 15,
   "id": "98535f8c-a3d0-41d0-b902-647c52f8b043",
   "metadata": {},
   "outputs": [],
   "source": [
    "from functools import reduce # First import this lab"
   ]
  },
  {
   "cell_type": "code",
   "execution_count": 16,
   "id": "d2939ec9-b9e7-4ff7-af47-8ded0739f4eb",
   "metadata": {},
   "outputs": [
    {
     "name": "stdout",
     "output_type": "stream",
     "text": [
      "120\n"
     ]
    }
   ],
   "source": [
    "x = lambda a,b: a*b\n",
    "y = [1,2,3,4,5]\n",
    "z = reduce(x,y)\n",
    "print(z)"
   ]
  },
  {
   "cell_type": "code",
   "execution_count": 17,
   "id": "df2ce79d-31cd-42f6-8a19-7b9b7fe8f0d4",
   "metadata": {},
   "outputs": [],
   "source": [
    "# Write a query to show the cube of any number of with help of function"
   ]
  },
  {
   "cell_type": "code",
   "execution_count": 23,
   "id": "ca115445-2b00-482f-ac48-2029cb717d0b",
   "metadata": {},
   "outputs": [
    {
     "name": "stdout",
     "output_type": "stream",
     "text": [
      "[1, 8, 27, 64, 125]\n"
     ]
    }
   ],
   "source": [
    "x = lambda a:a**3\n",
    "y = [1,2,3,4,5]\n",
    "z = map(x,y)\n",
    "z = list(z)\n",
    "print(z)"
   ]
  },
  {
   "cell_type": "code",
   "execution_count": 19,
   "id": "b9967d67-3b79-492c-a442-6f7ed1a25b38",
   "metadata": {},
   "outputs": [],
   "source": [
    "# Create a function to filter all prime number from list"
   ]
  },
  {
   "cell_type": "code",
   "execution_count": 39,
   "id": "ad205cf6-6af7-4ca1-b4de-d6da2c951734",
   "metadata": {},
   "outputs": [
    {
     "name": "stdout",
     "output_type": "stream",
     "text": [
      "[2, 4, 7, 8, 9, 3, 5, 11, 15, 17, 19]\n"
     ]
    }
   ],
   "source": [
    "x = lambda a:a%a ==0 \n",
    "y = [2,4,7,8,9,3,5,11,15,17,19]\n",
    "z = filter(x,y)\n",
    "z = list(z)\n",
    "print(z)"
   ]
  },
  {
   "cell_type": "code",
   "execution_count": 41,
   "id": "1a512460-8427-40fb-9192-1f3f67ef72ad",
   "metadata": {},
   "outputs": [],
   "source": [
    "def is_prime(x):\n",
    "    if x<=1:\n",
    "        return False\n",
    "    if x<=3:\n",
    "        return True\n",
    "    if x%2 ==0 or x%3==0:\n",
    "        return False\n",
    "    i = 5\n",
    "    while i*i<=x:\n",
    "        if x%i==0 or x%(i+2)==0:\n",
    "            return False\n",
    "        i+=1\n",
    "    return True\n"
   ]
  },
  {
   "cell_type": "code",
   "execution_count": 42,
   "id": "6e5638ff-fccf-437d-a5a8-355c801dac13",
   "metadata": {},
   "outputs": [],
   "source": [
    "lis = [2,4,7,8,1,9,3,5,11,29,17,19]"
   ]
  },
  {
   "cell_type": "code",
   "execution_count": 43,
   "id": "12e12f5a-7225-41b7-9b1d-3e00cceca436",
   "metadata": {},
   "outputs": [
    {
     "name": "stdout",
     "output_type": "stream",
     "text": [
      "[2, 7, 3, 5, 11, 29, 17, 19]\n"
     ]
    }
   ],
   "source": [
    "f = filter(is_prime,lis)\n",
    "f = list(f)\n",
    "print(f)"
   ]
  },
  {
   "cell_type": "code",
   "execution_count": 65,
   "id": "28b25921-9676-4bab-8cf3-99068e1b7b63",
   "metadata": {},
   "outputs": [],
   "source": [
    "x = [1,2,3,4,5,6,7]\n",
    "# Expected output :- [1,3,6,10,15,21,28]"
   ]
  },
  {
   "cell_type": "code",
   "execution_count": 47,
   "id": "cbf47395-18d0-4d71-826b-5c53e7358746",
   "metadata": {},
   "outputs": [],
   "source": [
    "# Show the running total of all number is list"
   ]
  },
  {
   "cell_type": "code",
   "execution_count": 70,
   "id": "d83dcf39-5fce-4826-bfad-e316b2f8c43b",
   "metadata": {},
   "outputs": [],
   "source": [
    "x = [1,2,3,4,5,6,7]\n",
    "y = []\n",
    "a = 0\n",
    "for i in x:\n",
    "    a+=i\n",
    "    y.append(a)"
   ]
  },
  {
   "cell_type": "code",
   "execution_count": 71,
   "id": "f3f6b1a7-115e-4902-a2e5-5ca2a43e9e1a",
   "metadata": {},
   "outputs": [
    {
     "name": "stdout",
     "output_type": "stream",
     "text": [
      "[1, 3, 6, 10, 15, 21, 28]\n"
     ]
    }
   ],
   "source": [
    "print(y)"
   ]
  },
  {
   "cell_type": "code",
   "execution_count": 74,
   "id": "d31ddecf-3a65-4282-b06a-1e4c847245b1",
   "metadata": {},
   "outputs": [],
   "source": [
    "def running(x):\n",
    "        y = []\n",
    "        a = 0\n",
    "        for i in x:\n",
    "            a+=i\n",
    "            y.append(a)\n",
    "        print(y)"
   ]
  },
  {
   "cell_type": "code",
   "execution_count": 75,
   "id": "83acb3c2-0409-4858-844c-721d6f2fdd26",
   "metadata": {},
   "outputs": [
    {
     "name": "stdout",
     "output_type": "stream",
     "text": [
      "[1, 3, 6, 10, 15, 21, 28]\n"
     ]
    }
   ],
   "source": [
    "running(x)"
   ]
  },
  {
   "cell_type": "code",
   "execution_count": 76,
   "id": "24f1bcd4-b9c7-4588-8709-695127c480da",
   "metadata": {},
   "outputs": [],
   "source": [
    "# zip function :- Its combine the data in from of list tuple or dict"
   ]
  },
  {
   "cell_type": "code",
   "execution_count": 77,
   "id": "611115b2-a282-4fd3-917f-048ca8cdef7a",
   "metadata": {},
   "outputs": [],
   "source": [
    "x = [1,2,3,4,5,6]\n",
    "y = ['One','Two','Three','Four','Five','Six']"
   ]
  },
  {
   "cell_type": "code",
   "execution_count": 78,
   "id": "44399681-313b-494c-9248-41c240172daa",
   "metadata": {},
   "outputs": [],
   "source": [
    "z = zip(x,y)\n",
    "z = dict(z)"
   ]
  },
  {
   "cell_type": "code",
   "execution_count": 80,
   "id": "91e2a75e-a39a-4757-87d5-88db1a9762e3",
   "metadata": {},
   "outputs": [
    {
     "name": "stdout",
     "output_type": "stream",
     "text": [
      "{1: 'One', 2: 'Two', 3: 'Three', 4: 'Four', 5: 'Five', 6: 'Six'}\n"
     ]
    }
   ],
   "source": [
    "print(z)"
   ]
  },
  {
   "cell_type": "code",
   "execution_count": 81,
   "id": "331100a5-2794-4c8c-a161-adb4605087ac",
   "metadata": {},
   "outputs": [],
   "source": [
    "x = [1,2,3,4,5,6]\n",
    "y = ['One','Two','Three','Four','Five','Six']"
   ]
  },
  {
   "cell_type": "code",
   "execution_count": 82,
   "id": "f0245f6c-441e-4f1c-9095-74a2be55bc81",
   "metadata": {},
   "outputs": [
    {
     "data": {
      "text/plain": [
       "[(1, 'One'), (2, 'Two'), (3, 'Three'), (4, 'Four'), (5, 'Five'), (6, 'Six')]"
      ]
     },
     "execution_count": 82,
     "metadata": {},
     "output_type": "execute_result"
    }
   ],
   "source": [
    "z = list(zip(x,y))\n",
    "z"
   ]
  },
  {
   "cell_type": "code",
   "execution_count": 86,
   "id": "b2897589-a391-4e41-9559-84e0416d3648",
   "metadata": {},
   "outputs": [
    {
     "name": "stdout",
     "output_type": "stream",
     "text": [
      "Two\n",
      "Four\n",
      "Six\n"
     ]
    }
   ],
   "source": [
    "for i,j in z:\n",
    "    if i%2==0:\n",
    "        print(j)"
   ]
  },
  {
   "cell_type": "code",
   "execution_count": 99,
   "id": "d817620e-32a2-4ea4-8680-40ec480ce641",
   "metadata": {},
   "outputs": [],
   "source": [
    "x = [1,2,3,4,5]\n",
    "y = [6,7,8,9,10]\n",
    "z = [11,12,13,14,15]"
   ]
  },
  {
   "cell_type": "code",
   "execution_count": 100,
   "id": "d7a7dda5-1718-44c9-ae3e-6cf0bcb97b3d",
   "metadata": {},
   "outputs": [],
   "source": [
    "a = zip(x,y,z)\n",
    "z = list(a)"
   ]
  },
  {
   "cell_type": "code",
   "execution_count": 101,
   "id": "5583bce4-4a1e-4e66-8a59-840a4713d7fc",
   "metadata": {},
   "outputs": [
    {
     "data": {
      "text/plain": [
       "[(1, 6, 11), (2, 7, 12), (3, 8, 13), (4, 9, 14), (5, 10, 15)]"
      ]
     },
     "execution_count": 101,
     "metadata": {},
     "output_type": "execute_result"
    }
   ],
   "source": [
    "z"
   ]
  },
  {
   "cell_type": "code",
   "execution_count": 102,
   "id": "9a21d642-f147-4cc8-b875-f8a50631c434",
   "metadata": {},
   "outputs": [
    {
     "name": "stdout",
     "output_type": "stream",
     "text": [
      "(1, 6, 11)\n",
      "(2, 7, 12)\n",
      "(3, 8, 13)\n",
      "(4, 9, 14)\n",
      "(5, 10, 15)\n"
     ]
    }
   ],
   "source": [
    "for i in z:\n",
    "    print(i)"
   ]
  },
  {
   "cell_type": "code",
   "execution_count": 103,
   "id": "e4719e3f-cc77-4287-bd7e-d83c84601e7e",
   "metadata": {},
   "outputs": [
    {
     "name": "stdout",
     "output_type": "stream",
     "text": [
      "1 -- 6 -- 11\n",
      "2 -- 7 -- 12\n",
      "3 -- 8 -- 13\n",
      "4 -- 9 -- 14\n",
      "5 -- 10 -- 15\n"
     ]
    }
   ],
   "source": [
    "for i,j,k in z:\n",
    "    print(i,'--',j,'--',k)"
   ]
  },
  {
   "cell_type": "code",
   "execution_count": null,
   "id": "a4885a92-44c9-4327-9597-37f0f1a62fd6",
   "metadata": {},
   "outputs": [],
   "source": []
  }
 ],
 "metadata": {
  "kernelspec": {
   "display_name": "Python 3 (ipykernel)",
   "language": "python",
   "name": "python3"
  },
  "language_info": {
   "codemirror_mode": {
    "name": "ipython",
    "version": 3
   },
   "file_extension": ".py",
   "mimetype": "text/x-python",
   "name": "python",
   "nbconvert_exporter": "python",
   "pygments_lexer": "ipython3",
   "version": "3.12.4"
  }
 },
 "nbformat": 4,
 "nbformat_minor": 5
}
