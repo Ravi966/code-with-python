{
 "cells": [
  {
   "cell_type": "code",
   "execution_count": 1,
   "id": "621e54d1-3a1a-442d-8c39-7f124258c7c8",
   "metadata": {},
   "outputs": [],
   "source": [
    "# Dictionary"
   ]
  },
  {
   "cell_type": "code",
   "execution_count": 2,
   "id": "e2f2622f-5840-43ea-90a7-161652e4bf36",
   "metadata": {},
   "outputs": [],
   "source": [
    "# Create a dictionary name of Info add your Personal details"
   ]
  },
  {
   "cell_type": "code",
   "execution_count": 9,
   "id": "ebec97da-8449-41c3-a213-9b2e46da676e",
   "metadata": {},
   "outputs": [],
   "source": [
    "info = {\n",
    "    \"Name\":'Ravi',\n",
    "    \"Age\":19,\n",
    "    \"City\":'Delhi',\n",
    "    \"Gender\":\"M\"\n",
    "}"
   ]
  },
  {
   "cell_type": "code",
   "execution_count": 13,
   "id": "5b8e77ab-7809-4b97-bf83-1328a290962b",
   "metadata": {},
   "outputs": [
    {
     "name": "stdout",
     "output_type": "stream",
     "text": [
      "Ravi\n"
     ]
    }
   ],
   "source": [
    "print(info[\"Name\"])"
   ]
  },
  {
   "cell_type": "code",
   "execution_count": 15,
   "id": "7bcd18f0-d16f-468b-a634-59847ef9fb97",
   "metadata": {},
   "outputs": [],
   "source": [
    "# Keys: - It extracts all keys from dictionary.\n",
    "# Values :- Its extract all value from dictionary.\n",
    "# Items : - Its show the keys and value in tuple of list.\n",
    "# get"
   ]
  },
  {
   "cell_type": "code",
   "execution_count": 16,
   "id": "4acc0d3c-2837-4434-953e-2b243e2a8e7d",
   "metadata": {},
   "outputs": [
    {
     "name": "stdout",
     "output_type": "stream",
     "text": [
      "dict_values(['Ravi', 19, 'Delhi', 'M'])\n"
     ]
    }
   ],
   "source": [
    "k = info.values()\n",
    "print(k)"
   ]
  },
  {
   "cell_type": "code",
   "execution_count": 17,
   "id": "788fb1c2-d7fb-4b63-a160-24e281f8bddf",
   "metadata": {},
   "outputs": [
    {
     "name": "stdout",
     "output_type": "stream",
     "text": [
      "dict_keys(['Name', 'Age', 'City', 'Gender'])\n"
     ]
    }
   ],
   "source": [
    "v = info.keys()\n",
    "print(v)"
   ]
  },
  {
   "cell_type": "code",
   "execution_count": 19,
   "id": "9a775b3f-a106-432c-baaf-f0d23f033ba4",
   "metadata": {},
   "outputs": [
    {
     "name": "stdout",
     "output_type": "stream",
     "text": [
      "dict_items([('Name', 'Ravi'), ('Age', 19), ('City', 'Delhi'), ('Gender', 'M')])\n"
     ]
    }
   ],
   "source": [
    "i = info.items()\n",
    "print(i)"
   ]
  },
  {
   "cell_type": "code",
   "execution_count": 20,
   "id": "2919d959-e269-4bc6-8d7d-d7e878400a3c",
   "metadata": {},
   "outputs": [],
   "source": [
    "sc = {\n",
    "    'Bihar' : \"Patna\",\n",
    "    'Uttar Pardesh':'Lucknow',\n",
    "    'Assam':'Dispur',\n",
    "    'Haryana':'Chadigarh',\n",
    "    'Uttarakhand':'Dehradun'\n",
    "}"
   ]
  },
  {
   "cell_type": "code",
   "execution_count": 21,
   "id": "a28a5b2c-d96d-4c6c-8433-398abc4e5ddd",
   "metadata": {},
   "outputs": [
    {
     "data": {
      "text/plain": [
       "{'Bihar': 'Patna',\n",
       " 'Uttar Pardesh': 'Lucknow',\n",
       " 'Assam': 'Dispur',\n",
       " 'Haryana': 'Chadigarh',\n",
       " 'Uttarakhand': 'Dehradun'}"
      ]
     },
     "execution_count": 21,
     "metadata": {},
     "output_type": "execute_result"
    }
   ],
   "source": [
    "sc"
   ]
  },
  {
   "cell_type": "code",
   "execution_count": 43,
   "id": "f183ba8b-2a2e-427f-875f-57a2eccae040",
   "metadata": {},
   "outputs": [
    {
     "name": "stdin",
     "output_type": "stream",
     "text": [
      "Enter the Name of state :-  haryana\n"
     ]
    },
    {
     "name": "stdout",
     "output_type": "stream",
     "text": [
      "The Capital of Haryana is :- Chadigarh\n"
     ]
    }
   ],
   "source": [
    "x = str(input('Enter the Name of state :- '))\n",
    "x = x.title()\n",
    "s = sc.keys()\n",
    "s = list(s)\n",
    "if x not in s:\n",
    "    print('Not Record found')\n",
    "else:\n",
    "    capital = sc[x]\n",
    "    print(f'The Capital of {x} is :- {capital}')\n"
   ]
  },
  {
   "cell_type": "code",
   "execution_count": 44,
   "id": "36ab0954-2bfe-42ca-9c57-13c69794bf31",
   "metadata": {},
   "outputs": [],
   "source": [
    "# How to add and delete the value form dictionary"
   ]
  },
  {
   "cell_type": "code",
   "execution_count": 47,
   "id": "ccd118fc-e191-43fc-ba1a-06bd74aea07e",
   "metadata": {},
   "outputs": [],
   "source": [
    "x = {\n",
    "    1:'One',\n",
    "    2:'Two',\n",
    "    3:'Three',\n",
    "    4:'Four',\n",
    "    5:'Five'\n",
    "}"
   ]
  },
  {
   "cell_type": "code",
   "execution_count": 49,
   "id": "8134df02-8aef-45bb-8967-be0f8a2ed375",
   "metadata": {},
   "outputs": [
    {
     "name": "stdout",
     "output_type": "stream",
     "text": [
      "{1: 'One', 2: 'Two', 3: 'Three', 4: 'Four', 5: 'Five'}\n"
     ]
    }
   ],
   "source": [
    "print(x)"
   ]
  },
  {
   "cell_type": "code",
   "execution_count": 50,
   "id": "a5fe037e-6ab9-4279-8fb6-7ec68b584544",
   "metadata": {},
   "outputs": [],
   "source": [
    "# how to add the keys and values in dictionary"
   ]
  },
  {
   "cell_type": "code",
   "execution_count": 51,
   "id": "999809cd-7249-45e8-8b52-f2d904bf7a85",
   "metadata": {},
   "outputs": [
    {
     "data": {
      "text/plain": [
       "{1: 'One', 2: 'Two', 3: 'Three', 4: 'Four', 5: 'Five'}"
      ]
     },
     "execution_count": 51,
     "metadata": {},
     "output_type": "execute_result"
    }
   ],
   "source": [
    "x"
   ]
  },
  {
   "cell_type": "code",
   "execution_count": 52,
   "id": "52eae8c9-f6af-40ed-8816-b32a26fd528b",
   "metadata": {},
   "outputs": [],
   "source": [
    "# with formula\n",
    "# Without formula"
   ]
  },
  {
   "cell_type": "code",
   "execution_count": 53,
   "id": "66905b26-cfb6-445a-a453-3c21258b0837",
   "metadata": {},
   "outputs": [],
   "source": [
    "# Update :- Its add keys and value in dictionary \n",
    "            # and we can single or multiple elements in dictionary\n",
    "            # its add last of dictionary"
   ]
  },
  {
   "cell_type": "code",
   "execution_count": 54,
   "id": "6d9db608-464c-4ec1-906f-d8179de62685",
   "metadata": {},
   "outputs": [],
   "source": [
    "x.update({6:'Six'})"
   ]
  },
  {
   "cell_type": "code",
   "execution_count": 55,
   "id": "5940cac5-dee2-45ca-844c-6bfc08d65bbf",
   "metadata": {},
   "outputs": [
    {
     "name": "stdout",
     "output_type": "stream",
     "text": [
      "{1: 'One', 2: 'Two', 3: 'Three', 4: 'Four', 5: 'Five', 6: 'Six'}\n"
     ]
    }
   ],
   "source": [
    "print(x)"
   ]
  },
  {
   "cell_type": "code",
   "execution_count": 56,
   "id": "9b2bf424-62d3-42c2-b11a-ddd19ea93ab7",
   "metadata": {},
   "outputs": [],
   "source": [
    "a = {\n",
    "    7:'Seven',8:'Eigth'\n",
    "}"
   ]
  },
  {
   "cell_type": "code",
   "execution_count": 57,
   "id": "672d555b-4183-4bda-9f32-868786f741d1",
   "metadata": {},
   "outputs": [],
   "source": [
    "x.update(a)"
   ]
  },
  {
   "cell_type": "code",
   "execution_count": 58,
   "id": "0d3dfe88-582b-4f76-af04-837a61e4ba10",
   "metadata": {},
   "outputs": [
    {
     "name": "stdout",
     "output_type": "stream",
     "text": [
      "{1: 'One', 2: 'Two', 3: 'Three', 4: 'Four', 5: 'Five', 6: 'Six', 7: 'Seven', 8: 'Eigth'}\n"
     ]
    }
   ],
   "source": [
    "print(x)"
   ]
  },
  {
   "cell_type": "code",
   "execution_count": 59,
   "id": "4b3defb7-d934-4023-bd07-9afe0aa8b63d",
   "metadata": {},
   "outputs": [],
   "source": [
    "x = {\n",
    "    'Name':'Prince',\n",
    "    'City':'Bihar',\n",
    "    'Age':25\n",
    "}"
   ]
  },
  {
   "cell_type": "code",
   "execution_count": 60,
   "id": "3ef50105-400f-44cd-bec8-49493e7e7075",
   "metadata": {},
   "outputs": [],
   "source": [
    "# Without formula"
   ]
  },
  {
   "cell_type": "code",
   "execution_count": 63,
   "id": "39009c92-1022-44fe-97d0-0ed5fe912676",
   "metadata": {},
   "outputs": [],
   "source": [
    "x['Profile']='Data Scientist'"
   ]
  },
  {
   "cell_type": "code",
   "execution_count": 64,
   "id": "1040fbba-1362-4770-9e25-8223a520328c",
   "metadata": {},
   "outputs": [
    {
     "name": "stdout",
     "output_type": "stream",
     "text": [
      "{'Name': 'Prince', 'City': 'Bihar', 'Age': 25, 'Profile': 'Data Scientist'}\n"
     ]
    }
   ],
   "source": [
    "print(x)"
   ]
  },
  {
   "cell_type": "code",
   "execution_count": 72,
   "id": "20f9f7ad-fe0e-4201-8cf0-bd95281644b1",
   "metadata": {},
   "outputs": [
    {
     "name": "stdout",
     "output_type": "stream",
     "text": [
      "[45, 34, 23, 67]\n"
     ]
    }
   ],
   "source": [
    "x = [45,34,23,67,]\n",
    "print(x)"
   ]
  },
  {
   "cell_type": "code",
   "execution_count": 73,
   "id": "242cefc8-89e1-4093-9042-6e18c4557796",
   "metadata": {},
   "outputs": [],
   "source": [
    "# replace 23 to 100"
   ]
  },
  {
   "cell_type": "code",
   "execution_count": 74,
   "id": "62b2c6b6-b355-49fe-8cef-9aa14d2ad029",
   "metadata": {},
   "outputs": [],
   "source": [
    "x[2] =100"
   ]
  },
  {
   "cell_type": "code",
   "execution_count": 75,
   "id": "a459ce40-7f1b-49ef-951a-05fcc20a697c",
   "metadata": {},
   "outputs": [
    {
     "name": "stdout",
     "output_type": "stream",
     "text": [
      "[45, 34, 100, 67]\n"
     ]
    }
   ],
   "source": [
    "print(x)"
   ]
  },
  {
   "cell_type": "code",
   "execution_count": 76,
   "id": "8964db88-63db-47e5-b0fe-31ce64d1b829",
   "metadata": {},
   "outputs": [],
   "source": [
    "x = {\n",
    "    1:'One',\n",
    "    2:'Two',\n",
    "    3:'Three',\n",
    "    4:'Four',\n",
    "    5:'Five'\n",
    "}"
   ]
  },
  {
   "cell_type": "code",
   "execution_count": 77,
   "id": "7be43a52-0949-4fb5-b302-df2f2194f9eb",
   "metadata": {},
   "outputs": [
    {
     "data": {
      "text/plain": [
       "{1: 'One', 2: 'Two', 3: 'Three', 4: 'Four', 5: 'Five'}"
      ]
     },
     "execution_count": 77,
     "metadata": {},
     "output_type": "execute_result"
    }
   ],
   "source": [
    "x"
   ]
  },
  {
   "cell_type": "code",
   "execution_count": 84,
   "id": "fe20f05f-c109-4745-8c32-7d4d6c1ca317",
   "metadata": {},
   "outputs": [],
   "source": [
    "# pop:- Its remove the value by keys of dictionary\n",
    "# Pop_item :- Its delete the last elements of keys and value from dictionary\n",
    "# clear :- Delete all elements from dictionary\n",
    "# del :- Its delete single elements or variable of dictionary"
   ]
  },
  {
   "cell_type": "code",
   "execution_count": 80,
   "id": "bd53b09d-1202-414c-81c5-6079151e9528",
   "metadata": {},
   "outputs": [
    {
     "data": {
      "text/plain": [
       "'One'"
      ]
     },
     "execution_count": 80,
     "metadata": {},
     "output_type": "execute_result"
    }
   ],
   "source": [
    "x.pop(1)"
   ]
  },
  {
   "cell_type": "code",
   "execution_count": 81,
   "id": "6fc47f4a-8d22-4fcd-a6ca-e257e32171ea",
   "metadata": {},
   "outputs": [
    {
     "data": {
      "text/plain": [
       "{2: 'Two', 3: 'Three', 4: 'Four', 5: 'Five'}"
      ]
     },
     "execution_count": 81,
     "metadata": {},
     "output_type": "execute_result"
    }
   ],
   "source": [
    "x"
   ]
  },
  {
   "cell_type": "code",
   "execution_count": 82,
   "id": "9f63f403-ddf5-4d45-9625-4306d6d935da",
   "metadata": {},
   "outputs": [
    {
     "data": {
      "text/plain": [
       "(5, 'Five')"
      ]
     },
     "execution_count": 82,
     "metadata": {},
     "output_type": "execute_result"
    }
   ],
   "source": [
    "x.popitem()"
   ]
  },
  {
   "cell_type": "code",
   "execution_count": 83,
   "id": "f9886d12-1125-404c-ba7c-b0333e4867e2",
   "metadata": {},
   "outputs": [
    {
     "data": {
      "text/plain": [
       "{2: 'Two', 3: 'Three', 4: 'Four'}"
      ]
     },
     "execution_count": 83,
     "metadata": {},
     "output_type": "execute_result"
    }
   ],
   "source": [
    "x"
   ]
  },
  {
   "cell_type": "code",
   "execution_count": 85,
   "id": "f433886d-8599-40be-a300-1dc2d981927e",
   "metadata": {},
   "outputs": [],
   "source": [
    "x.clear()"
   ]
  },
  {
   "cell_type": "code",
   "execution_count": 86,
   "id": "9310a4a5-2b62-448c-b1ff-056fb1c04e5b",
   "metadata": {},
   "outputs": [
    {
     "data": {
      "text/plain": [
       "{}"
      ]
     },
     "execution_count": 86,
     "metadata": {},
     "output_type": "execute_result"
    }
   ],
   "source": [
    "x"
   ]
  },
  {
   "cell_type": "code",
   "execution_count": 87,
   "id": "ae261c76-46d3-4ffe-a85e-c05befa53a2d",
   "metadata": {},
   "outputs": [],
   "source": [
    "del x"
   ]
  },
  {
   "cell_type": "code",
   "execution_count": null,
   "id": "cd6ded19-a8c9-4429-a4f3-0fb7dbadff03",
   "metadata": {},
   "outputs": [],
   "source": []
  },
  {
   "cell_type": "code",
   "execution_count": null,
   "id": "5c1377ce-37a1-48ea-b8f2-7b68aa8b7b9d",
   "metadata": {},
   "outputs": [],
   "source": []
  }
 ],
 "metadata": {
  "kernelspec": {
   "display_name": "Python 3 (ipykernel)",
   "language": "python",
   "name": "python3"
  },
  "language_info": {
   "codemirror_mode": {
    "name": "ipython",
    "version": 3
   },
   "file_extension": ".py",
   "mimetype": "text/x-python",
   "name": "python",
   "nbconvert_exporter": "python",
   "pygments_lexer": "ipython3",
   "version": "3.12.4"
  }
 },
 "nbformat": 4,
 "nbformat_minor": 5
}
