{
 "cells": [
  {
   "cell_type": "code",
   "execution_count": 17,
   "id": "e517e69c-328a-4fdf-9ca1-e006e103042a",
   "metadata": {},
   "outputs": [],
   "source": [
    "x = ['one','Two','Three','Four','Five']"
   ]
  },
  {
   "cell_type": "code",
   "execution_count": 18,
   "id": "8045a87a-4540-4760-a9d7-fb102e99304c",
   "metadata": {},
   "outputs": [],
   "source": [
    "# Extract the first Three value from list\n",
    "# Extract the last two value from list \n",
    "# Extract ['Four,'Three'] from list"
   ]
  },
  {
   "cell_type": "code",
   "execution_count": 19,
   "id": "9ff8be43-754e-4b2b-bf7a-dab90ea8ecd6",
   "metadata": {},
   "outputs": [
    {
     "name": "stdout",
     "output_type": "stream",
     "text": [
      "['one', 'Two', 'Three']\n"
     ]
    }
   ],
   "source": [
    "print(x[0:3])"
   ]
  },
  {
   "cell_type": "code",
   "execution_count": 20,
   "id": "7b12e3d4-2c12-4d8c-a8b1-95bd4cb6d05d",
   "metadata": {},
   "outputs": [
    {
     "name": "stdout",
     "output_type": "stream",
     "text": [
      "['Three', 'Four', 'Five']\n"
     ]
    }
   ],
   "source": [
    "print(x[-3:])"
   ]
  },
  {
   "cell_type": "code",
   "execution_count": 21,
   "id": "dd643a76-aecf-4e8d-8bbd-b4fe6e568dca",
   "metadata": {},
   "outputs": [
    {
     "name": "stdout",
     "output_type": "stream",
     "text": [
      "['Four', 'Three']\n"
     ]
    }
   ],
   "source": [
    "print(x[-2:-4:-1])"
   ]
  },
  {
   "cell_type": "code",
   "execution_count": 22,
   "id": "683d0888-a028-45a6-a28b-165116be0925",
   "metadata": {},
   "outputs": [],
   "source": [
    "# List "
   ]
  },
  {
   "cell_type": "code",
   "execution_count": 23,
   "id": "4225a3d1-838a-4cff-a436-932e8f0ad851",
   "metadata": {},
   "outputs": [
    {
     "name": "stdout",
     "output_type": "stream",
     "text": [
      "[12, 34, 45, 5, 667, 78]\n"
     ]
    }
   ],
   "source": [
    "x = [12,34,45,5,667,78]\n",
    "print(x)"
   ]
  },
  {
   "cell_type": "code",
   "execution_count": 24,
   "id": "0fd047ba-bfc7-4189-82b0-d1560d253e4e",
   "metadata": {},
   "outputs": [],
   "source": [
    "# Indexing :- It Extract single charactor from list. \n",
    "#         Types :- postive | Negative\n",
    "# Slicing :- Its Extract the range of charactor from list\n",
    "#         Types :- postive | Negative"
   ]
  },
  {
   "cell_type": "code",
   "execution_count": 34,
   "id": "41920fe3-09c0-459a-a020-c330e6168c99",
   "metadata": {},
   "outputs": [],
   "source": [
    "# How to add the value in list\n",
    "# 1. Insert :- With the help of this fromula we can add the value in list by position\n",
    "# 2. Append :- With the help of this formula we can add the value in last position of list\n",
    "#       (OR) Its add the value in list of position \n",
    "# 3. Extend :- It is used to add the multiple value in a list \n",
    "#      (OR) its combine the two list"
   ]
  },
  {
   "cell_type": "code",
   "execution_count": 26,
   "id": "2c39c934-a90a-4997-b19e-b1b38e9b11ec",
   "metadata": {},
   "outputs": [],
   "source": [
    "# Insert "
   ]
  },
  {
   "cell_type": "code",
   "execution_count": 27,
   "id": "1e5dba72-f552-4047-bfae-3d62e9a3e0be",
   "metadata": {},
   "outputs": [],
   "source": [
    "x.insert(0,'prince')"
   ]
  },
  {
   "cell_type": "code",
   "execution_count": 28,
   "id": "da1c1cf8-9089-4cd3-8c62-e823aea49b58",
   "metadata": {},
   "outputs": [
    {
     "data": {
      "text/plain": [
       "['prince', 12, 34, 45, 5, 667, 78]"
      ]
     },
     "execution_count": 28,
     "metadata": {},
     "output_type": "execute_result"
    }
   ],
   "source": [
    "x"
   ]
  },
  {
   "cell_type": "code",
   "execution_count": 29,
   "id": "18b6dae3-8be5-4f5d-b0f9-be53244198a0",
   "metadata": {},
   "outputs": [],
   "source": [
    "# Add 'Sharma' in last of index in list\n",
    " x.insert(-1,'Sharma')"
   ]
  },
  {
   "cell_type": "code",
   "execution_count": null,
   "id": "a37a48e7-c3ec-4da5-923c-27f05d795628",
   "metadata": {},
   "outputs": [],
   "source": [
    "# Append"
   ]
  },
  {
   "cell_type": "code",
   "execution_count": 31,
   "id": "99330344-24a2-41f2-80b2-0a3138b1cde3",
   "metadata": {},
   "outputs": [],
   "source": [
    "x = [1,2,3,4]"
   ]
  },
  {
   "cell_type": "code",
   "execution_count": 32,
   "id": "616a0100-e889-4111-ae36-cb1c035d4439",
   "metadata": {},
   "outputs": [],
   "source": [
    "x.append('Hii')"
   ]
  },
  {
   "cell_type": "code",
   "execution_count": 33,
   "id": "5583ce9a-912b-43a6-9b2e-577993c16ef8",
   "metadata": {},
   "outputs": [
    {
     "name": "stdout",
     "output_type": "stream",
     "text": [
      "[1, 2, 3, 4, 'Hii']\n"
     ]
    }
   ],
   "source": [
    "print(x)"
   ]
  },
  {
   "cell_type": "code",
   "execution_count": 35,
   "id": "9476e527-a7cc-4b62-934c-08b0eed1b1fa",
   "metadata": {},
   "outputs": [],
   "source": [
    "# Extend "
   ]
  },
  {
   "cell_type": "code",
   "execution_count": 36,
   "id": "1b85d126-233d-4f2e-b75a-7d18dd4e7e9f",
   "metadata": {},
   "outputs": [],
   "source": [
    "x = [1,2,3]"
   ]
  },
  {
   "cell_type": "code",
   "execution_count": 37,
   "id": "b40da0ca-16a7-4f13-af5a-a735ae2d9590",
   "metadata": {},
   "outputs": [],
   "source": [
    "x.extend([23,34,45,56])"
   ]
  },
  {
   "cell_type": "code",
   "execution_count": 38,
   "id": "f308d3f2-4053-40ba-8c98-97a271520993",
   "metadata": {},
   "outputs": [
    {
     "name": "stdout",
     "output_type": "stream",
     "text": [
      "[1, 2, 3, 23, 34, 45, 56]\n"
     ]
    }
   ],
   "source": [
    "print(x)"
   ]
  },
  {
   "cell_type": "code",
   "execution_count": 39,
   "id": "d87c152f-5be9-450c-9ae1-01155a0e6dce",
   "metadata": {},
   "outputs": [],
   "source": [
    "a = ['a','b','c']\n",
    "b = [1,2,3]"
   ]
  },
  {
   "cell_type": "code",
   "execution_count": 40,
   "id": "dc2fb4ad-1904-4d2e-b8a0-194e56f07751",
   "metadata": {},
   "outputs": [],
   "source": [
    "a.extend(b)"
   ]
  },
  {
   "cell_type": "code",
   "execution_count": 41,
   "id": "e9e417a9-e031-4d6a-9083-cdfe91cdafb4",
   "metadata": {},
   "outputs": [
    {
     "name": "stdout",
     "output_type": "stream",
     "text": [
      "['a', 'b', 'c', 1, 2, 3]\n"
     ]
    }
   ],
   "source": [
    "print(a)"
   ]
  },
  {
   "cell_type": "code",
   "execution_count": 42,
   "id": "4f51d313-9be9-4674-b09a-294986aa5183",
   "metadata": {},
   "outputs": [],
   "source": [
    "x = [1,4,3]\n",
    "y = [7,9,8]"
   ]
  },
  {
   "cell_type": "code",
   "execution_count": 43,
   "id": "9049c579-9248-484b-8c7e-5952b97ed050",
   "metadata": {},
   "outputs": [],
   "source": [
    "x+=y"
   ]
  },
  {
   "cell_type": "code",
   "execution_count": 44,
   "id": "af09925e-16ee-4895-867d-61a4a32fc129",
   "metadata": {},
   "outputs": [
    {
     "name": "stdout",
     "output_type": "stream",
     "text": [
      "[1, 4, 3, 7, 9, 8]\n"
     ]
    }
   ],
   "source": [
    "print(x)"
   ]
  },
  {
   "cell_type": "code",
   "execution_count": 45,
   "id": "debe6a8c-1844-4e94-b5a0-1f120cd08b95",
   "metadata": {},
   "outputs": [],
   "source": [
    "x = ['sun','Mon','tue','wed']"
   ]
  },
  {
   "cell_type": "code",
   "execution_count": 46,
   "id": "40828f8f-fc26-480c-8655-1a08de06678f",
   "metadata": {},
   "outputs": [],
   "source": [
    "# 1. Add the 'Thu' last of position\n",
    "# 2. 'Month' in 3rd position\n",
    "# 3. Add 'Fri' and 'Sat' last of index"
   ]
  },
  {
   "cell_type": "code",
   "execution_count": 48,
   "id": "0184ebe1-1f14-481c-86d4-89c5c39b9ed6",
   "metadata": {},
   "outputs": [
    {
     "name": "stdout",
     "output_type": "stream",
     "text": [
      "['sun', 'Mon', 'tue', 'wed', 'Thu', 'Thu']\n"
     ]
    }
   ],
   "source": [
    "x.append('Thu')\n",
    "print(x)"
   ]
  },
  {
   "cell_type": "code",
   "execution_count": 49,
   "id": "b2a20c8b-5ba6-4bbe-98c3-4337b5efb8df",
   "metadata": {},
   "outputs": [],
   "source": [
    "x.insert(4,'Month')"
   ]
  },
  {
   "cell_type": "code",
   "execution_count": 50,
   "id": "dee08c7a-70e7-48fc-adaf-d54983f3d70e",
   "metadata": {},
   "outputs": [
    {
     "data": {
      "text/plain": [
       "['sun', 'Mon', 'tue', 'wed', 'Month', 'Thu', 'Thu']"
      ]
     },
     "execution_count": 50,
     "metadata": {},
     "output_type": "execute_result"
    }
   ],
   "source": [
    "x"
   ]
  },
  {
   "cell_type": "code",
   "execution_count": 51,
   "id": "28be82fb-1203-4ddd-9ec7-2ada6de9ff89",
   "metadata": {},
   "outputs": [
    {
     "name": "stdout",
     "output_type": "stream",
     "text": [
      "['sun', 'Mon', 'tue', 'wed', 'Month', 'Thu', 'Thu', 'Fri', 'sat']\n"
     ]
    }
   ],
   "source": [
    "x.extend(['Fri','sat'])\n",
    "print(x)"
   ]
  },
  {
   "cell_type": "code",
   "execution_count": 57,
   "id": "25b9b4da-9f89-48ec-a4b3-aede22a912db",
   "metadata": {},
   "outputs": [],
   "source": [
    "x = ['Rahul','Krite','Shivam','Mukesh','Deepak','sarthak']"
   ]
  },
  {
   "cell_type": "code",
   "execution_count": 58,
   "id": "25d83250-e72a-4323-bff7-934c4065edc1",
   "metadata": {},
   "outputs": [],
   "source": [
    "# Create a blank list and add value from x whose name containe 'a'"
   ]
  },
  {
   "cell_type": "code",
   "execution_count": 61,
   "id": "e2d5a6a8-f1cf-474f-b65b-2d48ff2e1300",
   "metadata": {},
   "outputs": [],
   "source": [
    "y = []\n",
    "for i in x:\n",
    "    if 'a' in i:\n",
    "        y.append(i)\n",
    "      \n",
    "    \n",
    "        "
   ]
  },
  {
   "cell_type": "raw",
   "id": "56fe046f-33fd-49e6-97b5-3d7d07ca3998",
   "metadata": {},
   "source": [
    "print(y)"
   ]
  },
  {
   "cell_type": "code",
   "execution_count": 62,
   "id": "69463b8d-6b36-4863-83d6-009e8e838bae",
   "metadata": {},
   "outputs": [],
   "source": [
    "x = ['Ink','Air','Jan','Music','Logic']"
   ]
  },
  {
   "cell_type": "code",
   "execution_count": 63,
   "id": "04097494-ec8a-41a2-afa5-3a1c0a073d2f",
   "metadata": {},
   "outputs": [],
   "source": [
    "# Create a new list and add the value whose name contain 'i'"
   ]
  },
  {
   "cell_type": "code",
   "execution_count": 64,
   "id": "9dbde3f6-c9bf-46b3-8591-ffc33f8b92df",
   "metadata": {},
   "outputs": [],
   "source": [
    "n = []\n",
    "for i in x:\n",
    "    if \"i\" in i:\n",
    "        n.append(i)"
   ]
  },
  {
   "cell_type": "code",
   "execution_count": 65,
   "id": "2d9d7f00-f366-4e50-9283-4ff83fd9aac6",
   "metadata": {},
   "outputs": [
    {
     "name": "stdout",
     "output_type": "stream",
     "text": [
      "['Air', 'Music', 'Logic']\n"
     ]
    }
   ],
   "source": [
    "print(n)"
   ]
  },
  {
   "cell_type": "code",
   "execution_count": 66,
   "id": "bfac6465-cda3-4b89-a685-ed9c590e10d2",
   "metadata": {},
   "outputs": [],
   "source": [
    "# Create a new list and add whsoe name contain 'a'"
   ]
  },
  {
   "cell_type": "code",
   "execution_count": 67,
   "id": "37b99381-65d9-4123-94f8-7b2bcc06df4f",
   "metadata": {},
   "outputs": [],
   "source": [
    "t =[]\n",
    "for i in x:\n",
    "    if \"a\" in i:\n",
    "        t.append(i)"
   ]
  },
  {
   "cell_type": "code",
   "execution_count": 68,
   "id": "a990c714-961d-43b0-ada0-770f5a53c9e3",
   "metadata": {},
   "outputs": [
    {
     "name": "stdout",
     "output_type": "stream",
     "text": [
      "['Jan']\n"
     ]
    }
   ],
   "source": [
    "print(t)"
   ]
  },
  {
   "cell_type": "code",
   "execution_count": 69,
   "id": "3559a07d-e1cc-4ede-9dc5-942163ad3ddd",
   "metadata": {},
   "outputs": [],
   "source": [
    "x = [1,2,3]\n",
    "y = [4,5,6]"
   ]
  },
  {
   "cell_type": "code",
   "execution_count": 70,
   "id": "9bfd17b5-7510-4118-9a3e-38c8a2754f94",
   "metadata": {},
   "outputs": [],
   "source": [
    "x = x+y"
   ]
  },
  {
   "cell_type": "code",
   "execution_count": 71,
   "id": "d958296a-2045-4c03-a471-04b7da17a96f",
   "metadata": {},
   "outputs": [
    {
     "name": "stdout",
     "output_type": "stream",
     "text": [
      "[1, 2, 3, 4, 5, 6]\n"
     ]
    }
   ],
   "source": [
    "print(x)"
   ]
  },
  {
   "cell_type": "code",
   "execution_count": 72,
   "id": "1c8f05e0-9202-43eb-b88c-d9b26c430603",
   "metadata": {},
   "outputs": [],
   "source": [
    "# How to Delet the value from the list"
   ]
  },
  {
   "cell_type": "code",
   "execution_count": 90,
   "id": "523e7db3-d350-4fbf-9dc2-7298b931571a",
   "metadata": {},
   "outputs": [],
   "source": [
    "# 1.pop     :- It delete the value by position and delete by default last value from the list \n",
    "# 2. remove : - Its delette the value from list by elements\n",
    "# 3. clear   :- Its delete all value from list\n",
    "# 4. del    :- With the help of this formula we can delete\n",
    "# multiple value at a time with slicing or indexing"
   ]
  },
  {
   "cell_type": "code",
   "execution_count": 75,
   "id": "c9aaa38d-79ae-4018-8a79-d2f2eb21c7df",
   "metadata": {},
   "outputs": [],
   "source": [
    " x = [100,200,300,400,500,600,700,800,900]"
   ]
  },
  {
   "cell_type": "code",
   "execution_count": 76,
   "id": "812ac98b-6272-4c52-8a7c-5d63e3d36e75",
   "metadata": {},
   "outputs": [
    {
     "data": {
      "text/plain": [
       "900"
      ]
     },
     "execution_count": 76,
     "metadata": {},
     "output_type": "execute_result"
    }
   ],
   "source": [
    "x.pop() # last value delete if no rugument pass"
   ]
  },
  {
   "cell_type": "code",
   "execution_count": 77,
   "id": "1e0d97d6-6a22-44f5-9317-c5efb9e7aa7f",
   "metadata": {},
   "outputs": [
    {
     "name": "stdout",
     "output_type": "stream",
     "text": [
      "[100, 200, 300, 400, 500, 600, 700, 800]\n"
     ]
    }
   ],
   "source": [
    "print(x)"
   ]
  },
  {
   "cell_type": "code",
   "execution_count": 78,
   "id": "19ff0475-151c-49e2-a31b-2172bbf30204",
   "metadata": {},
   "outputs": [
    {
     "data": {
      "text/plain": [
       "300"
      ]
     },
     "execution_count": 78,
     "metadata": {},
     "output_type": "execute_result"
    }
   ],
   "source": [
    "x.pop(2)"
   ]
  },
  {
   "cell_type": "code",
   "execution_count": 79,
   "id": "017221a7-7cea-46f8-a5ff-a2ac67d98041",
   "metadata": {},
   "outputs": [
    {
     "name": "stdout",
     "output_type": "stream",
     "text": [
      "[100, 200, 400, 500, 600, 700, 800]\n"
     ]
    }
   ],
   "source": [
    "print(x)"
   ]
  },
  {
   "cell_type": "code",
   "execution_count": 80,
   "id": "1ed5894b-4f61-42c9-8e30-01ad1e1d5fe3",
   "metadata": {},
   "outputs": [],
   "source": [
    "# Remove"
   ]
  },
  {
   "cell_type": "code",
   "execution_count": 81,
   "id": "8792d4fa-37a5-4829-9256-7961218d175b",
   "metadata": {},
   "outputs": [],
   "source": [
    "x.remove(800)"
   ]
  },
  {
   "cell_type": "code",
   "execution_count": 87,
   "id": "6057cc1a-bb6b-40a7-9fbc-ca998df7cfa3",
   "metadata": {},
   "outputs": [],
   "source": [
    "x.remove(400)"
   ]
  },
  {
   "cell_type": "code",
   "execution_count": 88,
   "id": "c6f57d0a-872f-489d-a04e-ca8e9c9dff04",
   "metadata": {},
   "outputs": [
    {
     "name": "stdout",
     "output_type": "stream",
     "text": [
      "[500, 600, 700]\n"
     ]
    }
   ],
   "source": [
    "print(x)"
   ]
  },
  {
   "cell_type": "code",
   "execution_count": 84,
   "id": "1461e352-6ba4-4573-897e-17045af777b3",
   "metadata": {},
   "outputs": [],
   "source": [
    "# del"
   ]
  },
  {
   "cell_type": "code",
   "execution_count": 85,
   "id": "29194d71-4635-4ab2-aa49-4c1299af53bc",
   "metadata": {},
   "outputs": [],
   "source": [
    "del x[0:2]"
   ]
  },
  {
   "cell_type": "code",
   "execution_count": 89,
   "id": "2e1b95a3-4126-4fb7-850e-c6df59567244",
   "metadata": {},
   "outputs": [
    {
     "name": "stdout",
     "output_type": "stream",
     "text": [
      "[500, 600, 700]\n"
     ]
    }
   ],
   "source": [
    "print(x)"
   ]
  },
  {
   "cell_type": "code",
   "execution_count": 91,
   "id": "44743f35-f2e4-4093-bf3b-7a90f0c90a15",
   "metadata": {},
   "outputs": [],
   "source": [
    "# clear :- its delete all value from list"
   ]
  },
  {
   "cell_type": "code",
   "execution_count": 92,
   "id": "20504b94-faf9-4a60-88d1-4831e364d564",
   "metadata": {},
   "outputs": [
    {
     "name": "stdout",
     "output_type": "stream",
     "text": [
      "[500, 600, 700]\n"
     ]
    }
   ],
   "source": [
    "print(x)"
   ]
  },
  {
   "cell_type": "code",
   "execution_count": 93,
   "id": "3dc77d2b-24fe-4194-9f8d-56883279ff4c",
   "metadata": {},
   "outputs": [],
   "source": [
    "x.clear()"
   ]
  },
  {
   "cell_type": "code",
   "execution_count": 94,
   "id": "f6ff3ac0-a6ae-40da-a85e-c051277101cb",
   "metadata": {},
   "outputs": [
    {
     "name": "stdout",
     "output_type": "stream",
     "text": [
      "[]\n"
     ]
    }
   ],
   "source": [
    "print(x)"
   ]
  },
  {
   "cell_type": "code",
   "execution_count": 95,
   "id": "99791555-274c-47cc-ac1b-82f6200bc75a",
   "metadata": {},
   "outputs": [],
   "source": [
    "x = [1,2,3,3,2,1,2,3,1,2,2]"
   ]
  },
  {
   "cell_type": "code",
   "execution_count": 96,
   "id": "984fd6ea-c4f7-4078-aecd-d7ff660ce1e4",
   "metadata": {},
   "outputs": [],
   "source": [
    "# delete all 2 from x"
   ]
  },
  {
   "cell_type": "code",
   "execution_count": 103,
   "id": "b85bbbf1-5f1a-4089-9363-3e161a8dfe7a",
   "metadata": {},
   "outputs": [],
   "source": [
    "for i in x:\n",
    "    if i==2:\n",
    "        x.remove(i)"
   ]
  },
  {
   "cell_type": "code",
   "execution_count": 104,
   "id": "f17c229e-0ace-4f98-8ab5-92ff9c5b856e",
   "metadata": {},
   "outputs": [
    {
     "name": "stdout",
     "output_type": "stream",
     "text": [
      "[1, 3, 3, 1, 3, 1, 2]\n"
     ]
    }
   ],
   "source": [
    "print(x)"
   ]
  },
  {
   "cell_type": "code",
   "execution_count": 100,
   "id": "43dfc41a-cc76-4bc5-a60a-b14196923563",
   "metadata": {},
   "outputs": [],
   "source": [
    "# delete the first 2 elements from the lsit"
   ]
  },
  {
   "cell_type": "code",
   "execution_count": 105,
   "id": "35df3b17-c96c-4149-858d-c408d80ea12c",
   "metadata": {},
   "outputs": [
    {
     "name": "stdout",
     "output_type": "stream",
     "text": [
      "[3, 1, 3, 1, 2]\n"
     ]
    }
   ],
   "source": [
    "del x [0:2]\n",
    "print(x)"
   ]
  },
  {
   "cell_type": "code",
   "execution_count": 101,
   "id": "874daac1-6897-42d8-859a-76deda1d9891",
   "metadata": {},
   "outputs": [],
   "source": [
    "# Delete the last value from list"
   ]
  },
  {
   "cell_type": "code",
   "execution_count": 106,
   "id": "59fc6686-b213-42d1-a7f4-3166c7a5d81b",
   "metadata": {},
   "outputs": [
    {
     "data": {
      "text/plain": [
       "2"
      ]
     },
     "execution_count": 106,
     "metadata": {},
     "output_type": "execute_result"
    }
   ],
   "source": [
    "x.pop()"
   ]
  },
  {
   "cell_type": "code",
   "execution_count": 102,
   "id": "981599da-f6e9-43ad-8015-6dec22f44b4e",
   "metadata": {},
   "outputs": [],
   "source": [
    "# delete all value from list"
   ]
  },
  {
   "cell_type": "code",
   "execution_count": 107,
   "id": "4f8a0ff9-4f01-4ddb-aa2a-ecf1aaabf894",
   "metadata": {},
   "outputs": [],
   "source": [
    "x = [1,2,3,3,2,1,2,3,1,2,2]"
   ]
  },
  {
   "cell_type": "code",
   "execution_count": 108,
   "id": "b68bdc8c-091f-4ad5-b87c-ffbd06ddb1e2",
   "metadata": {},
   "outputs": [],
   "source": [
    "# copy () :- its copy the elements of variable"
   ]
  },
  {
   "cell_type": "code",
   "execution_count": 110,
   "id": "aa22cfa0-650a-4cb6-ae3f-f5108e987d1e",
   "metadata": {},
   "outputs": [],
   "source": [
    "y = x.copy()\n",
    "x.clear()\n",
    "for i in y:\n",
    "    if i!=2:\n",
    "        x.append(i)"
   ]
  },
  {
   "cell_type": "code",
   "execution_count": 111,
   "id": "700a604f-b517-42af-acff-c522b67f1e8d",
   "metadata": {},
   "outputs": [
    {
     "name": "stdout",
     "output_type": "stream",
     "text": [
      "[1, 3, 3, 1, 3, 1]\n"
     ]
    }
   ],
   "source": [
    "print(x)"
   ]
  },
  {
   "cell_type": "code",
   "execution_count": 112,
   "id": "eb2bc81c-7085-445b-adce-b4b8507965ec",
   "metadata": {},
   "outputs": [],
   "source": [
    "for i in x:\n",
    "    x.remove(1)"
   ]
  },
  {
   "cell_type": "code",
   "execution_count": 113,
   "id": "6ae97c8d-395f-4a36-a19b-c761f5273709",
   "metadata": {},
   "outputs": [
    {
     "name": "stdout",
     "output_type": "stream",
     "text": [
      "[3, 3, 3]\n"
     ]
    }
   ],
   "source": [
    "print(x)"
   ]
  },
  {
   "cell_type": "code",
   "execution_count": 114,
   "id": "71ee28e4-d582-4cf4-8ff4-899a962d0b57",
   "metadata": {},
   "outputs": [],
   "source": [
    "x = [1,2,3,4,5,6,7,8,9]"
   ]
  },
  {
   "cell_type": "code",
   "execution_count": 115,
   "id": "f6a07ae1-ff83-4d4c-9e6e-d20391b3701d",
   "metadata": {},
   "outputs": [],
   "source": [
    "# Delete all even number from x"
   ]
  },
  {
   "cell_type": "code",
   "execution_count": 116,
   "id": "2a8d4379-ccee-4f5b-a51a-79e2793ba0f3",
   "metadata": {},
   "outputs": [],
   "source": [
    "for i in x:\n",
    "    if i%2 ==0:\n",
    "        x.remove(i)"
   ]
  },
  {
   "cell_type": "code",
   "execution_count": 117,
   "id": "3a3420e6-ae7e-4e27-b1ed-55c2d57ee19e",
   "metadata": {},
   "outputs": [
    {
     "name": "stdout",
     "output_type": "stream",
     "text": [
      "[1, 3, 5, 7, 9]\n"
     ]
    }
   ],
   "source": [
    "print(x)"
   ]
  },
  {
   "cell_type": "code",
   "execution_count": null,
   "id": "1285eb0a-f142-46f2-b93d-d0e235cdd4ad",
   "metadata": {},
   "outputs": [],
   "source": []
  }
 ],
 "metadata": {
  "kernelspec": {
   "display_name": "Python 3 (ipykernel)",
   "language": "python",
   "name": "python3"
  },
  "language_info": {
   "codemirror_mode": {
    "name": "ipython",
    "version": 3
   },
   "file_extension": ".py",
   "mimetype": "text/x-python",
   "name": "python",
   "nbconvert_exporter": "python",
   "pygments_lexer": "ipython3",
   "version": "3.12.4"
  }
 },
 "nbformat": 4,
 "nbformat_minor": 5
}
