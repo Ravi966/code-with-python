{
 "cells": [
  {
   "cell_type": "markdown",
   "id": "b5edcff1-ae06-4a0d-8568-f854415e04b9",
   "metadata": {},
   "source": [
    "#### What are Args and Kwargs ?\n",
    "* In python,args and kwargs are special syntax used in function definitions.\n",
    "* Args allows passing a variable number of non-keyword arguments to a fucntion.\n",
    "* Kwargs allows passing a vairable number of keyword arguments to a fucntion."
   ]
  },
  {
   "cell_type": "code",
   "execution_count": 6,
   "id": "ce44d2c3-21c6-4d62-b04f-223168afc0e4",
   "metadata": {},
   "outputs": [],
   "source": [
    "# *Args"
   ]
  },
  {
   "cell_type": "code",
   "execution_count": 10,
   "id": "3934c41a-bb13-4950-9cc7-6890c9ef891d",
   "metadata": {},
   "outputs": [
    {
     "data": {
      "text/plain": [
       "' A perameter  is the variable listed inside the parentheses in the function\\ndefinition.\\nAn argument is the value that is sent to the function when it is two argument.\\n\\n\\n# Number of arguments\\nBy default , a function must be called with the correct number of arguments.\\nMeaning that if your functione expects two argument, you have to call he function\\nwith argument,no more ,and not less\\n\\n\\n# Arbitatry arguments, *args\\nIf you do not know how many arguments that will be passed into your function,\\nadd astrick * before the perameter name in the function definition.\\n\\nThis way the function will receive a tuple of arguments, and can access the \\nitem in the index:\\n'"
      ]
     },
     "execution_count": 10,
     "metadata": {},
     "output_type": "execute_result"
    }
   ],
   "source": [
    "# From a functions to perspsctive:\n",
    "''' A perameter  is the variable listed inside the parentheses in the function\n",
    "definition.\n",
    "An argument is the value that is sent to the function when it is two argument.\n",
    "\n",
    "\n",
    "# Number of arguments\n",
    "By default , a function must be called with the correct number of arguments.\n",
    "Meaning that if your functione expects two argument, you have to call he function\n",
    "with argument,no more ,and not less\n",
    "\n",
    "\n",
    "# Arbitatry arguments, *args\n",
    "If you do not know how many arguments that will be passed into your function,\n",
    "add astrick * before the perameter name in the function definition.\n",
    "\n",
    "This way the function will receive a tuple of arguments, and can access the \n",
    "item in the index:\n",
    "'''"
   ]
  },
  {
   "cell_type": "code",
   "execution_count": 11,
   "id": "d8fd87d1-a414-487a-b1f6-58f9d8b98944",
   "metadata": {},
   "outputs": [],
   "source": [
    "# Arbitatry arguments (*Args)\n",
    "def x(*name):\n",
    "    print('i am a good',name[1])\n",
    "    print('i am ',name[0])\n",
    "    print('Hello dear',name[5])\n",
    "    print('Good morning',name[3])\n",
    "    print('I am indian my name is ',name[2])\n",
    "    print('sita is a friend of ',name[1])"
   ]
  },
  {
   "cell_type": "code",
   "execution_count": 12,
   "id": "24d7ac0f-770b-4a8f-87d1-20032e09de7f",
   "metadata": {},
   "outputs": [
    {
     "name": "stdout",
     "output_type": "stream",
     "text": [
      "i am a good Mukesh\n",
      "i am  Prince\n",
      "Hello dear Priyanshu\n",
      "Good morning Rani\n",
      "I am indian my name is  Ankit\n",
      "sita is a friend of  Mukesh\n"
     ]
    }
   ],
   "source": [
    "x('Prince','Mukesh','Ankit','Rani','Riya','Priyanshu','Ankita','Manu')"
   ]
  },
  {
   "cell_type": "code",
   "execution_count": null,
   "id": "cac3e53f-6c50-4cc7-aee2-b2bece057452",
   "metadata": {},
   "outputs": [],
   "source": []
  },
  {
   "cell_type": "code",
   "execution_count": 13,
   "id": "b75e7d70-2f08-47e6-bfec-f3b5e49b26b9",
   "metadata": {},
   "outputs": [],
   "source": [
    "# **Kwargs"
   ]
  },
  {
   "cell_type": "markdown",
   "id": "fd9aa8d6-a706-4a68-bcbc-f2e75c6285b0",
   "metadata": {},
   "source": [
    "### Keyword Arbitatry Arguments (**kwargs)\n",
    "* if you do not know how many arguments that will be passed into your\n",
    "* function, add two astrisk ** before the parameter name in the function definition.\n",
    "\n",
    "* This way the funciton will receive a dictionary of arguments, and can acess the times accordingly\n",
    "\n",
    "* If the number of keyword argrumnets is known,add a double **before the peramter name"
   ]
  },
  {
   "cell_type": "code",
   "execution_count": 18,
   "id": "b4083566-8058-440b-8db8-f66dd3528c97",
   "metadata": {},
   "outputs": [],
   "source": [
    "def x(**a):\n",
    "    print(\"My name is\",a['name'])\n",
    "    print('I study in class',a['Class'])\n",
    "    print('My age is ',a['Age'],'year')"
   ]
  },
  {
   "cell_type": "code",
   "execution_count": 19,
   "id": "c4564621-6f66-479f-a989-1a51f9ef6332",
   "metadata": {},
   "outputs": [
    {
     "name": "stdout",
     "output_type": "stream",
     "text": [
      "My name is prince\n",
      "I study in class Xth\n",
      "My age is  20 year\n"
     ]
    }
   ],
   "source": [
    "x(name='prince',Age=20,Class='Xth')"
   ]
  },
  {
   "cell_type": "code",
   "execution_count": null,
   "id": "16e7cb87-cb09-483a-875d-ed0272264507",
   "metadata": {},
   "outputs": [],
   "source": []
  },
  {
   "cell_type": "code",
   "execution_count": 20,
   "id": "0df56d35-0743-4144-b555-b9dfc75e0a9d",
   "metadata": {},
   "outputs": [],
   "source": [
    "# Create a function to show the first and last elements from the text"
   ]
  },
  {
   "cell_type": "code",
   "execution_count": 25,
   "id": "17b0c7ab-f7e5-48b7-ba00-39be9df0be6f",
   "metadata": {},
   "outputs": [],
   "source": [
    "x = ['Delhi']"
   ]
  },
  {
   "cell_type": "code",
   "execution_count": null,
   "id": "46fe7047-dc3f-4d7b-8ab4-5e318e5fb394",
   "metadata": {},
   "outputs": [],
   "source": []
  },
  {
   "cell_type": "code",
   "execution_count": 43,
   "id": "eefc72cf-7859-48b6-9b62-ea1742bbe3e4",
   "metadata": {},
   "outputs": [],
   "source": [
    "def fl(x):\n",
    "    t = x[0]+x[-1]\n",
    "    return t.upper()"
   ]
  },
  {
   "cell_type": "code",
   "execution_count": 44,
   "id": "0eaf44f7-e8e1-481e-a7b3-14cb227ee59f",
   "metadata": {},
   "outputs": [
    {
     "data": {
      "text/plain": [
       "'PE'"
      ]
     },
     "execution_count": 44,
     "metadata": {},
     "output_type": "execute_result"
    }
   ],
   "source": [
    "fl('prince')"
   ]
  },
  {
   "cell_type": "code",
   "execution_count": 46,
   "id": "e41b9e5e-6ac8-403b-9e2f-53f65a879304",
   "metadata": {},
   "outputs": [],
   "source": [
    "# Create a fucntion to show the index number of all even number from the list"
   ]
  },
  {
   "cell_type": "code",
   "execution_count": 47,
   "id": "a409a4df-8039-44f6-93fe-2909a2caf92a",
   "metadata": {},
   "outputs": [],
   "source": [
    "x = [1,2,3,5,63,5,6]"
   ]
  },
  {
   "cell_type": "code",
   "execution_count": 65,
   "id": "bb795b94-b87d-460f-a2f0-72ef0637eca8",
   "metadata": {},
   "outputs": [],
   "source": [
    "def ind(x):\n",
    "    for i in x:\n",
    "        if i%2 ==0:\n",
    "            a = x.index(i)\n",
    "            print(a,end=\" \")\n",
    "    "
   ]
  },
  {
   "cell_type": "code",
   "execution_count": null,
   "id": "e89ee435-5f12-4f67-b222-bd28fe283ebd",
   "metadata": {},
   "outputs": [],
   "source": []
  },
  {
   "cell_type": "code",
   "execution_count": 66,
   "id": "0cbda881-0751-4931-b206-9741a8c41094",
   "metadata": {},
   "outputs": [
    {
     "name": "stdout",
     "output_type": "stream",
     "text": [
      "1 6 "
     ]
    }
   ],
   "source": [
    "ind(x)"
   ]
  },
  {
   "cell_type": "code",
   "execution_count": 67,
   "id": "a207878d-14cb-4c27-90e9-c086c513d740",
   "metadata": {},
   "outputs": [],
   "source": [
    "# Zip Fucntion\n",
    "# Lambda Fucntion"
   ]
  },
  {
   "cell_type": "code",
   "execution_count": 68,
   "id": "db8cf7a3-b051-4377-9c11-59b1bbfce1f6",
   "metadata": {},
   "outputs": [],
   "source": [
    "# Example:"
   ]
  },
  {
   "cell_type": "code",
   "execution_count": 70,
   "id": "49061fa6-36fd-4f1e-9086-e7e39c86c787",
   "metadata": {},
   "outputs": [],
   "source": [
    "sum = lambda x,y: x+y"
   ]
  },
  {
   "cell_type": "code",
   "execution_count": 71,
   "id": "fd4cf017-2b89-4729-a823-766d7f74e98e",
   "metadata": {},
   "outputs": [
    {
     "name": "stdout",
     "output_type": "stream",
     "text": [
      "7\n"
     ]
    }
   ],
   "source": [
    "print(sum(3,4))"
   ]
  },
  {
   "cell_type": "code",
   "execution_count": null,
   "id": "f92ce2d9-0127-46b5-8a4b-684c14ba29cd",
   "metadata": {},
   "outputs": [],
   "source": []
  }
 ],
 "metadata": {
  "kernelspec": {
   "display_name": "Python 3 (ipykernel)",
   "language": "python",
   "name": "python3"
  },
  "language_info": {
   "codemirror_mode": {
    "name": "ipython",
    "version": 3
   },
   "file_extension": ".py",
   "mimetype": "text/x-python",
   "name": "python",
   "nbconvert_exporter": "python",
   "pygments_lexer": "ipython3",
   "version": "3.12.4"
  }
 },
 "nbformat": 4,
 "nbformat_minor": 5
}
