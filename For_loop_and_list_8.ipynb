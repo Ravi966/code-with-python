{
 "cells": [
  {
   "cell_type": "code",
   "execution_count": 91,
   "id": "d008ea7d-18e6-4d7e-b709-735ec964e855",
   "metadata": {},
   "outputs": [],
   "source": [
    "# Write a python program to count total number of leap year from 1947 to 2025"
   ]
  },
  {
   "cell_type": "code",
   "execution_count": 92,
   "id": "45e93b40-b45c-4489-baae-8b8057d77404",
   "metadata": {},
   "outputs": [
    {
     "name": "stdout",
     "output_type": "stream",
     "text": [
      "1948 is leap year\n",
      "1952 is leap year\n",
      "1956 is leap year\n",
      "1960 is leap year\n",
      "1964 is leap year\n",
      "1968 is leap year\n",
      "1972 is leap year\n",
      "1976 is leap year\n",
      "1980 is leap year\n",
      "1984 is leap year\n",
      "1988 is leap year\n",
      "1992 is leap year\n",
      "1996 is leap year\n",
      "2000 is leap year\n",
      "2004 is leap year\n",
      "2008 is leap year\n",
      "2012 is leap year\n",
      "2016 is leap year\n",
      "2020 is leap year\n",
      "2024 is leap year\n"
     ]
    }
   ],
   "source": [
    "for i in range(1947,2025):\n",
    "    if i%4 ==0:\n",
    "        print(i,'is leap year')"
   ]
  },
  {
   "cell_type": "code",
   "execution_count": 93,
   "id": "d53b4c42-88b2-4cea-a027-6dc0a5e2177e",
   "metadata": {},
   "outputs": [],
   "source": [
    "x = 'plr3i5n@c-e $s!h5a4r)m^a'"
   ]
  },
  {
   "cell_type": "code",
   "execution_count": 94,
   "id": "82b38991-9e89-4022-9596-77f890d529fc",
   "metadata": {},
   "outputs": [],
   "source": [
    "# 1. Extract all number from x"
   ]
  },
  {
   "cell_type": "code",
   "execution_count": 95,
   "id": "9e8ff3dc-2709-4618-9972-dcb41b4deb02",
   "metadata": {},
   "outputs": [
    {
     "name": "stdout",
     "output_type": "stream",
     "text": [
      "3554\n"
     ]
    }
   ],
   "source": [
    "n = \"\"\n",
    "for i in x:\n",
    "    if i.isnumeric():\n",
    "        n = n + i\n",
    "print(n)"
   ]
  },
  {
   "cell_type": "code",
   "execution_count": 96,
   "id": "72d534d2-46c8-4506-8625-92fcd95881b8",
   "metadata": {},
   "outputs": [],
   "source": [
    "# 2. Extract all text in a variable"
   ]
  },
  {
   "cell_type": "code",
   "execution_count": 97,
   "id": "940c1604-e548-4372-ae22-c8479b4a0a61",
   "metadata": {},
   "outputs": [
    {
     "name": "stdout",
     "output_type": "stream",
     "text": [
      "plrince sharma\n"
     ]
    }
   ],
   "source": [
    "t =\"\"\n",
    "for i in x:\n",
    "    if i.isalpha() or i.isspace():\n",
    "        t = t + i\n",
    "print(t)"
   ]
  },
  {
   "cell_type": "code",
   "execution_count": 98,
   "id": "7ca20925-367c-4998-89a9-8474802fbf42",
   "metadata": {},
   "outputs": [],
   "source": [
    "# 3. Count total number of special charactor"
   ]
  },
  {
   "cell_type": "code",
   "execution_count": 99,
   "id": "89ad1fdf-255f-4dba-9c9f-99198695777e",
   "metadata": {},
   "outputs": [
    {
     "name": "stdout",
     "output_type": "stream",
     "text": [
      "7\n"
     ]
    }
   ],
   "source": [
    "x = 'plr3i5n@c-e $s!h5a4r)m^a'\n",
    "c = 0\n",
    "for i in x:\n",
    "    if i.isalnum():\n",
    "        continue\n",
    "    else:\n",
    "        c = c+1\n",
    "print(c)"
   ]
  },
  {
   "cell_type": "code",
   "execution_count": 100,
   "id": "eed3165f-536b-434f-8352-272b29620b68",
   "metadata": {},
   "outputs": [],
   "source": [
    "# 4. Count Total number from text"
   ]
  },
  {
   "cell_type": "code",
   "execution_count": 101,
   "id": "72a82995-192c-4f07-a848-3d6b4f1d0feb",
   "metadata": {},
   "outputs": [
    {
     "name": "stdout",
     "output_type": "stream",
     "text": [
      "13\n"
     ]
    }
   ],
   "source": [
    "x = 'plr3i5n@c-e $s!h5a4r)m^a'\n",
    "c_t = 0\n",
    "for i in x:\n",
    "    if i.isalpha():\n",
    "       c_t+=1\n",
    "print(c_t)"
   ]
  },
  {
   "cell_type": "code",
   "execution_count": 102,
   "id": "4b73057a-1be8-46d7-93be-291a0c7e5b57",
   "metadata": {},
   "outputs": [],
   "source": [
    "x = 'Delhi'\n",
    "# Reverse this text with the help of a loop"
   ]
  },
  {
   "cell_type": "code",
   "execution_count": 103,
   "id": "0fd5154f-62d0-4748-ab8c-be7c7cbf5f57",
   "metadata": {},
   "outputs": [
    {
     "name": "stdout",
     "output_type": "stream",
     "text": [
      "ihleD"
     ]
    }
   ],
   "source": [
    "for i in range(len(x)-1,-1,-1):\n",
    "    print(x[i],end=\"\")"
   ]
  },
  {
   "cell_type": "code",
   "execution_count": 108,
   "id": "7b06ae73-8737-4af6-9e9d-502f89877402",
   "metadata": {},
   "outputs": [],
   "source": [
    "# 1. Capitalize the alternate text"
   ]
  },
  {
   "cell_type": "code",
   "execution_count": 111,
   "id": "a7a03f15-9460-4f99-8eec-d858296bc8f6",
   "metadata": {},
   "outputs": [
    {
     "name": "stdout",
     "output_type": "stream",
     "text": [
      "HiMaChAl pRaDeSh\n"
     ]
    }
   ],
   "source": [
    "x = 'himachal pradesh'\n",
    "y = \"\"\n",
    "for i in range(len(x)):\n",
    "    if i%2 ==1:\n",
    "        y+=x[i].lower()\n",
    "    else:\n",
    "        y+=x[i].upper()\n",
    "print(y)"
   ]
  },
  {
   "cell_type": "code",
   "execution_count": null,
   "id": "6cc9930b-0c33-4fbc-b148-f2d15515716b",
   "metadata": {},
   "outputs": [],
   "source": []
  },
  {
   "cell_type": "code",
   "execution_count": 112,
   "id": "f591df41-43cb-48ed-b2f1-f32600798378",
   "metadata": {},
   "outputs": [],
   "source": [
    "# # Data Type\n",
    "# 1. Numerical :- [int,float,complex]\n",
    "# 2. Text      :- [Str]\n",
    "# 3. Sequence  :- [List,tuple,range()]\n",
    "# 4. Mapping   : -[Dictionry]\n",
    "# 5. Set       :- [Set]\n",
    "# 6. Boolean   :- [True,False]\n",
    "# 7. None      :- [None]\n",
    "# 8. Binary Data :- [001010101]"
   ]
  },
  {
   "cell_type": "markdown",
   "id": "f1f8e9cb-b080-4f6c-8f1d-b74e8585813c",
   "metadata": {},
   "source": [
    "#### List :- List are used to store the multiple values in a single variable and its is written in Square Bracket\n",
    "1. List Written in square bracket.\n",
    "2. List are mutable or changable.\n",
    "3. list are ordered.\n",
    "4. list are indexed.\n",
    "5. list allow duplicate value.\n",
    "6. list support mutiple type of data."
   ]
  },
  {
   "cell_type": "code",
   "execution_count": 116,
   "id": "f0301cac-9c09-4c7a-a1f4-7019334e1c3f",
   "metadata": {},
   "outputs": [
    {
     "name": "stdout",
     "output_type": "stream",
     "text": [
      "[1, 2, 3, 4, 5]\n",
      "5\n",
      "<class 'list'>\n"
     ]
    }
   ],
   "source": [
    "x = [1,2,3,4,5]\n",
    "print(x)\n",
    "print(len(x))\n",
    "print(type(x))"
   ]
  },
  {
   "cell_type": "code",
   "execution_count": 117,
   "id": "349df519-3391-41e5-b189-2c9b1dd8cc81",
   "metadata": {},
   "outputs": [],
   "source": [
    "# How to Create a Blank List"
   ]
  },
  {
   "cell_type": "code",
   "execution_count": 118,
   "id": "69b2c2ab-820e-4070-80a3-6657ee27bd56",
   "metadata": {},
   "outputs": [
    {
     "name": "stdout",
     "output_type": "stream",
     "text": [
      "[]\n"
     ]
    }
   ],
   "source": [
    "x = []\n",
    "print(x)"
   ]
  },
  {
   "cell_type": "code",
   "execution_count": 119,
   "id": "64c890af-ade2-4c11-ba42-56f0cfa13928",
   "metadata": {},
   "outputs": [],
   "source": [
    "# (OR)"
   ]
  },
  {
   "cell_type": "code",
   "execution_count": 120,
   "id": "cfbedf2d-ebb3-47b5-b954-17ee99245efa",
   "metadata": {},
   "outputs": [
    {
     "name": "stdout",
     "output_type": "stream",
     "text": [
      "[]\n",
      "<class 'list'>\n"
     ]
    }
   ],
   "source": [
    "x = list()\n",
    "print(x)\n",
    "print(type(x))"
   ]
  },
  {
   "cell_type": "code",
   "execution_count": 121,
   "id": "040b3ce9-b9ab-405c-b4d3-a561599bf2a0",
   "metadata": {},
   "outputs": [],
   "source": [
    "# list allow multipole data type value."
   ]
  },
  {
   "cell_type": "code",
   "execution_count": 128,
   "id": "b0683908-51d6-40ab-9af9-3789c39b4396",
   "metadata": {},
   "outputs": [],
   "source": [
    "x = [1,2.3,3256j,'Analyst',True,None]"
   ]
  },
  {
   "cell_type": "code",
   "execution_count": 129,
   "id": "feaefbc6-beab-4748-8d05-aadf24b0e0fd",
   "metadata": {},
   "outputs": [
    {
     "name": "stdout",
     "output_type": "stream",
     "text": [
      "[1, 2.3, 3256j, 'Analyst', True, None]\n",
      "Length 6\n",
      "<class 'list'>\n"
     ]
    }
   ],
   "source": [
    "print(x)\n",
    "print('Length',len(x))\n",
    "print(type(x))"
   ]
  },
  {
   "cell_type": "code",
   "execution_count": 156,
   "id": "ddffa893-6be5-4574-b117-af3b4852ec74",
   "metadata": {},
   "outputs": [],
   "source": [
    "x = [1,'Tuesday',2,'Monday',3,4,'Sunday']"
   ]
  },
  {
   "cell_type": "code",
   "execution_count": 157,
   "id": "947c501a-8b1b-4fa0-a78a-8b0b8cd1dc6d",
   "metadata": {},
   "outputs": [],
   "source": [
    "# Extract all text data from x\n",
    "# Extract all number from x\n"
   ]
  },
  {
   "cell_type": "code",
   "execution_count": 158,
   "id": "2bcb4ffc-8473-4b21-bf5f-89122a71b93e",
   "metadata": {},
   "outputs": [
    {
     "name": "stdout",
     "output_type": "stream",
     "text": [
      "Tuesday\n",
      "Monday\n",
      "Sunday\n"
     ]
    }
   ],
   "source": [
    "for i in x:\n",
    "    if type(i)==str:\n",
    "        print(i)"
   ]
  },
  {
   "cell_type": "code",
   "execution_count": 153,
   "id": "f915ba19-470b-4260-b135-87e94550e2bc",
   "metadata": {},
   "outputs": [
    {
     "name": "stdout",
     "output_type": "stream",
     "text": [
      "1\n",
      "2\n",
      "3\n",
      "4\n"
     ]
    }
   ],
   "source": [
    "x = [1,'Tuesday',2,'Monday',3,4,'Sunday']\n",
    "for i in x:\n",
    "    if type(i)==int:\n",
    "        print(i)"
   ]
  },
  {
   "cell_type": "code",
   "execution_count": 159,
   "id": "d81bfdef-afe2-415f-bcc9-ed120975c803",
   "metadata": {},
   "outputs": [],
   "source": [
    "x = [12,34,45,5,5,6,7,5]"
   ]
  },
  {
   "cell_type": "code",
   "execution_count": 161,
   "id": "ebd9ee42-78f4-490f-b35c-32009c7aa817",
   "metadata": {},
   "outputs": [
    {
     "name": "stdout",
     "output_type": "stream",
     "text": [
      "12\n"
     ]
    }
   ],
   "source": [
    "for i in x:\n",
    "    if i%4 ==0:\n",
    "        print(i)"
   ]
  },
  {
   "cell_type": "code",
   "execution_count": 162,
   "id": "859f1e63-9dea-4a4b-9fdb-7f4fac248cd3",
   "metadata": {},
   "outputs": [],
   "source": [
    "# List are indexed\n",
    "# List are ordered\n",
    "# List are changable"
   ]
  },
  {
   "cell_type": "code",
   "execution_count": 185,
   "id": "11be85a2-75b6-4966-bb12-71cf8f74d45f",
   "metadata": {},
   "outputs": [],
   "source": [
    "x = ['One','Two','Three','Four','Five']"
   ]
  },
  {
   "cell_type": "code",
   "execution_count": 164,
   "id": "528bbb9e-d649-4ec4-850c-298ef1825343",
   "metadata": {},
   "outputs": [],
   "source": [
    "# Extract the first three value from list"
   ]
  },
  {
   "cell_type": "code",
   "execution_count": 168,
   "id": "a0381c53-36e8-4dc1-83de-11b7ae28e1b5",
   "metadata": {},
   "outputs": [
    {
     "name": "stdout",
     "output_type": "stream",
     "text": [
      "['One', 'Two', 'Three']\n"
     ]
    }
   ],
   "source": [
    "print(x[0:3])"
   ]
  },
  {
   "cell_type": "code",
   "execution_count": 165,
   "id": "04f2a714-38bd-423b-8fda-1c1344101fe4",
   "metadata": {},
   "outputs": [],
   "source": [
    "# Extract the last two value from list"
   ]
  },
  {
   "cell_type": "code",
   "execution_count": 171,
   "id": "910dd9b9-08c7-47a3-b848-82188b2a5d65",
   "metadata": {},
   "outputs": [
    {
     "name": "stdout",
     "output_type": "stream",
     "text": [
      "['Four', 'Five']\n"
     ]
    }
   ],
   "source": [
    "print(x[-2:])"
   ]
  },
  {
   "cell_type": "code",
   "execution_count": 172,
   "id": "884fd2f7-c0d7-4026-a1f4-7c8d04d024da",
   "metadata": {},
   "outputs": [],
   "source": [
    "# Extract ['Four','Three'] from list"
   ]
  },
  {
   "cell_type": "code",
   "execution_count": 186,
   "id": "932fe1dd-1180-4314-9be8-d8eef369b5ed",
   "metadata": {},
   "outputs": [
    {
     "name": "stdout",
     "output_type": "stream",
     "text": [
      "['Four', 'Three']\n"
     ]
    }
   ],
   "source": [
    "print(x[-2:-4:-1])"
   ]
  },
  {
   "cell_type": "code",
   "execution_count": null,
   "id": "c78c73e0-4eb1-488c-a80f-04a7b248e3d5",
   "metadata": {},
   "outputs": [],
   "source": []
  }
 ],
 "metadata": {
  "kernelspec": {
   "display_name": "Python 3 (ipykernel)",
   "language": "python",
   "name": "python3"
  },
  "language_info": {
   "codemirror_mode": {
    "name": "ipython",
    "version": 3
   },
   "file_extension": ".py",
   "mimetype": "text/x-python",
   "name": "python",
   "nbconvert_exporter": "python",
   "pygments_lexer": "ipython3",
   "version": "3.12.4"
  }
 },
 "nbformat": 4,
 "nbformat_minor": 5
}
