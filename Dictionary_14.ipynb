{
 "cells": [
  {
   "cell_type": "code",
   "execution_count": 1,
   "id": "b4c0e6f9-309b-4db4-8c34-b6801b6b92e6",
   "metadata": {},
   "outputs": [],
   "source": [
    "# Dictionary"
   ]
  },
  {
   "cell_type": "code",
   "execution_count": 3,
   "id": "0eacfc5d-aedb-415c-bb12-08eaaede6e6f",
   "metadata": {
    "jp-MarkdownHeadingCollapsed": true
   },
   "outputs": [],
   "source": [
    "# List                            Tuple                         Set                           Dictionary\n",
    "# 1. []                           ()                            {}                            {}\n",
    "# 2. Ordered                      Ordered                       Un -Ordered                   Ordered\n",
    "# 3. Changeable                   Un -Changeable               Changeable                  Changeable\n",
    "# 4. Allow Duplicate value        Allow duplicate value         Not allow duplicate value     Not allow duplicate value\n",
    "# 5. Indexed                      Indexed                       Not Indexed                   Not-Indexed\n",
    "# 6. Allow Multiple data types    Allow Multiple data types     Allow Multiple data types     Allow Multiple data types\n",
    "# 7. Val                          val                           val                           Key and value"
   ]
  },
  {
   "cell_type": "code",
   "execution_count": null,
   "id": "0774ee1f-b0da-420b-9368-8efb1d15d14e",
   "metadata": {},
   "outputs": [],
   "source": []
  },
  {
   "cell_type": "code",
   "execution_count": 4,
   "id": "47dc5638-7add-46da-a358-814a5c6f0989",
   "metadata": {},
   "outputs": [],
   "source": [
    "# Dictionary is a collection of Non- reptitavie pair of keys and value. \n",
    "# It is written in curly bracket."
   ]
  },
  {
   "cell_type": "code",
   "execution_count": 5,
   "id": "4d488535-8c59-46e7-81d4-1217d5bd5a7f",
   "metadata": {},
   "outputs": [],
   "source": [
    "# How to create a blank dictionary"
   ]
  },
  {
   "cell_type": "code",
   "execution_count": 12,
   "id": "9ef14e25-1477-4361-bf52-92c5c60e05a4",
   "metadata": {},
   "outputs": [],
   "source": [
    "dic = {}\n",
    "# Or-----------------\n",
    "dic = dict()"
   ]
  },
  {
   "cell_type": "code",
   "execution_count": 13,
   "id": "1738f02c-3a23-4a24-b40a-dbdca7804dcf",
   "metadata": {},
   "outputs": [
    {
     "name": "stdout",
     "output_type": "stream",
     "text": [
      "<class 'dict'>\n",
      "{}\n"
     ]
    }
   ],
   "source": [
    "print(type(dic))\n",
    "print(dic)"
   ]
  },
  {
   "cell_type": "code",
   "execution_count": 14,
   "id": "f69c7457-1d03-4517-b2ed-e2e983da3764",
   "metadata": {},
   "outputs": [],
   "source": [
    "# Create a dictionary of car"
   ]
  },
  {
   "cell_type": "code",
   "execution_count": 17,
   "id": "42d11051-8e09-4d21-8269-d9b49ac449ba",
   "metadata": {},
   "outputs": [],
   "source": [
    "car = {\n",
    "    'Brand':'TATA',\n",
    "    'Model':'Tata punch',\n",
    "    'Year':2020,\n",
    "    'Color':'White',\n",
    "    'Fuel':'Diesel'\n",
    "}"
   ]
  },
  {
   "cell_type": "code",
   "execution_count": 18,
   "id": "22e701a3-982e-4f80-8074-f8d3a533f1fd",
   "metadata": {},
   "outputs": [
    {
     "name": "stdout",
     "output_type": "stream",
     "text": [
      "{'Brand': 'TATA', 'Model': 'Tata punch', 'Year': 2020, 'Color': 'White', 'Fuel': 'Diesel'}\n"
     ]
    }
   ],
   "source": [
    "print(car)"
   ]
  },
  {
   "cell_type": "code",
   "execution_count": 20,
   "id": "0e67d00f-ff42-4127-9e41-38b084524f70",
   "metadata": {},
   "outputs": [
    {
     "name": "stdout",
     "output_type": "stream",
     "text": [
      "<class 'dict'>\n"
     ]
    }
   ],
   "source": [
    "print(type(car))"
   ]
  },
  {
   "cell_type": "code",
   "execution_count": 21,
   "id": "25f74a15-1692-4b33-85e5-23a84d324f49",
   "metadata": {},
   "outputs": [
    {
     "name": "stdout",
     "output_type": "stream",
     "text": [
      "5\n"
     ]
    }
   ],
   "source": [
    "print(len(car))"
   ]
  },
  {
   "cell_type": "code",
   "execution_count": 22,
   "id": "290bd196-fc5f-48f3-87b1-d021a6b17158",
   "metadata": {},
   "outputs": [
    {
     "name": "stdout",
     "output_type": "stream",
     "text": [
      "TATA\n"
     ]
    }
   ],
   "source": [
    "print(car['Brand'])"
   ]
  },
  {
   "cell_type": "code",
   "execution_count": 23,
   "id": "8e652010-17f6-4e09-adbc-b211dd3740a7",
   "metadata": {},
   "outputs": [],
   "source": [
    "# How to extract the information "
   ]
  },
  {
   "cell_type": "code",
   "execution_count": 24,
   "id": "dd0b468f-a496-49c4-b026-fa371db02844",
   "metadata": {},
   "outputs": [],
   "source": [
    "# Show the Brand name of car"
   ]
  },
  {
   "cell_type": "code",
   "execution_count": 27,
   "id": "863c0b07-e8c1-4f6c-af98-571e6a9d6c35",
   "metadata": {},
   "outputs": [
    {
     "name": "stdout",
     "output_type": "stream",
     "text": [
      "TATA\n"
     ]
    }
   ],
   "source": [
    "print(car['Brand'])"
   ]
  },
  {
   "cell_type": "code",
   "execution_count": 28,
   "id": "750b7ee3-77ba-4508-86c8-2e272a05cf73",
   "metadata": {},
   "outputs": [
    {
     "name": "stdout",
     "output_type": "stream",
     "text": [
      "Diesel\n"
     ]
    }
   ],
   "source": [
    "print(car['Fuel'])"
   ]
  },
  {
   "cell_type": "code",
   "execution_count": null,
   "id": "4119759a-5e7b-4634-a9df-7df5b08f05cc",
   "metadata": {},
   "outputs": [],
   "source": []
  }
 ],
 "metadata": {
  "kernelspec": {
   "display_name": "Python 3 (ipykernel)",
   "language": "python",
   "name": "python3"
  },
  "language_info": {
   "codemirror_mode": {
    "name": "ipython",
    "version": 3
   },
   "file_extension": ".py",
   "mimetype": "text/x-python",
   "name": "python",
   "nbconvert_exporter": "python",
   "pygments_lexer": "ipython3",
   "version": "3.12.4"
  }
 },
 "nbformat": 4,
 "nbformat_minor": 5
}
