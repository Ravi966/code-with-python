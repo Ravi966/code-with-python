{
 "cells": [
  {
   "cell_type": "code",
   "execution_count": 1,
   "id": "e36be86b-0451-4da8-b23e-43d01277d9a9",
   "metadata": {},
   "outputs": [],
   "source": [
    "# While loop"
   ]
  },
  {
   "cell_type": "code",
   "execution_count": 2,
   "id": "ebe5cfb1-c09c-4fbf-8b63-e66d27b555f7",
   "metadata": {},
   "outputs": [],
   "source": [
    "# Reverse table y user input with while loop"
   ]
  },
  {
   "cell_type": "code",
   "execution_count": 6,
   "id": "5adcb0bb-7106-4626-8a84-9ccffdf8878a",
   "metadata": {},
   "outputs": [
    {
     "name": "stdin",
     "output_type": "stream",
     "text": [
      "Enter the number for the multiplication table:  2\n",
      "Enter the range (limit) for the multiplication table:  10\n"
     ]
    },
    {
     "name": "stdout",
     "output_type": "stream",
     "text": [
      "2 x 10 = 20\n",
      "2 x 9 = 18\n",
      "2 x 8 = 16\n",
      "2 x 7 = 14\n",
      "2 x 6 = 12\n",
      "2 x 5 = 10\n",
      "2 x 4 = 8\n",
      "2 x 3 = 6\n",
      "2 x 2 = 4\n",
      "2 x 1 = 2\n"
     ]
    }
   ],
   "source": [
    "# Ask the user for input\n",
    "n = int(input(\"Enter the number for the multiplication table: \"))\n",
    "l = int(input(\"Enter the range (limit) for the multiplication table: \"))\n",
    "c = l\n",
    "while c >= 1:\n",
    "    print(f\"{n} x {c} = {n * c}\")\n",
    "    c -= 1\n"
   ]
  },
  {
   "cell_type": "code",
   "execution_count": 13,
   "id": "cde2eacc-a53e-410e-a2e6-0c9a33ce4c72",
   "metadata": {},
   "outputs": [],
   "source": [
    "# Write a python program to print all even number with the help of continue statement"
   ]
  },
  {
   "cell_type": "code",
   "execution_count": 5,
   "id": "f51b5c0d-bb67-45f0-a078-5a9eb7fcc69c",
   "metadata": {},
   "outputs": [
    {
     "name": "stdout",
     "output_type": "stream",
     "text": [
      "1 3 5 7 9 11 13 15 17 19 21 "
     ]
    }
   ],
   "source": [
    "x = 0\n",
    "while x<=20:\n",
    "    x+=1\n",
    "    if x%2 ==0:\n",
    "        continue\n",
    "    else:\n",
    "        print(x,end=\" \")\n",
    "   "
   ]
  },
  {
   "cell_type": "markdown",
   "id": "a63f6c8e-54a2-4f3a-9279-7303bfd917c8",
   "metadata": {},
   "source": [
    "#### For Loop :- \n",
    "* For loop are used to iterate the set of statement for a limited tiem"
   ]
  },
  {
   "cell_type": "code",
   "execution_count": 8,
   "id": "3b092c1d-4316-409a-8744-ab0c7c30f96a",
   "metadata": {},
   "outputs": [
    {
     "name": "stdout",
     "output_type": "stream",
     "text": [
      "0\n",
      "1\n",
      "2\n",
      "3\n",
      "4\n",
      "5\n",
      "6\n",
      "7\n",
      "8\n",
      "9\n"
     ]
    }
   ],
   "source": [
    "for i in range(10):\n",
    "    print(i)"
   ]
  },
  {
   "cell_type": "code",
   "execution_count": 12,
   "id": "99201c47-3fdf-44c7-b952-33e40508797f",
   "metadata": {},
   "outputs": [],
   "source": [
    "# Reverse counting 10"
   ]
  },
  {
   "cell_type": "code",
   "execution_count": 13,
   "id": "be8a7081-6c55-4a51-88ac-18340f46dd46",
   "metadata": {},
   "outputs": [
    {
     "name": "stdout",
     "output_type": "stream",
     "text": [
      "10\n",
      "9\n",
      "8\n",
      "7\n",
      "6\n",
      "5\n",
      "4\n",
      "3\n",
      "2\n",
      "1\n"
     ]
    }
   ],
   "source": [
    "for i in range(10,0,-1):\n",
    "    print(i)"
   ]
  },
  {
   "cell_type": "code",
   "execution_count": 14,
   "id": "754f382d-9816-4ba3-89c4-039449a1bd80",
   "metadata": {},
   "outputs": [
    {
     "name": "stdout",
     "output_type": "stream",
     "text": [
      "2\n",
      "5\n",
      "8\n",
      "11\n"
     ]
    }
   ],
   "source": [
    "for i in range(2,12,3):\n",
    "    print(i)"
   ]
  },
  {
   "cell_type": "code",
   "execution_count": 15,
   "id": "da726247-ff19-4220-83da-2a11e4e0adf3",
   "metadata": {},
   "outputs": [],
   "source": [
    "# Write a python program to print all even number between 40 to 50 "
   ]
  },
  {
   "cell_type": "code",
   "execution_count": 18,
   "id": "32e042d7-de54-4f67-b30a-1a662f9eb1d4",
   "metadata": {},
   "outputs": [
    {
     "name": "stdout",
     "output_type": "stream",
     "text": [
      "40 | 42 | 44 | 46 | 48 | "
     ]
    }
   ],
   "source": [
    "for i in range(40,51):\n",
    "    if i%"
   ]
  },
  {
   "cell_type": "code",
   "execution_count": 16,
   "id": "c11ab34d-a178-4eba-88d9-233e281ea13c",
   "metadata": {},
   "outputs": [],
   "source": [
    "# Write a python program to print all odd number from 100 to 80"
   ]
  },
  {
   "cell_type": "code",
   "execution_count": 19,
   "id": "80115704-0315-4e86-b8e5-e1c716330e8e",
   "metadata": {},
   "outputs": [
    {
     "name": "stdout",
     "output_type": "stream",
     "text": [
      "99 | 97 | 95 | 93 | 91 | 89 | 87 | 85 | 83 | 81 | "
     ]
    }
   ],
   "source": [
    "for i in range(100,80,-1):\n",
    "    if i%2 !=0:\n",
    "        print(i,end=\" | \")"
   ]
  },
  {
   "cell_type": "code",
   "execution_count": 20,
   "id": "744d95ff-9555-429d-9032-1c3aae5cc666",
   "metadata": {},
   "outputs": [],
   "source": [
    "# Write a python program to print all number from 400 to 500 which divisible by 5 and 3"
   ]
  },
  {
   "cell_type": "code",
   "execution_count": 22,
   "id": "50c74786-0d50-43cb-a11b-e6cc699211ef",
   "metadata": {},
   "outputs": [
    {
     "name": "stdout",
     "output_type": "stream",
     "text": [
      "405 | 420 | 435 | 450 | 465 | 480 | 495 | "
     ]
    }
   ],
   "source": [
    "for i in range(400,500):\n",
    "    if i%5 ==0 and i%3 ==0:\n",
    "        print(i,end=\" | \")"
   ]
  },
  {
   "cell_type": "code",
   "execution_count": 21,
   "id": "36d0b211-0d59-4e6b-9a23-09838f27d3da",
   "metadata": {},
   "outputs": [],
   "source": [
    "# Write a python program with the help of user input to skip the number which divisible by 2 or 3 from 10  to 30"
   ]
  },
  {
   "cell_type": "code",
   "execution_count": 35,
   "id": "290c0748-04b2-4b5e-b5ec-1d4ea568dd29",
   "metadata": {},
   "outputs": [
    {
     "name": "stdin",
     "output_type": "stream",
     "text": [
      "Enter the Minimum number :-  1\n",
      "Enter the Maximum Number :-  30\n"
     ]
    },
    {
     "name": "stdout",
     "output_type": "stream",
     "text": [
      "1 | 5 | 7 | 11 | 13 | 17 | 19 | 23 | 25 | 29 | "
     ]
    }
   ],
   "source": [
    "x = int(input('Enter the Minimum number :- '))\n",
    "y = int(input('Enter the Maximum Number :- '))+1\n",
    "for i in range(x,y):\n",
    "    if (i%2 ==0) or (i%3 ==0):\n",
    "        continue\n",
    "    else:\n",
    "        print(i,end=\" | \")"
   ]
  },
  {
   "cell_type": "code",
   "execution_count": 38,
   "id": "b0737228-2cd1-4f06-9b5e-df8773b8546c",
   "metadata": {},
   "outputs": [],
   "source": [
    "# (OR)"
   ]
  },
  {
   "cell_type": "code",
   "execution_count": 39,
   "id": "08fb2a98-9168-404d-9599-15550786912c",
   "metadata": {},
   "outputs": [
    {
     "name": "stdin",
     "output_type": "stream",
     "text": [
      "Enter the Minimum number :-  1\n",
      "Enter the Maximum Number :-  30\n"
     ]
    },
    {
     "name": "stdout",
     "output_type": "stream",
     "text": [
      "1 | 5 | 7 | 11 | 13 | 17 | 19 | 23 | 25 | 29 | "
     ]
    }
   ],
   "source": [
    "x = int(input('Enter the Minimum number :- '))\n",
    "y = int(input('Enter the Maximum Number :- '))+1\n",
    "for i in range(x,y):\n",
    "    if (i%2 !=0) and (i%3 !=0):\n",
    "        print(i,end=\" | \")"
   ]
  },
  {
   "cell_type": "code",
   "execution_count": 40,
   "id": "5c1c4d12-a2ca-4fcc-abc8-0c8a19ab98fc",
   "metadata": {},
   "outputs": [],
   "source": [
    "# Write a python program to count total even number from 1 to 30 "
   ]
  },
  {
   "cell_type": "code",
   "execution_count": 74,
   "id": "4a306dcf-57aa-4528-a66d-62da9d47aefa",
   "metadata": {},
   "outputs": [
    {
     "name": "stdout",
     "output_type": "stream",
     "text": [
      "Total Even Number : -15\n"
     ]
    }
   ],
   "source": [
    "c = 0\n",
    "for i in range(1,31):\n",
    "    if i%2 ==0:\n",
    "        c+=1\n",
    "print(f'Total Even Number : -{c}') "
   ]
  },
  {
   "cell_type": "code",
   "execution_count": 41,
   "id": "d1d42022-79bd-4aa2-8ddd-2f80e6d07a14",
   "metadata": {},
   "outputs": [],
   "source": [
    "# Write a python program to count all number which is divisible by 4 and 5 from 40 to 80"
   ]
  },
  {
   "cell_type": "code",
   "execution_count": 78,
   "id": "89cfd434-1a0f-4bf7-a22b-59222bdfc10a",
   "metadata": {},
   "outputs": [
    {
     "name": "stdout",
     "output_type": "stream",
     "text": [
      "3\n"
     ]
    }
   ],
   "source": [
    "c = 0\n",
    "for i in range(40,81):\n",
    "    if (i%4 ==0) and (i%5 ==0):\n",
    "        c+=1\n",
    "print(c)\n",
    "    "
   ]
  },
  {
   "cell_type": "code",
   "execution_count": 42,
   "id": "fb719dfe-1bde-4883-8358-be98d13f9868",
   "metadata": {},
   "outputs": [],
   "source": [
    "# Write a python program to print 10 time your name"
   ]
  },
  {
   "cell_type": "code",
   "execution_count": 50,
   "id": "7122776f-fb9c-4227-91e6-581b74f0d75a",
   "metadata": {},
   "outputs": [
    {
     "name": "stdout",
     "output_type": "stream",
     "text": [
      "Ravi : - 1\n",
      "Ravi : - 2\n",
      "Ravi : - 3\n",
      "Ravi : - 4\n",
      "Ravi : - 5\n",
      "Ravi : - 6\n",
      "Ravi : - 7\n",
      "Ravi : - 8\n",
      "Ravi : - 9\n",
      "Ravi : - 10\n"
     ]
    }
   ],
   "source": [
    "for i in range(1,11):\n",
    "    print('Ravi : -',i)"
   ]
  },
  {
   "cell_type": "code",
   "execution_count": 51,
   "id": "94321646-67fe-4b2e-bacc-7d9663839d1b",
   "metadata": {},
   "outputs": [],
   "source": [
    "# Write a python program to print all leap year from 1947 to 2025"
   ]
  },
  {
   "cell_type": "code",
   "execution_count": 81,
   "id": "42d0e180-f15b-44d4-9efd-928d3135ecee",
   "metadata": {},
   "outputs": [
    {
     "name": "stdout",
     "output_type": "stream",
     "text": [
      "1948 is Leap year\n",
      "~~~~~~~~~~~~~~~~~~~~~~~~~~~~~~~~~~~~~~~~~~~~~~~~~~~~~~~~~~~~~~~~~~~~~~~~~~~~~~~~~~~~~~~~~~~~~~~~~~~~~~~~~~~~~~~~~~~~~~~~~~~~~~~~~~~~~~~~~~~~~~~~~~~~~~\n",
      "1952 is Leap year\n",
      "~~~~~~~~~~~~~~~~~~~~~~~~~~~~~~~~~~~~~~~~~~~~~~~~~~~~~~~~~~~~~~~~~~~~~~~~~~~~~~~~~~~~~~~~~~~~~~~~~~~~~~~~~~~~~~~~~~~~~~~~~~~~~~~~~~~~~~~~~~~~~~~~~~~~~~\n",
      "1956 is Leap year\n",
      "~~~~~~~~~~~~~~~~~~~~~~~~~~~~~~~~~~~~~~~~~~~~~~~~~~~~~~~~~~~~~~~~~~~~~~~~~~~~~~~~~~~~~~~~~~~~~~~~~~~~~~~~~~~~~~~~~~~~~~~~~~~~~~~~~~~~~~~~~~~~~~~~~~~~~~\n",
      "1960 is Leap year\n",
      "~~~~~~~~~~~~~~~~~~~~~~~~~~~~~~~~~~~~~~~~~~~~~~~~~~~~~~~~~~~~~~~~~~~~~~~~~~~~~~~~~~~~~~~~~~~~~~~~~~~~~~~~~~~~~~~~~~~~~~~~~~~~~~~~~~~~~~~~~~~~~~~~~~~~~~\n",
      "1964 is Leap year\n",
      "~~~~~~~~~~~~~~~~~~~~~~~~~~~~~~~~~~~~~~~~~~~~~~~~~~~~~~~~~~~~~~~~~~~~~~~~~~~~~~~~~~~~~~~~~~~~~~~~~~~~~~~~~~~~~~~~~~~~~~~~~~~~~~~~~~~~~~~~~~~~~~~~~~~~~~\n",
      "1968 is Leap year\n",
      "~~~~~~~~~~~~~~~~~~~~~~~~~~~~~~~~~~~~~~~~~~~~~~~~~~~~~~~~~~~~~~~~~~~~~~~~~~~~~~~~~~~~~~~~~~~~~~~~~~~~~~~~~~~~~~~~~~~~~~~~~~~~~~~~~~~~~~~~~~~~~~~~~~~~~~\n",
      "1972 is Leap year\n",
      "~~~~~~~~~~~~~~~~~~~~~~~~~~~~~~~~~~~~~~~~~~~~~~~~~~~~~~~~~~~~~~~~~~~~~~~~~~~~~~~~~~~~~~~~~~~~~~~~~~~~~~~~~~~~~~~~~~~~~~~~~~~~~~~~~~~~~~~~~~~~~~~~~~~~~~\n",
      "1976 is Leap year\n",
      "~~~~~~~~~~~~~~~~~~~~~~~~~~~~~~~~~~~~~~~~~~~~~~~~~~~~~~~~~~~~~~~~~~~~~~~~~~~~~~~~~~~~~~~~~~~~~~~~~~~~~~~~~~~~~~~~~~~~~~~~~~~~~~~~~~~~~~~~~~~~~~~~~~~~~~\n",
      "1980 is Leap year\n",
      "~~~~~~~~~~~~~~~~~~~~~~~~~~~~~~~~~~~~~~~~~~~~~~~~~~~~~~~~~~~~~~~~~~~~~~~~~~~~~~~~~~~~~~~~~~~~~~~~~~~~~~~~~~~~~~~~~~~~~~~~~~~~~~~~~~~~~~~~~~~~~~~~~~~~~~\n",
      "1984 is Leap year\n",
      "~~~~~~~~~~~~~~~~~~~~~~~~~~~~~~~~~~~~~~~~~~~~~~~~~~~~~~~~~~~~~~~~~~~~~~~~~~~~~~~~~~~~~~~~~~~~~~~~~~~~~~~~~~~~~~~~~~~~~~~~~~~~~~~~~~~~~~~~~~~~~~~~~~~~~~\n",
      "1988 is Leap year\n",
      "~~~~~~~~~~~~~~~~~~~~~~~~~~~~~~~~~~~~~~~~~~~~~~~~~~~~~~~~~~~~~~~~~~~~~~~~~~~~~~~~~~~~~~~~~~~~~~~~~~~~~~~~~~~~~~~~~~~~~~~~~~~~~~~~~~~~~~~~~~~~~~~~~~~~~~\n",
      "1992 is Leap year\n",
      "~~~~~~~~~~~~~~~~~~~~~~~~~~~~~~~~~~~~~~~~~~~~~~~~~~~~~~~~~~~~~~~~~~~~~~~~~~~~~~~~~~~~~~~~~~~~~~~~~~~~~~~~~~~~~~~~~~~~~~~~~~~~~~~~~~~~~~~~~~~~~~~~~~~~~~\n",
      "1996 is Leap year\n",
      "~~~~~~~~~~~~~~~~~~~~~~~~~~~~~~~~~~~~~~~~~~~~~~~~~~~~~~~~~~~~~~~~~~~~~~~~~~~~~~~~~~~~~~~~~~~~~~~~~~~~~~~~~~~~~~~~~~~~~~~~~~~~~~~~~~~~~~~~~~~~~~~~~~~~~~\n",
      "2000 is Leap year\n",
      "~~~~~~~~~~~~~~~~~~~~~~~~~~~~~~~~~~~~~~~~~~~~~~~~~~~~~~~~~~~~~~~~~~~~~~~~~~~~~~~~~~~~~~~~~~~~~~~~~~~~~~~~~~~~~~~~~~~~~~~~~~~~~~~~~~~~~~~~~~~~~~~~~~~~~~\n",
      "2004 is Leap year\n",
      "~~~~~~~~~~~~~~~~~~~~~~~~~~~~~~~~~~~~~~~~~~~~~~~~~~~~~~~~~~~~~~~~~~~~~~~~~~~~~~~~~~~~~~~~~~~~~~~~~~~~~~~~~~~~~~~~~~~~~~~~~~~~~~~~~~~~~~~~~~~~~~~~~~~~~~\n",
      "2008 is Leap year\n",
      "~~~~~~~~~~~~~~~~~~~~~~~~~~~~~~~~~~~~~~~~~~~~~~~~~~~~~~~~~~~~~~~~~~~~~~~~~~~~~~~~~~~~~~~~~~~~~~~~~~~~~~~~~~~~~~~~~~~~~~~~~~~~~~~~~~~~~~~~~~~~~~~~~~~~~~\n",
      "2012 is Leap year\n",
      "~~~~~~~~~~~~~~~~~~~~~~~~~~~~~~~~~~~~~~~~~~~~~~~~~~~~~~~~~~~~~~~~~~~~~~~~~~~~~~~~~~~~~~~~~~~~~~~~~~~~~~~~~~~~~~~~~~~~~~~~~~~~~~~~~~~~~~~~~~~~~~~~~~~~~~\n",
      "2016 is Leap year\n",
      "~~~~~~~~~~~~~~~~~~~~~~~~~~~~~~~~~~~~~~~~~~~~~~~~~~~~~~~~~~~~~~~~~~~~~~~~~~~~~~~~~~~~~~~~~~~~~~~~~~~~~~~~~~~~~~~~~~~~~~~~~~~~~~~~~~~~~~~~~~~~~~~~~~~~~~\n",
      "2020 is Leap year\n",
      "~~~~~~~~~~~~~~~~~~~~~~~~~~~~~~~~~~~~~~~~~~~~~~~~~~~~~~~~~~~~~~~~~~~~~~~~~~~~~~~~~~~~~~~~~~~~~~~~~~~~~~~~~~~~~~~~~~~~~~~~~~~~~~~~~~~~~~~~~~~~~~~~~~~~~~\n",
      "2024 is Leap year\n",
      "~~~~~~~~~~~~~~~~~~~~~~~~~~~~~~~~~~~~~~~~~~~~~~~~~~~~~~~~~~~~~~~~~~~~~~~~~~~~~~~~~~~~~~~~~~~~~~~~~~~~~~~~~~~~~~~~~~~~~~~~~~~~~~~~~~~~~~~~~~~~~~~~~~~~~~\n"
     ]
    }
   ],
   "source": [
    "for i in range(1947,2025):\n",
    "    if i%4 ==0:\n",
    "        print(f'{i} is Leap year')\n",
    "        print('~'*150)"
   ]
  },
  {
   "cell_type": "code",
   "execution_count": 82,
   "id": "585f303c-49a1-4ac3-b61e-14b47f06c09a",
   "metadata": {},
   "outputs": [
    {
     "name": "stdout",
     "output_type": "stream",
     "text": [
      "D\n",
      "e\n",
      "l\n",
      "h\n",
      "i\n"
     ]
    }
   ],
   "source": [
    "x = 'Delhi'\n",
    "for i in x:\n",
    "    print(i)"
   ]
  },
  {
   "cell_type": "code",
   "execution_count": 83,
   "id": "e853c3ea-b674-4920-b5d9-119917fd2f15",
   "metadata": {},
   "outputs": [
    {
     "name": "stdout",
     "output_type": "stream",
     "text": [
      "d\n",
      "e\n",
      "l\n",
      "h\n",
      "i\n"
     ]
    }
   ],
   "source": [
    "# 1\n",
    "x = 'Delhi'\n",
    "x = x.lower()\n",
    "for i in x:\n",
    "    print(i)"
   ]
  },
  {
   "cell_type": "code",
   "execution_count": 84,
   "id": "b3bf8a52-625b-4a1b-b77f-5e274ddd691c",
   "metadata": {},
   "outputs": [
    {
     "name": "stdout",
     "output_type": "stream",
     "text": [
      "d\n",
      "e\n",
      "l\n",
      "h\n",
      "i\n"
     ]
    }
   ],
   "source": [
    "# 2\n",
    "x = 'Delhi'\n",
    "for i in x.lower():\n",
    "    print(i)"
   ]
  },
  {
   "cell_type": "code",
   "execution_count": 85,
   "id": "71e62b72-f225-4750-9970-555f69d26dd7",
   "metadata": {},
   "outputs": [
    {
     "name": "stdout",
     "output_type": "stream",
     "text": [
      "d\n",
      "e\n",
      "l\n",
      "h\n",
      "i\n"
     ]
    }
   ],
   "source": [
    "# 3\n",
    "x = 'Delhi'.lower()\n",
    "for i in x:\n",
    "    print(i)"
   ]
  },
  {
   "cell_type": "code",
   "execution_count": 87,
   "id": "1875b503-91e5-42c3-ae74-d58f4e1e3316",
   "metadata": {},
   "outputs": [
    {
     "name": "stdout",
     "output_type": "stream",
     "text": [
      "d\n",
      "e\n",
      "l\n",
      "h\n",
      "i\n"
     ]
    }
   ],
   "source": [
    "# 4\n",
    "x = 'Delhi'\n",
    "for i in x:\n",
    "    print(i.lower())"
   ]
  },
  {
   "cell_type": "code",
   "execution_count": null,
   "id": "c0bf1ccd-1d37-4971-a561-b81aff613a58",
   "metadata": {},
   "outputs": [],
   "source": []
  }
 ],
 "metadata": {
  "kernelspec": {
   "display_name": "Python 3 (ipykernel)",
   "language": "python",
   "name": "python3"
  },
  "language_info": {
   "codemirror_mode": {
    "name": "ipython",
    "version": 3
   },
   "file_extension": ".py",
   "mimetype": "text/x-python",
   "name": "python",
   "nbconvert_exporter": "python",
   "pygments_lexer": "ipython3",
   "version": "3.12.4"
  }
 },
 "nbformat": 4,
 "nbformat_minor": 5
}
