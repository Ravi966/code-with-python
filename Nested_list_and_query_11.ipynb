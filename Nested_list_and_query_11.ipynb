{
 "cells": [
  {
   "cell_type": "code",
   "execution_count": 1,
   "id": "ce508b5c-abe1-401f-a54d-f1c9d16c4253",
   "metadata": {},
   "outputs": [],
   "source": [
    "# Nested List "
   ]
  },
  {
   "cell_type": "code",
   "execution_count": 2,
   "id": "447afdce-5d8c-426a-98ec-f22d72a5b1f0",
   "metadata": {},
   "outputs": [],
   "source": [
    "x = [\"Yes\",\"No\",[\"High\",\"Low\"],\"Mid\"]"
   ]
  },
  {
   "cell_type": "code",
   "execution_count": 3,
   "id": "0d9b0c5b-c21b-4d1d-9a5b-6a2b07650cd2",
   "metadata": {},
   "outputs": [
    {
     "name": "stdout",
     "output_type": "stream",
     "text": [
      "['Yes', 'No', ['High', 'Low'], 'Mid']\n",
      "4\n"
     ]
    }
   ],
   "source": [
    "print(x)\n",
    "print(len(x))\n"
   ]
  },
  {
   "cell_type": "code",
   "execution_count": 4,
   "id": "7ffcfbd0-cd80-4cf5-a02d-080378a8dc94",
   "metadata": {},
   "outputs": [],
   "source": [
    "# Text Extracation"
   ]
  },
  {
   "cell_type": "code",
   "execution_count": 5,
   "id": "b4dbeca1-45a1-4510-a0f3-65407c62ef1b",
   "metadata": {},
   "outputs": [
    {
     "data": {
      "text/plain": [
       "'No'"
      ]
     },
     "execution_count": 5,
     "metadata": {},
     "output_type": "execute_result"
    }
   ],
   "source": [
    "# No\n",
    "x[1]"
   ]
  },
  {
   "cell_type": "code",
   "execution_count": 6,
   "id": "cf765b79-f537-47bc-8db7-10913fba4123",
   "metadata": {},
   "outputs": [],
   "source": [
    "# Low"
   ]
  },
  {
   "cell_type": "code",
   "execution_count": 8,
   "id": "2a5c054f-9514-4c25-b3ac-0419124f0e59",
   "metadata": {},
   "outputs": [
    {
     "name": "stdout",
     "output_type": "stream",
     "text": [
      "Low\n"
     ]
    }
   ],
   "source": [
    "y = x[2]\n",
    "print(y[1])"
   ]
  },
  {
   "cell_type": "code",
   "execution_count": 10,
   "id": "cb3b1731-8f29-42d9-b882-44bd3277f932",
   "metadata": {},
   "outputs": [
    {
     "name": "stdout",
     "output_type": "stream",
     "text": [
      "Low\n"
     ]
    }
   ],
   "source": [
    "print(x[2][1])"
   ]
  },
  {
   "cell_type": "code",
   "execution_count": 13,
   "id": "48572b27-2541-43af-8c05-3cf756f0df11",
   "metadata": {},
   "outputs": [],
   "source": [
    "x = [[12,34,[98,87,65],100,200],500,900]"
   ]
  },
  {
   "cell_type": "code",
   "execution_count": 15,
   "id": "939de4c3-6c77-410b-a26c-fb1f18c14d6d",
   "metadata": {},
   "outputs": [],
   "source": [
    "# 1.  200\n",
    "# 2.  98\n",
    "# 3. 12\n",
    "# 4. 900\n",
    "# 5. 34\n",
    "# 6. 87\n",
    "# 7. 500\n",
    "# 8. 65"
   ]
  },
  {
   "cell_type": "code",
   "execution_count": 42,
   "id": "7f318ce9-bda5-449f-9ccb-9bbcdac34f69",
   "metadata": {},
   "outputs": [
    {
     "name": "stdout",
     "output_type": "stream",
     "text": [
      "1.  200\n",
      "2.  98\n",
      "3.  12\n",
      "4.  900\n",
      "5.  34\n",
      "6.  87\n",
      "7.  500\n",
      "8.  65\n"
     ]
    }
   ],
   "source": [
    "print('1. ',x[0][4])\n",
    "print('2. ',x[0][2][0])\n",
    "print('3. ',x[0][0])\n",
    "print('4. ',x[-1])\n",
    "print('5. ',x[0][1])\n",
    "print('6. ',x[0][2][1])\n",
    "print('7. ',x[1])\n",
    "print('8. ',x[0][2][-1])"
   ]
  },
  {
   "cell_type": "code",
   "execution_count": 45,
   "id": "3944eefe-b4e9-4a94-a322-61d33b56e9aa",
   "metadata": {},
   "outputs": [],
   "source": [
    "x = [20,30,[1,2,3],40]"
   ]
  },
  {
   "cell_type": "code",
   "execution_count": 52,
   "id": "a24d8f45-dc92-4cec-b5dc-88a2c9ef8191",
   "metadata": {},
   "outputs": [
    {
     "name": "stdout",
     "output_type": "stream",
     "text": [
      "1.  3\n",
      "2.  40\n",
      "3.  30\n",
      "4.  1\n"
     ]
    }
   ],
   "source": [
    "print('1. ',x[2][-1])\n",
    "print('2. ',x[-1])\n",
    "print('3. ',x[1])\n",
    "print('4. ',x[2][0])"
   ]
  },
  {
   "cell_type": "code",
   "execution_count": 53,
   "id": "c7e99cd9-bf04-46a7-ae14-86ff5ceaa9e9",
   "metadata": {},
   "outputs": [],
   "source": [
    "x = [[24,60,80],[90,70,],[1,2,3]]"
   ]
  },
  {
   "cell_type": "code",
   "execution_count": 68,
   "id": "9fa43046-9364-4f89-8f57-f6635e859b2c",
   "metadata": {},
   "outputs": [
    {
     "name": "stdout",
     "output_type": "stream",
     "text": [
      "1.  70\n",
      "2.  60\n",
      "3.  2\n",
      "4.  90\n",
      "5.  24\n",
      "6.  1\n"
     ]
    }
   ],
   "source": [
    "print('1. ',x[1][-1])\n",
    "print('2. ',x[0][1])\n",
    "print('3. ',x[-1][1])\n",
    "print('4. ',x[1][0])\n",
    "print('5. ',x[0][0])\n",
    "print('6. ',x[-1][0])"
   ]
  },
  {
   "cell_type": "code",
   "execution_count": 69,
   "id": "16f3df29-e848-4a01-9603-8516663553f1",
   "metadata": {},
   "outputs": [],
   "source": [
    "x = [[[0,1,2,3]]]"
   ]
  },
  {
   "cell_type": "code",
   "execution_count": 88,
   "id": "86643d2c-73ed-46c2-84be-42b3feb4ec37",
   "metadata": {},
   "outputs": [
    {
     "name": "stdout",
     "output_type": "stream",
     "text": [
      "2\n",
      "[3, 2]\n"
     ]
    }
   ],
   "source": [
    "print(x[0][0][2])\n",
    "print(x[0][0][-1:-3:-1])"
   ]
  },
  {
   "cell_type": "code",
   "execution_count": 93,
   "id": "9fc08f9c-a474-4535-b4c3-95a148b7d670",
   "metadata": {},
   "outputs": [],
   "source": [
    "x = [[24,40,[100,200]],60]"
   ]
  },
  {
   "cell_type": "code",
   "execution_count": 131,
   "id": "83bb57b0-ca56-45d6-92c8-7c717197f690",
   "metadata": {},
   "outputs": [
    {
     "name": "stdout",
     "output_type": "stream",
     "text": [
      "[24, 40]\n",
      "[100, 200]\n",
      "[40, 60]\n"
     ]
    }
   ],
   "source": [
    "print(x[0][0:2])\n",
    "print(x[0][2])\n",
    "y = [x[0][1]]\n",
    "y.append(x[-1])\n",
    "print(y)"
   ]
  },
  {
   "cell_type": "code",
   "execution_count": 213,
   "id": "e883c419-bfce-45bc-a7c2-485444153a89",
   "metadata": {},
   "outputs": [],
   "source": [
    "x = [[24,40,[100,200]],60]"
   ]
  },
  {
   "cell_type": "code",
   "execution_count": 214,
   "id": "8cf25f55-f5f4-4935-876b-3d854edb950c",
   "metadata": {},
   "outputs": [],
   "source": [
    "x = str(x)"
   ]
  },
  {
   "cell_type": "code",
   "execution_count": 215,
   "id": "b07937e5-1d74-4515-b91d-79754c4bbc13",
   "metadata": {},
   "outputs": [],
   "source": [
    "x = x.replace(\"[\",\"\")"
   ]
  },
  {
   "cell_type": "code",
   "execution_count": 216,
   "id": "decc405b-249d-4870-a8e9-8eac19850c19",
   "metadata": {},
   "outputs": [],
   "source": [
    "x = x.replace(\"]\",\"\")\n",
    "x = x.replace(\",\",\"\")"
   ]
  },
  {
   "cell_type": "code",
   "execution_count": 217,
   "id": "5a71bc4c-a2b8-478b-aeae-ab07d7048eae",
   "metadata": {},
   "outputs": [
    {
     "data": {
      "text/plain": [
       "['24', '40', '100', '200', '60']"
      ]
     },
     "execution_count": 217,
     "metadata": {},
     "output_type": "execute_result"
    }
   ],
   "source": [
    "x.split()\n"
   ]
  },
  {
   "cell_type": "code",
   "execution_count": 222,
   "id": "34d8338b-2437-43a9-8ac1-931e2080816e",
   "metadata": {},
   "outputs": [
    {
     "name": "stdout",
     "output_type": "stream",
     "text": [
      "<class 'list'>\n"
     ]
    }
   ],
   "source": [
    "x = list(x)\n",
    "print(type(x))"
   ]
  },
  {
   "cell_type": "code",
   "execution_count": null,
   "id": "8a382bd8-b6cd-43e1-97ae-7a99b7417592",
   "metadata": {},
   "outputs": [],
   "source": []
  },
  {
   "cell_type": "code",
   "execution_count": null,
   "id": "1764c116-c86e-4dea-ad32-0ff497a5e408",
   "metadata": {},
   "outputs": [],
   "source": []
  },
  {
   "cell_type": "code",
   "execution_count": null,
   "id": "fd0cabca-9c2c-4a62-8302-5c545224f28f",
   "metadata": {},
   "outputs": [],
   "source": []
  },
  {
   "cell_type": "code",
   "execution_count": null,
   "id": "43da72cd-b749-4ed0-80b5-be50f0d5dfde",
   "metadata": {},
   "outputs": [],
   "source": []
  },
  {
   "cell_type": "code",
   "execution_count": null,
   "id": "07805233-354f-410f-b6b6-6be8e40f02d4",
   "metadata": {},
   "outputs": [],
   "source": []
  },
  {
   "cell_type": "code",
   "execution_count": null,
   "id": "232d3e34-5be8-4603-a630-65a280d4a805",
   "metadata": {},
   "outputs": [],
   "source": []
  }
 ],
 "metadata": {
  "kernelspec": {
   "display_name": "Python 3 (ipykernel)",
   "language": "python",
   "name": "python3"
  },
  "language_info": {
   "codemirror_mode": {
    "name": "ipython",
    "version": 3
   },
   "file_extension": ".py",
   "mimetype": "text/x-python",
   "name": "python",
   "nbconvert_exporter": "python",
   "pygments_lexer": "ipython3",
   "version": "3.12.4"
  }
 },
 "nbformat": 4,
 "nbformat_minor": 5
}
